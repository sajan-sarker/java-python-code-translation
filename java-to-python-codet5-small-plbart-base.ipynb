{
  "metadata": {
    "kernelspec": {
      "name": "python3",
      "display_name": "Python 3",
      "language": "python"
    },
    "language_info": {
      "name": "python",
      "version": "3.11.11",
      "mimetype": "text/x-python",
      "codemirror_mode": {
        "name": "ipython",
        "version": 3
      },
      "pygments_lexer": "ipython3",
      "nbconvert_exporter": "python",
      "file_extension": ".py"
    },
    "kaggle": {
      "accelerator": "nvidiaTeslaT4",
      "dataSources": [],
      "dockerImageVersionId": 31041,
      "isInternetEnabled": true,
      "language": "python",
      "sourceType": "notebook",
      "isGpuEnabled": true
    },
    "colab": {
      "provenance": [],
      "gpuType": "T4",
      "include_colab_link": true
    },
    "accelerator": "GPU",
    "widgets": {
      "application/vnd.jupyter.widget-state+json": {
        "341f9a46625f44fc9c6bf414e531b0cc": {
          "model_module": "@jupyter-widgets/controls",
          "model_name": "HBoxModel",
          "model_module_version": "1.5.0",
          "state": {
            "_dom_classes": [],
            "_model_module": "@jupyter-widgets/controls",
            "_model_module_version": "1.5.0",
            "_model_name": "HBoxModel",
            "_view_count": null,
            "_view_module": "@jupyter-widgets/controls",
            "_view_module_version": "1.5.0",
            "_view_name": "HBoxView",
            "box_style": "",
            "children": [
              "IPY_MODEL_4b929e8216204204adb35aac7423ca4d",
              "IPY_MODEL_f843b5de62ae4cfc89ec5cdb0ddb2e3d",
              "IPY_MODEL_8aeff21af2e74a6d92d904d798149fbd"
            ],
            "layout": "IPY_MODEL_5083207300524ea4aa76265b53f935dd"
          }
        },
        "4b929e8216204204adb35aac7423ca4d": {
          "model_module": "@jupyter-widgets/controls",
          "model_name": "HTMLModel",
          "model_module_version": "1.5.0",
          "state": {
            "_dom_classes": [],
            "_model_module": "@jupyter-widgets/controls",
            "_model_module_version": "1.5.0",
            "_model_name": "HTMLModel",
            "_view_count": null,
            "_view_module": "@jupyter-widgets/controls",
            "_view_module_version": "1.5.0",
            "_view_name": "HTMLView",
            "description": "",
            "description_tooltip": null,
            "layout": "IPY_MODEL_2722384ec54843619aaf77ddf8ab8098",
            "placeholder": "​",
            "style": "IPY_MODEL_a5d79a05b0994c3093761ac32537c36d",
            "value": "tokenizer_config.json: 100%"
          }
        },
        "f843b5de62ae4cfc89ec5cdb0ddb2e3d": {
          "model_module": "@jupyter-widgets/controls",
          "model_name": "FloatProgressModel",
          "model_module_version": "1.5.0",
          "state": {
            "_dom_classes": [],
            "_model_module": "@jupyter-widgets/controls",
            "_model_module_version": "1.5.0",
            "_model_name": "FloatProgressModel",
            "_view_count": null,
            "_view_module": "@jupyter-widgets/controls",
            "_view_module_version": "1.5.0",
            "_view_name": "ProgressView",
            "bar_style": "success",
            "description": "",
            "description_tooltip": null,
            "layout": "IPY_MODEL_09092da92cae4d218810f595c9a349ad",
            "max": 1477,
            "min": 0,
            "orientation": "horizontal",
            "style": "IPY_MODEL_d1b761df2e3e4d33a89a53b427eb8b47",
            "value": 1477
          }
        },
        "8aeff21af2e74a6d92d904d798149fbd": {
          "model_module": "@jupyter-widgets/controls",
          "model_name": "HTMLModel",
          "model_module_version": "1.5.0",
          "state": {
            "_dom_classes": [],
            "_model_module": "@jupyter-widgets/controls",
            "_model_module_version": "1.5.0",
            "_model_name": "HTMLModel",
            "_view_count": null,
            "_view_module": "@jupyter-widgets/controls",
            "_view_module_version": "1.5.0",
            "_view_name": "HTMLView",
            "description": "",
            "description_tooltip": null,
            "layout": "IPY_MODEL_098550e62ad14e0eb2eac0ccbcf428af",
            "placeholder": "​",
            "style": "IPY_MODEL_da1e80edd9954461b3a04686e7a7dee0",
            "value": " 1.48k/1.48k [00:00&lt;00:00, 70.3kB/s]"
          }
        },
        "5083207300524ea4aa76265b53f935dd": {
          "model_module": "@jupyter-widgets/base",
          "model_name": "LayoutModel",
          "model_module_version": "1.2.0",
          "state": {
            "_model_module": "@jupyter-widgets/base",
            "_model_module_version": "1.2.0",
            "_model_name": "LayoutModel",
            "_view_count": null,
            "_view_module": "@jupyter-widgets/base",
            "_view_module_version": "1.2.0",
            "_view_name": "LayoutView",
            "align_content": null,
            "align_items": null,
            "align_self": null,
            "border": null,
            "bottom": null,
            "display": null,
            "flex": null,
            "flex_flow": null,
            "grid_area": null,
            "grid_auto_columns": null,
            "grid_auto_flow": null,
            "grid_auto_rows": null,
            "grid_column": null,
            "grid_gap": null,
            "grid_row": null,
            "grid_template_areas": null,
            "grid_template_columns": null,
            "grid_template_rows": null,
            "height": null,
            "justify_content": null,
            "justify_items": null,
            "left": null,
            "margin": null,
            "max_height": null,
            "max_width": null,
            "min_height": null,
            "min_width": null,
            "object_fit": null,
            "object_position": null,
            "order": null,
            "overflow": null,
            "overflow_x": null,
            "overflow_y": null,
            "padding": null,
            "right": null,
            "top": null,
            "visibility": null,
            "width": null
          }
        },
        "2722384ec54843619aaf77ddf8ab8098": {
          "model_module": "@jupyter-widgets/base",
          "model_name": "LayoutModel",
          "model_module_version": "1.2.0",
          "state": {
            "_model_module": "@jupyter-widgets/base",
            "_model_module_version": "1.2.0",
            "_model_name": "LayoutModel",
            "_view_count": null,
            "_view_module": "@jupyter-widgets/base",
            "_view_module_version": "1.2.0",
            "_view_name": "LayoutView",
            "align_content": null,
            "align_items": null,
            "align_self": null,
            "border": null,
            "bottom": null,
            "display": null,
            "flex": null,
            "flex_flow": null,
            "grid_area": null,
            "grid_auto_columns": null,
            "grid_auto_flow": null,
            "grid_auto_rows": null,
            "grid_column": null,
            "grid_gap": null,
            "grid_row": null,
            "grid_template_areas": null,
            "grid_template_columns": null,
            "grid_template_rows": null,
            "height": null,
            "justify_content": null,
            "justify_items": null,
            "left": null,
            "margin": null,
            "max_height": null,
            "max_width": null,
            "min_height": null,
            "min_width": null,
            "object_fit": null,
            "object_position": null,
            "order": null,
            "overflow": null,
            "overflow_x": null,
            "overflow_y": null,
            "padding": null,
            "right": null,
            "top": null,
            "visibility": null,
            "width": null
          }
        },
        "a5d79a05b0994c3093761ac32537c36d": {
          "model_module": "@jupyter-widgets/controls",
          "model_name": "DescriptionStyleModel",
          "model_module_version": "1.5.0",
          "state": {
            "_model_module": "@jupyter-widgets/controls",
            "_model_module_version": "1.5.0",
            "_model_name": "DescriptionStyleModel",
            "_view_count": null,
            "_view_module": "@jupyter-widgets/base",
            "_view_module_version": "1.2.0",
            "_view_name": "StyleView",
            "description_width": ""
          }
        },
        "09092da92cae4d218810f595c9a349ad": {
          "model_module": "@jupyter-widgets/base",
          "model_name": "LayoutModel",
          "model_module_version": "1.2.0",
          "state": {
            "_model_module": "@jupyter-widgets/base",
            "_model_module_version": "1.2.0",
            "_model_name": "LayoutModel",
            "_view_count": null,
            "_view_module": "@jupyter-widgets/base",
            "_view_module_version": "1.2.0",
            "_view_name": "LayoutView",
            "align_content": null,
            "align_items": null,
            "align_self": null,
            "border": null,
            "bottom": null,
            "display": null,
            "flex": null,
            "flex_flow": null,
            "grid_area": null,
            "grid_auto_columns": null,
            "grid_auto_flow": null,
            "grid_auto_rows": null,
            "grid_column": null,
            "grid_gap": null,
            "grid_row": null,
            "grid_template_areas": null,
            "grid_template_columns": null,
            "grid_template_rows": null,
            "height": null,
            "justify_content": null,
            "justify_items": null,
            "left": null,
            "margin": null,
            "max_height": null,
            "max_width": null,
            "min_height": null,
            "min_width": null,
            "object_fit": null,
            "object_position": null,
            "order": null,
            "overflow": null,
            "overflow_x": null,
            "overflow_y": null,
            "padding": null,
            "right": null,
            "top": null,
            "visibility": null,
            "width": null
          }
        },
        "d1b761df2e3e4d33a89a53b427eb8b47": {
          "model_module": "@jupyter-widgets/controls",
          "model_name": "ProgressStyleModel",
          "model_module_version": "1.5.0",
          "state": {
            "_model_module": "@jupyter-widgets/controls",
            "_model_module_version": "1.5.0",
            "_model_name": "ProgressStyleModel",
            "_view_count": null,
            "_view_module": "@jupyter-widgets/base",
            "_view_module_version": "1.2.0",
            "_view_name": "StyleView",
            "bar_color": null,
            "description_width": ""
          }
        },
        "098550e62ad14e0eb2eac0ccbcf428af": {
          "model_module": "@jupyter-widgets/base",
          "model_name": "LayoutModel",
          "model_module_version": "1.2.0",
          "state": {
            "_model_module": "@jupyter-widgets/base",
            "_model_module_version": "1.2.0",
            "_model_name": "LayoutModel",
            "_view_count": null,
            "_view_module": "@jupyter-widgets/base",
            "_view_module_version": "1.2.0",
            "_view_name": "LayoutView",
            "align_content": null,
            "align_items": null,
            "align_self": null,
            "border": null,
            "bottom": null,
            "display": null,
            "flex": null,
            "flex_flow": null,
            "grid_area": null,
            "grid_auto_columns": null,
            "grid_auto_flow": null,
            "grid_auto_rows": null,
            "grid_column": null,
            "grid_gap": null,
            "grid_row": null,
            "grid_template_areas": null,
            "grid_template_columns": null,
            "grid_template_rows": null,
            "height": null,
            "justify_content": null,
            "justify_items": null,
            "left": null,
            "margin": null,
            "max_height": null,
            "max_width": null,
            "min_height": null,
            "min_width": null,
            "object_fit": null,
            "object_position": null,
            "order": null,
            "overflow": null,
            "overflow_x": null,
            "overflow_y": null,
            "padding": null,
            "right": null,
            "top": null,
            "visibility": null,
            "width": null
          }
        },
        "da1e80edd9954461b3a04686e7a7dee0": {
          "model_module": "@jupyter-widgets/controls",
          "model_name": "DescriptionStyleModel",
          "model_module_version": "1.5.0",
          "state": {
            "_model_module": "@jupyter-widgets/controls",
            "_model_module_version": "1.5.0",
            "_model_name": "DescriptionStyleModel",
            "_view_count": null,
            "_view_module": "@jupyter-widgets/base",
            "_view_module_version": "1.2.0",
            "_view_name": "StyleView",
            "description_width": ""
          }
        },
        "ab9313743f5341e699056fd29aa296eb": {
          "model_module": "@jupyter-widgets/controls",
          "model_name": "HBoxModel",
          "model_module_version": "1.5.0",
          "state": {
            "_dom_classes": [],
            "_model_module": "@jupyter-widgets/controls",
            "_model_module_version": "1.5.0",
            "_model_name": "HBoxModel",
            "_view_count": null,
            "_view_module": "@jupyter-widgets/controls",
            "_view_module_version": "1.5.0",
            "_view_name": "HBoxView",
            "box_style": "",
            "children": [
              "IPY_MODEL_f857bf4db57a4184b881c167eef24417",
              "IPY_MODEL_e3597664becb491aa3409a4e24911f57",
              "IPY_MODEL_4a55ce8f76f84a71b9205cdba40700d1"
            ],
            "layout": "IPY_MODEL_dec30b77e0514655b6f46fc89e8a5414"
          }
        },
        "f857bf4db57a4184b881c167eef24417": {
          "model_module": "@jupyter-widgets/controls",
          "model_name": "HTMLModel",
          "model_module_version": "1.5.0",
          "state": {
            "_dom_classes": [],
            "_model_module": "@jupyter-widgets/controls",
            "_model_module_version": "1.5.0",
            "_model_name": "HTMLModel",
            "_view_count": null,
            "_view_module": "@jupyter-widgets/controls",
            "_view_module_version": "1.5.0",
            "_view_name": "HTMLView",
            "description": "",
            "description_tooltip": null,
            "layout": "IPY_MODEL_bd1acbe66b574320aea9414ca4ce7234",
            "placeholder": "​",
            "style": "IPY_MODEL_77d82c01fdb44e3bab2c3e4a0ecd02fe",
            "value": "vocab.json: 100%"
          }
        },
        "e3597664becb491aa3409a4e24911f57": {
          "model_module": "@jupyter-widgets/controls",
          "model_name": "FloatProgressModel",
          "model_module_version": "1.5.0",
          "state": {
            "_dom_classes": [],
            "_model_module": "@jupyter-widgets/controls",
            "_model_module_version": "1.5.0",
            "_model_name": "FloatProgressModel",
            "_view_count": null,
            "_view_module": "@jupyter-widgets/controls",
            "_view_module_version": "1.5.0",
            "_view_name": "ProgressView",
            "bar_style": "success",
            "description": "",
            "description_tooltip": null,
            "layout": "IPY_MODEL_a71111f9cbc2419f93be89ac90b6bc1a",
            "max": 703051,
            "min": 0,
            "orientation": "horizontal",
            "style": "IPY_MODEL_bf970c6920ed41a793f4e72e34bdb528",
            "value": 703051
          }
        },
        "4a55ce8f76f84a71b9205cdba40700d1": {
          "model_module": "@jupyter-widgets/controls",
          "model_name": "HTMLModel",
          "model_module_version": "1.5.0",
          "state": {
            "_dom_classes": [],
            "_model_module": "@jupyter-widgets/controls",
            "_model_module_version": "1.5.0",
            "_model_name": "HTMLModel",
            "_view_count": null,
            "_view_module": "@jupyter-widgets/controls",
            "_view_module_version": "1.5.0",
            "_view_name": "HTMLView",
            "description": "",
            "description_tooltip": null,
            "layout": "IPY_MODEL_1fa0e758eab641c3b8f275e04adecabc",
            "placeholder": "​",
            "style": "IPY_MODEL_5ebd9db9b05444f09c498dfbbc29e02f",
            "value": " 703k/703k [00:00&lt;00:00, 3.16MB/s]"
          }
        },
        "dec30b77e0514655b6f46fc89e8a5414": {
          "model_module": "@jupyter-widgets/base",
          "model_name": "LayoutModel",
          "model_module_version": "1.2.0",
          "state": {
            "_model_module": "@jupyter-widgets/base",
            "_model_module_version": "1.2.0",
            "_model_name": "LayoutModel",
            "_view_count": null,
            "_view_module": "@jupyter-widgets/base",
            "_view_module_version": "1.2.0",
            "_view_name": "LayoutView",
            "align_content": null,
            "align_items": null,
            "align_self": null,
            "border": null,
            "bottom": null,
            "display": null,
            "flex": null,
            "flex_flow": null,
            "grid_area": null,
            "grid_auto_columns": null,
            "grid_auto_flow": null,
            "grid_auto_rows": null,
            "grid_column": null,
            "grid_gap": null,
            "grid_row": null,
            "grid_template_areas": null,
            "grid_template_columns": null,
            "grid_template_rows": null,
            "height": null,
            "justify_content": null,
            "justify_items": null,
            "left": null,
            "margin": null,
            "max_height": null,
            "max_width": null,
            "min_height": null,
            "min_width": null,
            "object_fit": null,
            "object_position": null,
            "order": null,
            "overflow": null,
            "overflow_x": null,
            "overflow_y": null,
            "padding": null,
            "right": null,
            "top": null,
            "visibility": null,
            "width": null
          }
        },
        "bd1acbe66b574320aea9414ca4ce7234": {
          "model_module": "@jupyter-widgets/base",
          "model_name": "LayoutModel",
          "model_module_version": "1.2.0",
          "state": {
            "_model_module": "@jupyter-widgets/base",
            "_model_module_version": "1.2.0",
            "_model_name": "LayoutModel",
            "_view_count": null,
            "_view_module": "@jupyter-widgets/base",
            "_view_module_version": "1.2.0",
            "_view_name": "LayoutView",
            "align_content": null,
            "align_items": null,
            "align_self": null,
            "border": null,
            "bottom": null,
            "display": null,
            "flex": null,
            "flex_flow": null,
            "grid_area": null,
            "grid_auto_columns": null,
            "grid_auto_flow": null,
            "grid_auto_rows": null,
            "grid_column": null,
            "grid_gap": null,
            "grid_row": null,
            "grid_template_areas": null,
            "grid_template_columns": null,
            "grid_template_rows": null,
            "height": null,
            "justify_content": null,
            "justify_items": null,
            "left": null,
            "margin": null,
            "max_height": null,
            "max_width": null,
            "min_height": null,
            "min_width": null,
            "object_fit": null,
            "object_position": null,
            "order": null,
            "overflow": null,
            "overflow_x": null,
            "overflow_y": null,
            "padding": null,
            "right": null,
            "top": null,
            "visibility": null,
            "width": null
          }
        },
        "77d82c01fdb44e3bab2c3e4a0ecd02fe": {
          "model_module": "@jupyter-widgets/controls",
          "model_name": "DescriptionStyleModel",
          "model_module_version": "1.5.0",
          "state": {
            "_model_module": "@jupyter-widgets/controls",
            "_model_module_version": "1.5.0",
            "_model_name": "DescriptionStyleModel",
            "_view_count": null,
            "_view_module": "@jupyter-widgets/base",
            "_view_module_version": "1.2.0",
            "_view_name": "StyleView",
            "description_width": ""
          }
        },
        "a71111f9cbc2419f93be89ac90b6bc1a": {
          "model_module": "@jupyter-widgets/base",
          "model_name": "LayoutModel",
          "model_module_version": "1.2.0",
          "state": {
            "_model_module": "@jupyter-widgets/base",
            "_model_module_version": "1.2.0",
            "_model_name": "LayoutModel",
            "_view_count": null,
            "_view_module": "@jupyter-widgets/base",
            "_view_module_version": "1.2.0",
            "_view_name": "LayoutView",
            "align_content": null,
            "align_items": null,
            "align_self": null,
            "border": null,
            "bottom": null,
            "display": null,
            "flex": null,
            "flex_flow": null,
            "grid_area": null,
            "grid_auto_columns": null,
            "grid_auto_flow": null,
            "grid_auto_rows": null,
            "grid_column": null,
            "grid_gap": null,
            "grid_row": null,
            "grid_template_areas": null,
            "grid_template_columns": null,
            "grid_template_rows": null,
            "height": null,
            "justify_content": null,
            "justify_items": null,
            "left": null,
            "margin": null,
            "max_height": null,
            "max_width": null,
            "min_height": null,
            "min_width": null,
            "object_fit": null,
            "object_position": null,
            "order": null,
            "overflow": null,
            "overflow_x": null,
            "overflow_y": null,
            "padding": null,
            "right": null,
            "top": null,
            "visibility": null,
            "width": null
          }
        },
        "bf970c6920ed41a793f4e72e34bdb528": {
          "model_module": "@jupyter-widgets/controls",
          "model_name": "ProgressStyleModel",
          "model_module_version": "1.5.0",
          "state": {
            "_model_module": "@jupyter-widgets/controls",
            "_model_module_version": "1.5.0",
            "_model_name": "ProgressStyleModel",
            "_view_count": null,
            "_view_module": "@jupyter-widgets/base",
            "_view_module_version": "1.2.0",
            "_view_name": "StyleView",
            "bar_color": null,
            "description_width": ""
          }
        },
        "1fa0e758eab641c3b8f275e04adecabc": {
          "model_module": "@jupyter-widgets/base",
          "model_name": "LayoutModel",
          "model_module_version": "1.2.0",
          "state": {
            "_model_module": "@jupyter-widgets/base",
            "_model_module_version": "1.2.0",
            "_model_name": "LayoutModel",
            "_view_count": null,
            "_view_module": "@jupyter-widgets/base",
            "_view_module_version": "1.2.0",
            "_view_name": "LayoutView",
            "align_content": null,
            "align_items": null,
            "align_self": null,
            "border": null,
            "bottom": null,
            "display": null,
            "flex": null,
            "flex_flow": null,
            "grid_area": null,
            "grid_auto_columns": null,
            "grid_auto_flow": null,
            "grid_auto_rows": null,
            "grid_column": null,
            "grid_gap": null,
            "grid_row": null,
            "grid_template_areas": null,
            "grid_template_columns": null,
            "grid_template_rows": null,
            "height": null,
            "justify_content": null,
            "justify_items": null,
            "left": null,
            "margin": null,
            "max_height": null,
            "max_width": null,
            "min_height": null,
            "min_width": null,
            "object_fit": null,
            "object_position": null,
            "order": null,
            "overflow": null,
            "overflow_x": null,
            "overflow_y": null,
            "padding": null,
            "right": null,
            "top": null,
            "visibility": null,
            "width": null
          }
        },
        "5ebd9db9b05444f09c498dfbbc29e02f": {
          "model_module": "@jupyter-widgets/controls",
          "model_name": "DescriptionStyleModel",
          "model_module_version": "1.5.0",
          "state": {
            "_model_module": "@jupyter-widgets/controls",
            "_model_module_version": "1.5.0",
            "_model_name": "DescriptionStyleModel",
            "_view_count": null,
            "_view_module": "@jupyter-widgets/base",
            "_view_module_version": "1.2.0",
            "_view_name": "StyleView",
            "description_width": ""
          }
        },
        "e60e3722f80742478c0917c0c4bdd18b": {
          "model_module": "@jupyter-widgets/controls",
          "model_name": "HBoxModel",
          "model_module_version": "1.5.0",
          "state": {
            "_dom_classes": [],
            "_model_module": "@jupyter-widgets/controls",
            "_model_module_version": "1.5.0",
            "_model_name": "HBoxModel",
            "_view_count": null,
            "_view_module": "@jupyter-widgets/controls",
            "_view_module_version": "1.5.0",
            "_view_name": "HBoxView",
            "box_style": "",
            "children": [
              "IPY_MODEL_9de51a3fd4ad4a978af39dd660df209b",
              "IPY_MODEL_932a716c60e3406182ada2dd4bb3cc10",
              "IPY_MODEL_d06da1a54d78441b925a0f7502836123"
            ],
            "layout": "IPY_MODEL_a731528cdf2a470f983a7232973f3021"
          }
        },
        "9de51a3fd4ad4a978af39dd660df209b": {
          "model_module": "@jupyter-widgets/controls",
          "model_name": "HTMLModel",
          "model_module_version": "1.5.0",
          "state": {
            "_dom_classes": [],
            "_model_module": "@jupyter-widgets/controls",
            "_model_module_version": "1.5.0",
            "_model_name": "HTMLModel",
            "_view_count": null,
            "_view_module": "@jupyter-widgets/controls",
            "_view_module_version": "1.5.0",
            "_view_name": "HTMLView",
            "description": "",
            "description_tooltip": null,
            "layout": "IPY_MODEL_eca8678196444fff82deb5c44b2bdfdd",
            "placeholder": "​",
            "style": "IPY_MODEL_8614d26ebbf1422fb69555ab815e535f",
            "value": "merges.txt: 100%"
          }
        },
        "932a716c60e3406182ada2dd4bb3cc10": {
          "model_module": "@jupyter-widgets/controls",
          "model_name": "FloatProgressModel",
          "model_module_version": "1.5.0",
          "state": {
            "_dom_classes": [],
            "_model_module": "@jupyter-widgets/controls",
            "_model_module_version": "1.5.0",
            "_model_name": "FloatProgressModel",
            "_view_count": null,
            "_view_module": "@jupyter-widgets/controls",
            "_view_module_version": "1.5.0",
            "_view_name": "ProgressView",
            "bar_style": "success",
            "description": "",
            "description_tooltip": null,
            "layout": "IPY_MODEL_7be54bd6889f46aeaa097afb47f2d77a",
            "max": 294364,
            "min": 0,
            "orientation": "horizontal",
            "style": "IPY_MODEL_cf4ece9ad82b453cadd9bb91b7a6e787",
            "value": 294364
          }
        },
        "d06da1a54d78441b925a0f7502836123": {
          "model_module": "@jupyter-widgets/controls",
          "model_name": "HTMLModel",
          "model_module_version": "1.5.0",
          "state": {
            "_dom_classes": [],
            "_model_module": "@jupyter-widgets/controls",
            "_model_module_version": "1.5.0",
            "_model_name": "HTMLModel",
            "_view_count": null,
            "_view_module": "@jupyter-widgets/controls",
            "_view_module_version": "1.5.0",
            "_view_name": "HTMLView",
            "description": "",
            "description_tooltip": null,
            "layout": "IPY_MODEL_ee7e446d9e6940c28f7d5038442b6e88",
            "placeholder": "​",
            "style": "IPY_MODEL_712c75fa4b0f40669091da5d260d14c0",
            "value": " 294k/294k [00:00&lt;00:00, 13.9MB/s]"
          }
        },
        "a731528cdf2a470f983a7232973f3021": {
          "model_module": "@jupyter-widgets/base",
          "model_name": "LayoutModel",
          "model_module_version": "1.2.0",
          "state": {
            "_model_module": "@jupyter-widgets/base",
            "_model_module_version": "1.2.0",
            "_model_name": "LayoutModel",
            "_view_count": null,
            "_view_module": "@jupyter-widgets/base",
            "_view_module_version": "1.2.0",
            "_view_name": "LayoutView",
            "align_content": null,
            "align_items": null,
            "align_self": null,
            "border": null,
            "bottom": null,
            "display": null,
            "flex": null,
            "flex_flow": null,
            "grid_area": null,
            "grid_auto_columns": null,
            "grid_auto_flow": null,
            "grid_auto_rows": null,
            "grid_column": null,
            "grid_gap": null,
            "grid_row": null,
            "grid_template_areas": null,
            "grid_template_columns": null,
            "grid_template_rows": null,
            "height": null,
            "justify_content": null,
            "justify_items": null,
            "left": null,
            "margin": null,
            "max_height": null,
            "max_width": null,
            "min_height": null,
            "min_width": null,
            "object_fit": null,
            "object_position": null,
            "order": null,
            "overflow": null,
            "overflow_x": null,
            "overflow_y": null,
            "padding": null,
            "right": null,
            "top": null,
            "visibility": null,
            "width": null
          }
        },
        "eca8678196444fff82deb5c44b2bdfdd": {
          "model_module": "@jupyter-widgets/base",
          "model_name": "LayoutModel",
          "model_module_version": "1.2.0",
          "state": {
            "_model_module": "@jupyter-widgets/base",
            "_model_module_version": "1.2.0",
            "_model_name": "LayoutModel",
            "_view_count": null,
            "_view_module": "@jupyter-widgets/base",
            "_view_module_version": "1.2.0",
            "_view_name": "LayoutView",
            "align_content": null,
            "align_items": null,
            "align_self": null,
            "border": null,
            "bottom": null,
            "display": null,
            "flex": null,
            "flex_flow": null,
            "grid_area": null,
            "grid_auto_columns": null,
            "grid_auto_flow": null,
            "grid_auto_rows": null,
            "grid_column": null,
            "grid_gap": null,
            "grid_row": null,
            "grid_template_areas": null,
            "grid_template_columns": null,
            "grid_template_rows": null,
            "height": null,
            "justify_content": null,
            "justify_items": null,
            "left": null,
            "margin": null,
            "max_height": null,
            "max_width": null,
            "min_height": null,
            "min_width": null,
            "object_fit": null,
            "object_position": null,
            "order": null,
            "overflow": null,
            "overflow_x": null,
            "overflow_y": null,
            "padding": null,
            "right": null,
            "top": null,
            "visibility": null,
            "width": null
          }
        },
        "8614d26ebbf1422fb69555ab815e535f": {
          "model_module": "@jupyter-widgets/controls",
          "model_name": "DescriptionStyleModel",
          "model_module_version": "1.5.0",
          "state": {
            "_model_module": "@jupyter-widgets/controls",
            "_model_module_version": "1.5.0",
            "_model_name": "DescriptionStyleModel",
            "_view_count": null,
            "_view_module": "@jupyter-widgets/base",
            "_view_module_version": "1.2.0",
            "_view_name": "StyleView",
            "description_width": ""
          }
        },
        "7be54bd6889f46aeaa097afb47f2d77a": {
          "model_module": "@jupyter-widgets/base",
          "model_name": "LayoutModel",
          "model_module_version": "1.2.0",
          "state": {
            "_model_module": "@jupyter-widgets/base",
            "_model_module_version": "1.2.0",
            "_model_name": "LayoutModel",
            "_view_count": null,
            "_view_module": "@jupyter-widgets/base",
            "_view_module_version": "1.2.0",
            "_view_name": "LayoutView",
            "align_content": null,
            "align_items": null,
            "align_self": null,
            "border": null,
            "bottom": null,
            "display": null,
            "flex": null,
            "flex_flow": null,
            "grid_area": null,
            "grid_auto_columns": null,
            "grid_auto_flow": null,
            "grid_auto_rows": null,
            "grid_column": null,
            "grid_gap": null,
            "grid_row": null,
            "grid_template_areas": null,
            "grid_template_columns": null,
            "grid_template_rows": null,
            "height": null,
            "justify_content": null,
            "justify_items": null,
            "left": null,
            "margin": null,
            "max_height": null,
            "max_width": null,
            "min_height": null,
            "min_width": null,
            "object_fit": null,
            "object_position": null,
            "order": null,
            "overflow": null,
            "overflow_x": null,
            "overflow_y": null,
            "padding": null,
            "right": null,
            "top": null,
            "visibility": null,
            "width": null
          }
        },
        "cf4ece9ad82b453cadd9bb91b7a6e787": {
          "model_module": "@jupyter-widgets/controls",
          "model_name": "ProgressStyleModel",
          "model_module_version": "1.5.0",
          "state": {
            "_model_module": "@jupyter-widgets/controls",
            "_model_module_version": "1.5.0",
            "_model_name": "ProgressStyleModel",
            "_view_count": null,
            "_view_module": "@jupyter-widgets/base",
            "_view_module_version": "1.2.0",
            "_view_name": "StyleView",
            "bar_color": null,
            "description_width": ""
          }
        },
        "ee7e446d9e6940c28f7d5038442b6e88": {
          "model_module": "@jupyter-widgets/base",
          "model_name": "LayoutModel",
          "model_module_version": "1.2.0",
          "state": {
            "_model_module": "@jupyter-widgets/base",
            "_model_module_version": "1.2.0",
            "_model_name": "LayoutModel",
            "_view_count": null,
            "_view_module": "@jupyter-widgets/base",
            "_view_module_version": "1.2.0",
            "_view_name": "LayoutView",
            "align_content": null,
            "align_items": null,
            "align_self": null,
            "border": null,
            "bottom": null,
            "display": null,
            "flex": null,
            "flex_flow": null,
            "grid_area": null,
            "grid_auto_columns": null,
            "grid_auto_flow": null,
            "grid_auto_rows": null,
            "grid_column": null,
            "grid_gap": null,
            "grid_row": null,
            "grid_template_areas": null,
            "grid_template_columns": null,
            "grid_template_rows": null,
            "height": null,
            "justify_content": null,
            "justify_items": null,
            "left": null,
            "margin": null,
            "max_height": null,
            "max_width": null,
            "min_height": null,
            "min_width": null,
            "object_fit": null,
            "object_position": null,
            "order": null,
            "overflow": null,
            "overflow_x": null,
            "overflow_y": null,
            "padding": null,
            "right": null,
            "top": null,
            "visibility": null,
            "width": null
          }
        },
        "712c75fa4b0f40669091da5d260d14c0": {
          "model_module": "@jupyter-widgets/controls",
          "model_name": "DescriptionStyleModel",
          "model_module_version": "1.5.0",
          "state": {
            "_model_module": "@jupyter-widgets/controls",
            "_model_module_version": "1.5.0",
            "_model_name": "DescriptionStyleModel",
            "_view_count": null,
            "_view_module": "@jupyter-widgets/base",
            "_view_module_version": "1.2.0",
            "_view_name": "StyleView",
            "description_width": ""
          }
        },
        "bf4efa6163834ff7bac031067e75b2b3": {
          "model_module": "@jupyter-widgets/controls",
          "model_name": "HBoxModel",
          "model_module_version": "1.5.0",
          "state": {
            "_dom_classes": [],
            "_model_module": "@jupyter-widgets/controls",
            "_model_module_version": "1.5.0",
            "_model_name": "HBoxModel",
            "_view_count": null,
            "_view_module": "@jupyter-widgets/controls",
            "_view_module_version": "1.5.0",
            "_view_name": "HBoxView",
            "box_style": "",
            "children": [
              "IPY_MODEL_927e236333bc4dd0babb88cd68899858",
              "IPY_MODEL_696ad48fc8024f6f80a69405c9fcd556",
              "IPY_MODEL_f8901c772e054f5183de9e391dcd80c6"
            ],
            "layout": "IPY_MODEL_e53c7326d6774a6bb52595678d43325a"
          }
        },
        "927e236333bc4dd0babb88cd68899858": {
          "model_module": "@jupyter-widgets/controls",
          "model_name": "HTMLModel",
          "model_module_version": "1.5.0",
          "state": {
            "_dom_classes": [],
            "_model_module": "@jupyter-widgets/controls",
            "_model_module_version": "1.5.0",
            "_model_name": "HTMLModel",
            "_view_count": null,
            "_view_module": "@jupyter-widgets/controls",
            "_view_module_version": "1.5.0",
            "_view_name": "HTMLView",
            "description": "",
            "description_tooltip": null,
            "layout": "IPY_MODEL_16aa27f7b70448d29dc3ee22b282972d",
            "placeholder": "​",
            "style": "IPY_MODEL_75f1e06b878347beadf26f8d1ab8d664",
            "value": "added_tokens.json: 100%"
          }
        },
        "696ad48fc8024f6f80a69405c9fcd556": {
          "model_module": "@jupyter-widgets/controls",
          "model_name": "FloatProgressModel",
          "model_module_version": "1.5.0",
          "state": {
            "_dom_classes": [],
            "_model_module": "@jupyter-widgets/controls",
            "_model_module_version": "1.5.0",
            "_model_name": "FloatProgressModel",
            "_view_count": null,
            "_view_module": "@jupyter-widgets/controls",
            "_view_module_version": "1.5.0",
            "_view_name": "ProgressView",
            "bar_style": "success",
            "description": "",
            "description_tooltip": null,
            "layout": "IPY_MODEL_59e4068ec9c142d1a5a7cc18753e091e",
            "max": 2,
            "min": 0,
            "orientation": "horizontal",
            "style": "IPY_MODEL_bb0687a3590b4f4ba379ab64791fd704",
            "value": 2
          }
        },
        "f8901c772e054f5183de9e391dcd80c6": {
          "model_module": "@jupyter-widgets/controls",
          "model_name": "HTMLModel",
          "model_module_version": "1.5.0",
          "state": {
            "_dom_classes": [],
            "_model_module": "@jupyter-widgets/controls",
            "_model_module_version": "1.5.0",
            "_model_name": "HTMLModel",
            "_view_count": null,
            "_view_module": "@jupyter-widgets/controls",
            "_view_module_version": "1.5.0",
            "_view_name": "HTMLView",
            "description": "",
            "description_tooltip": null,
            "layout": "IPY_MODEL_8a81a643c47c423089b52cf2f52d0f37",
            "placeholder": "​",
            "style": "IPY_MODEL_6782966417754f5e810711ae1e8f455c",
            "value": " 2.00/2.00 [00:00&lt;00:00, 197B/s]"
          }
        },
        "e53c7326d6774a6bb52595678d43325a": {
          "model_module": "@jupyter-widgets/base",
          "model_name": "LayoutModel",
          "model_module_version": "1.2.0",
          "state": {
            "_model_module": "@jupyter-widgets/base",
            "_model_module_version": "1.2.0",
            "_model_name": "LayoutModel",
            "_view_count": null,
            "_view_module": "@jupyter-widgets/base",
            "_view_module_version": "1.2.0",
            "_view_name": "LayoutView",
            "align_content": null,
            "align_items": null,
            "align_self": null,
            "border": null,
            "bottom": null,
            "display": null,
            "flex": null,
            "flex_flow": null,
            "grid_area": null,
            "grid_auto_columns": null,
            "grid_auto_flow": null,
            "grid_auto_rows": null,
            "grid_column": null,
            "grid_gap": null,
            "grid_row": null,
            "grid_template_areas": null,
            "grid_template_columns": null,
            "grid_template_rows": null,
            "height": null,
            "justify_content": null,
            "justify_items": null,
            "left": null,
            "margin": null,
            "max_height": null,
            "max_width": null,
            "min_height": null,
            "min_width": null,
            "object_fit": null,
            "object_position": null,
            "order": null,
            "overflow": null,
            "overflow_x": null,
            "overflow_y": null,
            "padding": null,
            "right": null,
            "top": null,
            "visibility": null,
            "width": null
          }
        },
        "16aa27f7b70448d29dc3ee22b282972d": {
          "model_module": "@jupyter-widgets/base",
          "model_name": "LayoutModel",
          "model_module_version": "1.2.0",
          "state": {
            "_model_module": "@jupyter-widgets/base",
            "_model_module_version": "1.2.0",
            "_model_name": "LayoutModel",
            "_view_count": null,
            "_view_module": "@jupyter-widgets/base",
            "_view_module_version": "1.2.0",
            "_view_name": "LayoutView",
            "align_content": null,
            "align_items": null,
            "align_self": null,
            "border": null,
            "bottom": null,
            "display": null,
            "flex": null,
            "flex_flow": null,
            "grid_area": null,
            "grid_auto_columns": null,
            "grid_auto_flow": null,
            "grid_auto_rows": null,
            "grid_column": null,
            "grid_gap": null,
            "grid_row": null,
            "grid_template_areas": null,
            "grid_template_columns": null,
            "grid_template_rows": null,
            "height": null,
            "justify_content": null,
            "justify_items": null,
            "left": null,
            "margin": null,
            "max_height": null,
            "max_width": null,
            "min_height": null,
            "min_width": null,
            "object_fit": null,
            "object_position": null,
            "order": null,
            "overflow": null,
            "overflow_x": null,
            "overflow_y": null,
            "padding": null,
            "right": null,
            "top": null,
            "visibility": null,
            "width": null
          }
        },
        "75f1e06b878347beadf26f8d1ab8d664": {
          "model_module": "@jupyter-widgets/controls",
          "model_name": "DescriptionStyleModel",
          "model_module_version": "1.5.0",
          "state": {
            "_model_module": "@jupyter-widgets/controls",
            "_model_module_version": "1.5.0",
            "_model_name": "DescriptionStyleModel",
            "_view_count": null,
            "_view_module": "@jupyter-widgets/base",
            "_view_module_version": "1.2.0",
            "_view_name": "StyleView",
            "description_width": ""
          }
        },
        "59e4068ec9c142d1a5a7cc18753e091e": {
          "model_module": "@jupyter-widgets/base",
          "model_name": "LayoutModel",
          "model_module_version": "1.2.0",
          "state": {
            "_model_module": "@jupyter-widgets/base",
            "_model_module_version": "1.2.0",
            "_model_name": "LayoutModel",
            "_view_count": null,
            "_view_module": "@jupyter-widgets/base",
            "_view_module_version": "1.2.0",
            "_view_name": "LayoutView",
            "align_content": null,
            "align_items": null,
            "align_self": null,
            "border": null,
            "bottom": null,
            "display": null,
            "flex": null,
            "flex_flow": null,
            "grid_area": null,
            "grid_auto_columns": null,
            "grid_auto_flow": null,
            "grid_auto_rows": null,
            "grid_column": null,
            "grid_gap": null,
            "grid_row": null,
            "grid_template_areas": null,
            "grid_template_columns": null,
            "grid_template_rows": null,
            "height": null,
            "justify_content": null,
            "justify_items": null,
            "left": null,
            "margin": null,
            "max_height": null,
            "max_width": null,
            "min_height": null,
            "min_width": null,
            "object_fit": null,
            "object_position": null,
            "order": null,
            "overflow": null,
            "overflow_x": null,
            "overflow_y": null,
            "padding": null,
            "right": null,
            "top": null,
            "visibility": null,
            "width": null
          }
        },
        "bb0687a3590b4f4ba379ab64791fd704": {
          "model_module": "@jupyter-widgets/controls",
          "model_name": "ProgressStyleModel",
          "model_module_version": "1.5.0",
          "state": {
            "_model_module": "@jupyter-widgets/controls",
            "_model_module_version": "1.5.0",
            "_model_name": "ProgressStyleModel",
            "_view_count": null,
            "_view_module": "@jupyter-widgets/base",
            "_view_module_version": "1.2.0",
            "_view_name": "StyleView",
            "bar_color": null,
            "description_width": ""
          }
        },
        "8a81a643c47c423089b52cf2f52d0f37": {
          "model_module": "@jupyter-widgets/base",
          "model_name": "LayoutModel",
          "model_module_version": "1.2.0",
          "state": {
            "_model_module": "@jupyter-widgets/base",
            "_model_module_version": "1.2.0",
            "_model_name": "LayoutModel",
            "_view_count": null,
            "_view_module": "@jupyter-widgets/base",
            "_view_module_version": "1.2.0",
            "_view_name": "LayoutView",
            "align_content": null,
            "align_items": null,
            "align_self": null,
            "border": null,
            "bottom": null,
            "display": null,
            "flex": null,
            "flex_flow": null,
            "grid_area": null,
            "grid_auto_columns": null,
            "grid_auto_flow": null,
            "grid_auto_rows": null,
            "grid_column": null,
            "grid_gap": null,
            "grid_row": null,
            "grid_template_areas": null,
            "grid_template_columns": null,
            "grid_template_rows": null,
            "height": null,
            "justify_content": null,
            "justify_items": null,
            "left": null,
            "margin": null,
            "max_height": null,
            "max_width": null,
            "min_height": null,
            "min_width": null,
            "object_fit": null,
            "object_position": null,
            "order": null,
            "overflow": null,
            "overflow_x": null,
            "overflow_y": null,
            "padding": null,
            "right": null,
            "top": null,
            "visibility": null,
            "width": null
          }
        },
        "6782966417754f5e810711ae1e8f455c": {
          "model_module": "@jupyter-widgets/controls",
          "model_name": "DescriptionStyleModel",
          "model_module_version": "1.5.0",
          "state": {
            "_model_module": "@jupyter-widgets/controls",
            "_model_module_version": "1.5.0",
            "_model_name": "DescriptionStyleModel",
            "_view_count": null,
            "_view_module": "@jupyter-widgets/base",
            "_view_module_version": "1.2.0",
            "_view_name": "StyleView",
            "description_width": ""
          }
        },
        "1f2493a17e704f099bb5802f2a8fdfe1": {
          "model_module": "@jupyter-widgets/controls",
          "model_name": "HBoxModel",
          "model_module_version": "1.5.0",
          "state": {
            "_dom_classes": [],
            "_model_module": "@jupyter-widgets/controls",
            "_model_module_version": "1.5.0",
            "_model_name": "HBoxModel",
            "_view_count": null,
            "_view_module": "@jupyter-widgets/controls",
            "_view_module_version": "1.5.0",
            "_view_name": "HBoxView",
            "box_style": "",
            "children": [
              "IPY_MODEL_48883918f2504a52af8a84127e9b88b2",
              "IPY_MODEL_c3ba549295884e7196e585a1f40d5d16",
              "IPY_MODEL_a828521ec77444efb2542c282c2b0b89"
            ],
            "layout": "IPY_MODEL_7b75b7e2374f45069d01290c08411cb2"
          }
        },
        "48883918f2504a52af8a84127e9b88b2": {
          "model_module": "@jupyter-widgets/controls",
          "model_name": "HTMLModel",
          "model_module_version": "1.5.0",
          "state": {
            "_dom_classes": [],
            "_model_module": "@jupyter-widgets/controls",
            "_model_module_version": "1.5.0",
            "_model_name": "HTMLModel",
            "_view_count": null,
            "_view_module": "@jupyter-widgets/controls",
            "_view_module_version": "1.5.0",
            "_view_name": "HTMLView",
            "description": "",
            "description_tooltip": null,
            "layout": "IPY_MODEL_e74bdaeb21e64cd7adb3a428d080f7b3",
            "placeholder": "​",
            "style": "IPY_MODEL_cb6d47bde3b14fcebad67961467b4b0d",
            "value": "special_tokens_map.json: 100%"
          }
        },
        "c3ba549295884e7196e585a1f40d5d16": {
          "model_module": "@jupyter-widgets/controls",
          "model_name": "FloatProgressModel",
          "model_module_version": "1.5.0",
          "state": {
            "_dom_classes": [],
            "_model_module": "@jupyter-widgets/controls",
            "_model_module_version": "1.5.0",
            "_model_name": "FloatProgressModel",
            "_view_count": null,
            "_view_module": "@jupyter-widgets/controls",
            "_view_module_version": "1.5.0",
            "_view_name": "ProgressView",
            "bar_style": "success",
            "description": "",
            "description_tooltip": null,
            "layout": "IPY_MODEL_45d4fcba07ba473dbde3a4b638eeacc1",
            "max": 12512,
            "min": 0,
            "orientation": "horizontal",
            "style": "IPY_MODEL_0f44e02905ad462db381d820c15be1b7",
            "value": 12512
          }
        },
        "a828521ec77444efb2542c282c2b0b89": {
          "model_module": "@jupyter-widgets/controls",
          "model_name": "HTMLModel",
          "model_module_version": "1.5.0",
          "state": {
            "_dom_classes": [],
            "_model_module": "@jupyter-widgets/controls",
            "_model_module_version": "1.5.0",
            "_model_name": "HTMLModel",
            "_view_count": null,
            "_view_module": "@jupyter-widgets/controls",
            "_view_module_version": "1.5.0",
            "_view_name": "HTMLView",
            "description": "",
            "description_tooltip": null,
            "layout": "IPY_MODEL_f9ea874572f9470e99259dcb7535793c",
            "placeholder": "​",
            "style": "IPY_MODEL_ea3e14dbd7024598acbef956970198e1",
            "value": " 12.5k/12.5k [00:00&lt;00:00, 1.21MB/s]"
          }
        },
        "7b75b7e2374f45069d01290c08411cb2": {
          "model_module": "@jupyter-widgets/base",
          "model_name": "LayoutModel",
          "model_module_version": "1.2.0",
          "state": {
            "_model_module": "@jupyter-widgets/base",
            "_model_module_version": "1.2.0",
            "_model_name": "LayoutModel",
            "_view_count": null,
            "_view_module": "@jupyter-widgets/base",
            "_view_module_version": "1.2.0",
            "_view_name": "LayoutView",
            "align_content": null,
            "align_items": null,
            "align_self": null,
            "border": null,
            "bottom": null,
            "display": null,
            "flex": null,
            "flex_flow": null,
            "grid_area": null,
            "grid_auto_columns": null,
            "grid_auto_flow": null,
            "grid_auto_rows": null,
            "grid_column": null,
            "grid_gap": null,
            "grid_row": null,
            "grid_template_areas": null,
            "grid_template_columns": null,
            "grid_template_rows": null,
            "height": null,
            "justify_content": null,
            "justify_items": null,
            "left": null,
            "margin": null,
            "max_height": null,
            "max_width": null,
            "min_height": null,
            "min_width": null,
            "object_fit": null,
            "object_position": null,
            "order": null,
            "overflow": null,
            "overflow_x": null,
            "overflow_y": null,
            "padding": null,
            "right": null,
            "top": null,
            "visibility": null,
            "width": null
          }
        },
        "e74bdaeb21e64cd7adb3a428d080f7b3": {
          "model_module": "@jupyter-widgets/base",
          "model_name": "LayoutModel",
          "model_module_version": "1.2.0",
          "state": {
            "_model_module": "@jupyter-widgets/base",
            "_model_module_version": "1.2.0",
            "_model_name": "LayoutModel",
            "_view_count": null,
            "_view_module": "@jupyter-widgets/base",
            "_view_module_version": "1.2.0",
            "_view_name": "LayoutView",
            "align_content": null,
            "align_items": null,
            "align_self": null,
            "border": null,
            "bottom": null,
            "display": null,
            "flex": null,
            "flex_flow": null,
            "grid_area": null,
            "grid_auto_columns": null,
            "grid_auto_flow": null,
            "grid_auto_rows": null,
            "grid_column": null,
            "grid_gap": null,
            "grid_row": null,
            "grid_template_areas": null,
            "grid_template_columns": null,
            "grid_template_rows": null,
            "height": null,
            "justify_content": null,
            "justify_items": null,
            "left": null,
            "margin": null,
            "max_height": null,
            "max_width": null,
            "min_height": null,
            "min_width": null,
            "object_fit": null,
            "object_position": null,
            "order": null,
            "overflow": null,
            "overflow_x": null,
            "overflow_y": null,
            "padding": null,
            "right": null,
            "top": null,
            "visibility": null,
            "width": null
          }
        },
        "cb6d47bde3b14fcebad67961467b4b0d": {
          "model_module": "@jupyter-widgets/controls",
          "model_name": "DescriptionStyleModel",
          "model_module_version": "1.5.0",
          "state": {
            "_model_module": "@jupyter-widgets/controls",
            "_model_module_version": "1.5.0",
            "_model_name": "DescriptionStyleModel",
            "_view_count": null,
            "_view_module": "@jupyter-widgets/base",
            "_view_module_version": "1.2.0",
            "_view_name": "StyleView",
            "description_width": ""
          }
        },
        "45d4fcba07ba473dbde3a4b638eeacc1": {
          "model_module": "@jupyter-widgets/base",
          "model_name": "LayoutModel",
          "model_module_version": "1.2.0",
          "state": {
            "_model_module": "@jupyter-widgets/base",
            "_model_module_version": "1.2.0",
            "_model_name": "LayoutModel",
            "_view_count": null,
            "_view_module": "@jupyter-widgets/base",
            "_view_module_version": "1.2.0",
            "_view_name": "LayoutView",
            "align_content": null,
            "align_items": null,
            "align_self": null,
            "border": null,
            "bottom": null,
            "display": null,
            "flex": null,
            "flex_flow": null,
            "grid_area": null,
            "grid_auto_columns": null,
            "grid_auto_flow": null,
            "grid_auto_rows": null,
            "grid_column": null,
            "grid_gap": null,
            "grid_row": null,
            "grid_template_areas": null,
            "grid_template_columns": null,
            "grid_template_rows": null,
            "height": null,
            "justify_content": null,
            "justify_items": null,
            "left": null,
            "margin": null,
            "max_height": null,
            "max_width": null,
            "min_height": null,
            "min_width": null,
            "object_fit": null,
            "object_position": null,
            "order": null,
            "overflow": null,
            "overflow_x": null,
            "overflow_y": null,
            "padding": null,
            "right": null,
            "top": null,
            "visibility": null,
            "width": null
          }
        },
        "0f44e02905ad462db381d820c15be1b7": {
          "model_module": "@jupyter-widgets/controls",
          "model_name": "ProgressStyleModel",
          "model_module_version": "1.5.0",
          "state": {
            "_model_module": "@jupyter-widgets/controls",
            "_model_module_version": "1.5.0",
            "_model_name": "ProgressStyleModel",
            "_view_count": null,
            "_view_module": "@jupyter-widgets/base",
            "_view_module_version": "1.2.0",
            "_view_name": "StyleView",
            "bar_color": null,
            "description_width": ""
          }
        },
        "f9ea874572f9470e99259dcb7535793c": {
          "model_module": "@jupyter-widgets/base",
          "model_name": "LayoutModel",
          "model_module_version": "1.2.0",
          "state": {
            "_model_module": "@jupyter-widgets/base",
            "_model_module_version": "1.2.0",
            "_model_name": "LayoutModel",
            "_view_count": null,
            "_view_module": "@jupyter-widgets/base",
            "_view_module_version": "1.2.0",
            "_view_name": "LayoutView",
            "align_content": null,
            "align_items": null,
            "align_self": null,
            "border": null,
            "bottom": null,
            "display": null,
            "flex": null,
            "flex_flow": null,
            "grid_area": null,
            "grid_auto_columns": null,
            "grid_auto_flow": null,
            "grid_auto_rows": null,
            "grid_column": null,
            "grid_gap": null,
            "grid_row": null,
            "grid_template_areas": null,
            "grid_template_columns": null,
            "grid_template_rows": null,
            "height": null,
            "justify_content": null,
            "justify_items": null,
            "left": null,
            "margin": null,
            "max_height": null,
            "max_width": null,
            "min_height": null,
            "min_width": null,
            "object_fit": null,
            "object_position": null,
            "order": null,
            "overflow": null,
            "overflow_x": null,
            "overflow_y": null,
            "padding": null,
            "right": null,
            "top": null,
            "visibility": null,
            "width": null
          }
        },
        "ea3e14dbd7024598acbef956970198e1": {
          "model_module": "@jupyter-widgets/controls",
          "model_name": "DescriptionStyleModel",
          "model_module_version": "1.5.0",
          "state": {
            "_model_module": "@jupyter-widgets/controls",
            "_model_module_version": "1.5.0",
            "_model_name": "DescriptionStyleModel",
            "_view_count": null,
            "_view_module": "@jupyter-widgets/base",
            "_view_module_version": "1.2.0",
            "_view_name": "StyleView",
            "description_width": ""
          }
        },
        "cf382bccf10746fea78a94658efb5818": {
          "model_module": "@jupyter-widgets/controls",
          "model_name": "HBoxModel",
          "model_module_version": "1.5.0",
          "state": {
            "_dom_classes": [],
            "_model_module": "@jupyter-widgets/controls",
            "_model_module_version": "1.5.0",
            "_model_name": "HBoxModel",
            "_view_count": null,
            "_view_module": "@jupyter-widgets/controls",
            "_view_module_version": "1.5.0",
            "_view_name": "HBoxView",
            "box_style": "",
            "children": [
              "IPY_MODEL_1fa9826c6c54404295de53c94ae45fff",
              "IPY_MODEL_816134a54a19433ab7f3927340343414",
              "IPY_MODEL_3a3a9c11cbcd44f9a45a4e5c6091797a"
            ],
            "layout": "IPY_MODEL_942a2e6275e247048b04167e05da2563"
          }
        },
        "1fa9826c6c54404295de53c94ae45fff": {
          "model_module": "@jupyter-widgets/controls",
          "model_name": "HTMLModel",
          "model_module_version": "1.5.0",
          "state": {
            "_dom_classes": [],
            "_model_module": "@jupyter-widgets/controls",
            "_model_module_version": "1.5.0",
            "_model_name": "HTMLModel",
            "_view_count": null,
            "_view_module": "@jupyter-widgets/controls",
            "_view_module_version": "1.5.0",
            "_view_name": "HTMLView",
            "description": "",
            "description_tooltip": null,
            "layout": "IPY_MODEL_f183d1eb6b2748c7bc628da96cbc0ebd",
            "placeholder": "​",
            "style": "IPY_MODEL_a67c6ddd7c2b4facadb776a004cd018a",
            "value": "config.json: 100%"
          }
        },
        "816134a54a19433ab7f3927340343414": {
          "model_module": "@jupyter-widgets/controls",
          "model_name": "FloatProgressModel",
          "model_module_version": "1.5.0",
          "state": {
            "_dom_classes": [],
            "_model_module": "@jupyter-widgets/controls",
            "_model_module_version": "1.5.0",
            "_model_name": "FloatProgressModel",
            "_view_count": null,
            "_view_module": "@jupyter-widgets/controls",
            "_view_module_version": "1.5.0",
            "_view_name": "ProgressView",
            "bar_style": "success",
            "description": "",
            "description_tooltip": null,
            "layout": "IPY_MODEL_6ce583ef206e4c399de06ea053de34d0",
            "max": 1566,
            "min": 0,
            "orientation": "horizontal",
            "style": "IPY_MODEL_065175156f9a4016a78e55d0f92d5c02",
            "value": 1566
          }
        },
        "3a3a9c11cbcd44f9a45a4e5c6091797a": {
          "model_module": "@jupyter-widgets/controls",
          "model_name": "HTMLModel",
          "model_module_version": "1.5.0",
          "state": {
            "_dom_classes": [],
            "_model_module": "@jupyter-widgets/controls",
            "_model_module_version": "1.5.0",
            "_model_name": "HTMLModel",
            "_view_count": null,
            "_view_module": "@jupyter-widgets/controls",
            "_view_module_version": "1.5.0",
            "_view_name": "HTMLView",
            "description": "",
            "description_tooltip": null,
            "layout": "IPY_MODEL_76ff578fdf194e1a99c491e8129c818c",
            "placeholder": "​",
            "style": "IPY_MODEL_007b84dd5fe9424280e70158d2128896",
            "value": " 1.57k/1.57k [00:00&lt;00:00, 147kB/s]"
          }
        },
        "942a2e6275e247048b04167e05da2563": {
          "model_module": "@jupyter-widgets/base",
          "model_name": "LayoutModel",
          "model_module_version": "1.2.0",
          "state": {
            "_model_module": "@jupyter-widgets/base",
            "_model_module_version": "1.2.0",
            "_model_name": "LayoutModel",
            "_view_count": null,
            "_view_module": "@jupyter-widgets/base",
            "_view_module_version": "1.2.0",
            "_view_name": "LayoutView",
            "align_content": null,
            "align_items": null,
            "align_self": null,
            "border": null,
            "bottom": null,
            "display": null,
            "flex": null,
            "flex_flow": null,
            "grid_area": null,
            "grid_auto_columns": null,
            "grid_auto_flow": null,
            "grid_auto_rows": null,
            "grid_column": null,
            "grid_gap": null,
            "grid_row": null,
            "grid_template_areas": null,
            "grid_template_columns": null,
            "grid_template_rows": null,
            "height": null,
            "justify_content": null,
            "justify_items": null,
            "left": null,
            "margin": null,
            "max_height": null,
            "max_width": null,
            "min_height": null,
            "min_width": null,
            "object_fit": null,
            "object_position": null,
            "order": null,
            "overflow": null,
            "overflow_x": null,
            "overflow_y": null,
            "padding": null,
            "right": null,
            "top": null,
            "visibility": null,
            "width": null
          }
        },
        "f183d1eb6b2748c7bc628da96cbc0ebd": {
          "model_module": "@jupyter-widgets/base",
          "model_name": "LayoutModel",
          "model_module_version": "1.2.0",
          "state": {
            "_model_module": "@jupyter-widgets/base",
            "_model_module_version": "1.2.0",
            "_model_name": "LayoutModel",
            "_view_count": null,
            "_view_module": "@jupyter-widgets/base",
            "_view_module_version": "1.2.0",
            "_view_name": "LayoutView",
            "align_content": null,
            "align_items": null,
            "align_self": null,
            "border": null,
            "bottom": null,
            "display": null,
            "flex": null,
            "flex_flow": null,
            "grid_area": null,
            "grid_auto_columns": null,
            "grid_auto_flow": null,
            "grid_auto_rows": null,
            "grid_column": null,
            "grid_gap": null,
            "grid_row": null,
            "grid_template_areas": null,
            "grid_template_columns": null,
            "grid_template_rows": null,
            "height": null,
            "justify_content": null,
            "justify_items": null,
            "left": null,
            "margin": null,
            "max_height": null,
            "max_width": null,
            "min_height": null,
            "min_width": null,
            "object_fit": null,
            "object_position": null,
            "order": null,
            "overflow": null,
            "overflow_x": null,
            "overflow_y": null,
            "padding": null,
            "right": null,
            "top": null,
            "visibility": null,
            "width": null
          }
        },
        "a67c6ddd7c2b4facadb776a004cd018a": {
          "model_module": "@jupyter-widgets/controls",
          "model_name": "DescriptionStyleModel",
          "model_module_version": "1.5.0",
          "state": {
            "_model_module": "@jupyter-widgets/controls",
            "_model_module_version": "1.5.0",
            "_model_name": "DescriptionStyleModel",
            "_view_count": null,
            "_view_module": "@jupyter-widgets/base",
            "_view_module_version": "1.2.0",
            "_view_name": "StyleView",
            "description_width": ""
          }
        },
        "6ce583ef206e4c399de06ea053de34d0": {
          "model_module": "@jupyter-widgets/base",
          "model_name": "LayoutModel",
          "model_module_version": "1.2.0",
          "state": {
            "_model_module": "@jupyter-widgets/base",
            "_model_module_version": "1.2.0",
            "_model_name": "LayoutModel",
            "_view_count": null,
            "_view_module": "@jupyter-widgets/base",
            "_view_module_version": "1.2.0",
            "_view_name": "LayoutView",
            "align_content": null,
            "align_items": null,
            "align_self": null,
            "border": null,
            "bottom": null,
            "display": null,
            "flex": null,
            "flex_flow": null,
            "grid_area": null,
            "grid_auto_columns": null,
            "grid_auto_flow": null,
            "grid_auto_rows": null,
            "grid_column": null,
            "grid_gap": null,
            "grid_row": null,
            "grid_template_areas": null,
            "grid_template_columns": null,
            "grid_template_rows": null,
            "height": null,
            "justify_content": null,
            "justify_items": null,
            "left": null,
            "margin": null,
            "max_height": null,
            "max_width": null,
            "min_height": null,
            "min_width": null,
            "object_fit": null,
            "object_position": null,
            "order": null,
            "overflow": null,
            "overflow_x": null,
            "overflow_y": null,
            "padding": null,
            "right": null,
            "top": null,
            "visibility": null,
            "width": null
          }
        },
        "065175156f9a4016a78e55d0f92d5c02": {
          "model_module": "@jupyter-widgets/controls",
          "model_name": "ProgressStyleModel",
          "model_module_version": "1.5.0",
          "state": {
            "_model_module": "@jupyter-widgets/controls",
            "_model_module_version": "1.5.0",
            "_model_name": "ProgressStyleModel",
            "_view_count": null,
            "_view_module": "@jupyter-widgets/base",
            "_view_module_version": "1.2.0",
            "_view_name": "StyleView",
            "bar_color": null,
            "description_width": ""
          }
        },
        "76ff578fdf194e1a99c491e8129c818c": {
          "model_module": "@jupyter-widgets/base",
          "model_name": "LayoutModel",
          "model_module_version": "1.2.0",
          "state": {
            "_model_module": "@jupyter-widgets/base",
            "_model_module_version": "1.2.0",
            "_model_name": "LayoutModel",
            "_view_count": null,
            "_view_module": "@jupyter-widgets/base",
            "_view_module_version": "1.2.0",
            "_view_name": "LayoutView",
            "align_content": null,
            "align_items": null,
            "align_self": null,
            "border": null,
            "bottom": null,
            "display": null,
            "flex": null,
            "flex_flow": null,
            "grid_area": null,
            "grid_auto_columns": null,
            "grid_auto_flow": null,
            "grid_auto_rows": null,
            "grid_column": null,
            "grid_gap": null,
            "grid_row": null,
            "grid_template_areas": null,
            "grid_template_columns": null,
            "grid_template_rows": null,
            "height": null,
            "justify_content": null,
            "justify_items": null,
            "left": null,
            "margin": null,
            "max_height": null,
            "max_width": null,
            "min_height": null,
            "min_width": null,
            "object_fit": null,
            "object_position": null,
            "order": null,
            "overflow": null,
            "overflow_x": null,
            "overflow_y": null,
            "padding": null,
            "right": null,
            "top": null,
            "visibility": null,
            "width": null
          }
        },
        "007b84dd5fe9424280e70158d2128896": {
          "model_module": "@jupyter-widgets/controls",
          "model_name": "DescriptionStyleModel",
          "model_module_version": "1.5.0",
          "state": {
            "_model_module": "@jupyter-widgets/controls",
            "_model_module_version": "1.5.0",
            "_model_name": "DescriptionStyleModel",
            "_view_count": null,
            "_view_module": "@jupyter-widgets/base",
            "_view_module_version": "1.2.0",
            "_view_name": "StyleView",
            "description_width": ""
          }
        },
        "f6f4d62a8f6c44139930b728e9676872": {
          "model_module": "@jupyter-widgets/controls",
          "model_name": "HBoxModel",
          "model_module_version": "1.5.0",
          "state": {
            "_dom_classes": [],
            "_model_module": "@jupyter-widgets/controls",
            "_model_module_version": "1.5.0",
            "_model_name": "HBoxModel",
            "_view_count": null,
            "_view_module": "@jupyter-widgets/controls",
            "_view_module_version": "1.5.0",
            "_view_name": "HBoxView",
            "box_style": "",
            "children": [
              "IPY_MODEL_ce14478a2b7549a7aaa06e5c391e250f",
              "IPY_MODEL_f74c0189ba094af78aae511718b95aed",
              "IPY_MODEL_a76e2287344a47639cc3fb92b1b331fe"
            ],
            "layout": "IPY_MODEL_aff8a15f4fd14d00a7b4ae11b46e1f90"
          }
        },
        "ce14478a2b7549a7aaa06e5c391e250f": {
          "model_module": "@jupyter-widgets/controls",
          "model_name": "HTMLModel",
          "model_module_version": "1.5.0",
          "state": {
            "_dom_classes": [],
            "_model_module": "@jupyter-widgets/controls",
            "_model_module_version": "1.5.0",
            "_model_name": "HTMLModel",
            "_view_count": null,
            "_view_module": "@jupyter-widgets/controls",
            "_view_module_version": "1.5.0",
            "_view_name": "HTMLView",
            "description": "",
            "description_tooltip": null,
            "layout": "IPY_MODEL_f845b7c7c11747988e73cc5d0b8ca403",
            "placeholder": "​",
            "style": "IPY_MODEL_3fe98bbe571d4d65891af407bf7ee58a",
            "value": "pytorch_model.bin: 100%"
          }
        },
        "f74c0189ba094af78aae511718b95aed": {
          "model_module": "@jupyter-widgets/controls",
          "model_name": "FloatProgressModel",
          "model_module_version": "1.5.0",
          "state": {
            "_dom_classes": [],
            "_model_module": "@jupyter-widgets/controls",
            "_model_module_version": "1.5.0",
            "_model_name": "FloatProgressModel",
            "_view_count": null,
            "_view_module": "@jupyter-widgets/controls",
            "_view_module_version": "1.5.0",
            "_view_name": "ProgressView",
            "bar_style": "success",
            "description": "",
            "description_tooltip": null,
            "layout": "IPY_MODEL_19ef395e58dc4b12baf90a34d1a86b2d",
            "max": 242026427,
            "min": 0,
            "orientation": "horizontal",
            "style": "IPY_MODEL_ed653eccac1f4210a9dea997fb034334",
            "value": 242026427
          }
        },
        "a76e2287344a47639cc3fb92b1b331fe": {
          "model_module": "@jupyter-widgets/controls",
          "model_name": "HTMLModel",
          "model_module_version": "1.5.0",
          "state": {
            "_dom_classes": [],
            "_model_module": "@jupyter-widgets/controls",
            "_model_module_version": "1.5.0",
            "_model_name": "HTMLModel",
            "_view_count": null,
            "_view_module": "@jupyter-widgets/controls",
            "_view_module_version": "1.5.0",
            "_view_name": "HTMLView",
            "description": "",
            "description_tooltip": null,
            "layout": "IPY_MODEL_775030c7e20444948ce2a5463246bef2",
            "placeholder": "​",
            "style": "IPY_MODEL_3e2adcbf72ae4072a6201eb3b977e7f6",
            "value": " 242M/242M [00:00&lt;00:00, 376MB/s]"
          }
        },
        "aff8a15f4fd14d00a7b4ae11b46e1f90": {
          "model_module": "@jupyter-widgets/base",
          "model_name": "LayoutModel",
          "model_module_version": "1.2.0",
          "state": {
            "_model_module": "@jupyter-widgets/base",
            "_model_module_version": "1.2.0",
            "_model_name": "LayoutModel",
            "_view_count": null,
            "_view_module": "@jupyter-widgets/base",
            "_view_module_version": "1.2.0",
            "_view_name": "LayoutView",
            "align_content": null,
            "align_items": null,
            "align_self": null,
            "border": null,
            "bottom": null,
            "display": null,
            "flex": null,
            "flex_flow": null,
            "grid_area": null,
            "grid_auto_columns": null,
            "grid_auto_flow": null,
            "grid_auto_rows": null,
            "grid_column": null,
            "grid_gap": null,
            "grid_row": null,
            "grid_template_areas": null,
            "grid_template_columns": null,
            "grid_template_rows": null,
            "height": null,
            "justify_content": null,
            "justify_items": null,
            "left": null,
            "margin": null,
            "max_height": null,
            "max_width": null,
            "min_height": null,
            "min_width": null,
            "object_fit": null,
            "object_position": null,
            "order": null,
            "overflow": null,
            "overflow_x": null,
            "overflow_y": null,
            "padding": null,
            "right": null,
            "top": null,
            "visibility": null,
            "width": null
          }
        },
        "f845b7c7c11747988e73cc5d0b8ca403": {
          "model_module": "@jupyter-widgets/base",
          "model_name": "LayoutModel",
          "model_module_version": "1.2.0",
          "state": {
            "_model_module": "@jupyter-widgets/base",
            "_model_module_version": "1.2.0",
            "_model_name": "LayoutModel",
            "_view_count": null,
            "_view_module": "@jupyter-widgets/base",
            "_view_module_version": "1.2.0",
            "_view_name": "LayoutView",
            "align_content": null,
            "align_items": null,
            "align_self": null,
            "border": null,
            "bottom": null,
            "display": null,
            "flex": null,
            "flex_flow": null,
            "grid_area": null,
            "grid_auto_columns": null,
            "grid_auto_flow": null,
            "grid_auto_rows": null,
            "grid_column": null,
            "grid_gap": null,
            "grid_row": null,
            "grid_template_areas": null,
            "grid_template_columns": null,
            "grid_template_rows": null,
            "height": null,
            "justify_content": null,
            "justify_items": null,
            "left": null,
            "margin": null,
            "max_height": null,
            "max_width": null,
            "min_height": null,
            "min_width": null,
            "object_fit": null,
            "object_position": null,
            "order": null,
            "overflow": null,
            "overflow_x": null,
            "overflow_y": null,
            "padding": null,
            "right": null,
            "top": null,
            "visibility": null,
            "width": null
          }
        },
        "3fe98bbe571d4d65891af407bf7ee58a": {
          "model_module": "@jupyter-widgets/controls",
          "model_name": "DescriptionStyleModel",
          "model_module_version": "1.5.0",
          "state": {
            "_model_module": "@jupyter-widgets/controls",
            "_model_module_version": "1.5.0",
            "_model_name": "DescriptionStyleModel",
            "_view_count": null,
            "_view_module": "@jupyter-widgets/base",
            "_view_module_version": "1.2.0",
            "_view_name": "StyleView",
            "description_width": ""
          }
        },
        "19ef395e58dc4b12baf90a34d1a86b2d": {
          "model_module": "@jupyter-widgets/base",
          "model_name": "LayoutModel",
          "model_module_version": "1.2.0",
          "state": {
            "_model_module": "@jupyter-widgets/base",
            "_model_module_version": "1.2.0",
            "_model_name": "LayoutModel",
            "_view_count": null,
            "_view_module": "@jupyter-widgets/base",
            "_view_module_version": "1.2.0",
            "_view_name": "LayoutView",
            "align_content": null,
            "align_items": null,
            "align_self": null,
            "border": null,
            "bottom": null,
            "display": null,
            "flex": null,
            "flex_flow": null,
            "grid_area": null,
            "grid_auto_columns": null,
            "grid_auto_flow": null,
            "grid_auto_rows": null,
            "grid_column": null,
            "grid_gap": null,
            "grid_row": null,
            "grid_template_areas": null,
            "grid_template_columns": null,
            "grid_template_rows": null,
            "height": null,
            "justify_content": null,
            "justify_items": null,
            "left": null,
            "margin": null,
            "max_height": null,
            "max_width": null,
            "min_height": null,
            "min_width": null,
            "object_fit": null,
            "object_position": null,
            "order": null,
            "overflow": null,
            "overflow_x": null,
            "overflow_y": null,
            "padding": null,
            "right": null,
            "top": null,
            "visibility": null,
            "width": null
          }
        },
        "ed653eccac1f4210a9dea997fb034334": {
          "model_module": "@jupyter-widgets/controls",
          "model_name": "ProgressStyleModel",
          "model_module_version": "1.5.0",
          "state": {
            "_model_module": "@jupyter-widgets/controls",
            "_model_module_version": "1.5.0",
            "_model_name": "ProgressStyleModel",
            "_view_count": null,
            "_view_module": "@jupyter-widgets/base",
            "_view_module_version": "1.2.0",
            "_view_name": "StyleView",
            "bar_color": null,
            "description_width": ""
          }
        },
        "775030c7e20444948ce2a5463246bef2": {
          "model_module": "@jupyter-widgets/base",
          "model_name": "LayoutModel",
          "model_module_version": "1.2.0",
          "state": {
            "_model_module": "@jupyter-widgets/base",
            "_model_module_version": "1.2.0",
            "_model_name": "LayoutModel",
            "_view_count": null,
            "_view_module": "@jupyter-widgets/base",
            "_view_module_version": "1.2.0",
            "_view_name": "LayoutView",
            "align_content": null,
            "align_items": null,
            "align_self": null,
            "border": null,
            "bottom": null,
            "display": null,
            "flex": null,
            "flex_flow": null,
            "grid_area": null,
            "grid_auto_columns": null,
            "grid_auto_flow": null,
            "grid_auto_rows": null,
            "grid_column": null,
            "grid_gap": null,
            "grid_row": null,
            "grid_template_areas": null,
            "grid_template_columns": null,
            "grid_template_rows": null,
            "height": null,
            "justify_content": null,
            "justify_items": null,
            "left": null,
            "margin": null,
            "max_height": null,
            "max_width": null,
            "min_height": null,
            "min_width": null,
            "object_fit": null,
            "object_position": null,
            "order": null,
            "overflow": null,
            "overflow_x": null,
            "overflow_y": null,
            "padding": null,
            "right": null,
            "top": null,
            "visibility": null,
            "width": null
          }
        },
        "3e2adcbf72ae4072a6201eb3b977e7f6": {
          "model_module": "@jupyter-widgets/controls",
          "model_name": "DescriptionStyleModel",
          "model_module_version": "1.5.0",
          "state": {
            "_model_module": "@jupyter-widgets/controls",
            "_model_module_version": "1.5.0",
            "_model_name": "DescriptionStyleModel",
            "_view_count": null,
            "_view_module": "@jupyter-widgets/base",
            "_view_module_version": "1.2.0",
            "_view_name": "StyleView",
            "description_width": ""
          }
        }
      }
    }
  },
  "nbformat_minor": 0,
  "nbformat": 4,
  "cells": [
    {
      "cell_type": "markdown",
      "metadata": {
        "id": "view-in-github",
        "colab_type": "text"
      },
      "source": [
        "<a href=\"https://colab.research.google.com/github/sajan-sarker/java-python-code-translation/blob/main/java-to-python-codet5-small-plbart-base.ipynb\" target=\"_parent\"><img src=\"https://colab.research.google.com/assets/colab-badge.svg\" alt=\"Open In Colab\"/></a>"
      ]
    },
    {
      "cell_type": "markdown",
      "source": [
        "# Notebook Details\n",
        "# This notebook contain the CodeT5 small and PLBART Base model Fine Tuning codes.\n",
        "# CodeT5 small used to translate the Java codes into Python codes.\n",
        "# PLBART base model was used to correct the translated python codes.\n",
        "\n",
        "# BLEU evaluation metrics was used here.\n",
        "# Directory structures:\n",
        "  - datasets (avatar tc parallel java-python code pairs datasets as train, valid, test)\n",
        "  - models\n",
        "    - codet5 (checkpoint and finetune model)\n",
        "    - plbart (checkpoint and finetune model)\n",
        "  - outputs\n",
        "    - codet5_translations (contain the translated train, valid, test dataset that used to train the plbart model)\n",
        "    - plbart_tranlations (contain the corrected test dataset that used for evaluation)\n",
        "    - training_log.txt [codet5 training logs]\n",
        "  - results\n",
        "    - codet5 (loss curves and training scores)\n",
        "    - plbart (loss curves and training scores)\n",
        "\n",
        "\n",
        "# Notebook Structure\n",
        "  - Installations\n",
        "  - Necessary Imports\n",
        "  - Configurations\n",
        "  - Common Helper Functions\n",
        "  - Codet5\n",
        "  - Plbart\n",
        "  - Inference"
      ],
      "metadata": {
        "id": "r3VR4T3rBp74"
      }
    },
    {
      "cell_type": "markdown",
      "source": [
        "*****\n",
        "# Installations"
      ],
      "metadata": {
        "id": "cIF-JmoNjcIA"
      }
    },
    {
      "cell_type": "code",
      "source": [
        "!pip install transformers==4.51.0 -q\n",
        "!pip install sacrebleu==2.5.1 -q\n",
        "!pip install -q gdown\n",
        "\n",
        "!gdown --folder https://drive.google.com/drive/folders/1r4iIHQNDxtsDRaYcXYjTugDXR_D3_KDu?usp=drive_link\n",
        "!gdown --folder https://drive.google.com/drive/folders/1uy70PCJ8xSwjRlXTUP8nQzW5FiFHX0DV?usp=drive_link\n",
        "!gdown --folder https://drive.google.com/drive/folders/1RfjyAuXOjo3NEDtgrEjOtejYIf_iMa6K?usp=drive_link"
      ],
      "metadata": {
        "trusted": true,
        "id": "eRxm_2FfZI5c",
        "execution": {
          "iopub.status.busy": "2025-06-09T10:15:02.886950Z",
          "iopub.execute_input": "2025-06-09T10:15:02.887422Z",
          "iopub.status.idle": "2025-06-09T10:16:45.416136Z",
          "shell.execute_reply.started": "2025-06-09T10:15:02.887402Z",
          "shell.execute_reply": "2025-06-09T10:16:45.415427Z"
        },
        "colab": {
          "base_uri": "https://localhost:8080/"
        },
        "outputId": "7b10e157-8b0f-4f0a-af86-31a1c8b5e399"
      },
      "outputs": [
        {
          "output_type": "stream",
          "name": "stdout",
          "text": [
            "\u001b[2K   \u001b[90m━━━━━━━━━━━━━━━━━━━━━━━━━━━━━━━━━━━━━━━━\u001b[0m \u001b[32m10.4/10.4 MB\u001b[0m \u001b[31m41.7 MB/s\u001b[0m eta \u001b[36m0:00:00\u001b[0m\n",
            "\u001b[2K     \u001b[90m━━━━━━━━━━━━━━━━━━━━━━━━━━━━━━━━━━━━━━━━\u001b[0m \u001b[32m51.8/51.8 kB\u001b[0m \u001b[31m3.0 MB/s\u001b[0m eta \u001b[36m0:00:00\u001b[0m\n",
            "\u001b[2K   \u001b[90m━━━━━━━━━━━━━━━━━━━━━━━━━━━━━━━━━━━━━━━━\u001b[0m \u001b[32m104.1/104.1 kB\u001b[0m \u001b[31m6.5 MB/s\u001b[0m eta \u001b[36m0:00:00\u001b[0m\n",
            "\u001b[?25hRetrieving folder contents\n",
            "Processing file 1ibRJPEGiKO0B9AE1wn9_bZvPRhhDR7nX test.java-python.java\n",
            "Processing file 1BQ8deyS_XdfReCv5JaGhmMWZ2ivF9RDz test.java-python.python\n",
            "Processing file 1Fdi-fNNTGd997Tg1TF1ABpCQiWhYGwY_ train.java-python.java\n",
            "Processing file 1ovLRwrh5kQUklHmrxJBmPntuNSq0IhfC train.java-python.python\n",
            "Processing file 1S7p6P_PRBBoT-0HyX7E_nOME4Q45yDzR valid.java-python.java\n",
            "Processing file 1_I8e9oc553Oltq--86g00FHhryfnaw8m valid.java-python.python\n",
            "Retrieving folder contents completed\n",
            "Building directory structure\n",
            "Building directory structure completed\n",
            "Downloading...\n",
            "From: https://drive.google.com/uc?id=1ibRJPEGiKO0B9AE1wn9_bZvPRhhDR7nX\n",
            "To: /content/datasets/test.java-python.java\n",
            "100% 1.26M/1.26M [00:00<00:00, 162MB/s]\n",
            "Downloading...\n",
            "From: https://drive.google.com/uc?id=1BQ8deyS_XdfReCv5JaGhmMWZ2ivF9RDz\n",
            "To: /content/datasets/test.java-python.python\n",
            "100% 1.12M/1.12M [00:00<00:00, 139MB/s]\n",
            "Downloading...\n",
            "From: https://drive.google.com/uc?id=1Fdi-fNNTGd997Tg1TF1ABpCQiWhYGwY_\n",
            "To: /content/datasets/train.java-python.java\n",
            "100% 47.8M/47.8M [00:00<00:00, 119MB/s]\n",
            "Downloading...\n",
            "From: https://drive.google.com/uc?id=1ovLRwrh5kQUklHmrxJBmPntuNSq0IhfC\n",
            "To: /content/datasets/train.java-python.python\n",
            "100% 34.2M/34.2M [00:00<00:00, 132MB/s]\n",
            "Downloading...\n",
            "From: https://drive.google.com/uc?id=1S7p6P_PRBBoT-0HyX7E_nOME4Q45yDzR\n",
            "To: /content/datasets/valid.java-python.java\n",
            "100% 313k/313k [00:00<00:00, 90.4MB/s]\n",
            "Downloading...\n",
            "From: https://drive.google.com/uc?id=1_I8e9oc553Oltq--86g00FHhryfnaw8m\n",
            "To: /content/datasets/valid.java-python.python\n",
            "100% 292k/292k [00:00<00:00, 95.8MB/s]\n",
            "Download completed\n",
            "Retrieving folder contents\n",
            "Retrieving folder 1CIKOVAza_8cBJlrSuz4kF2XnjMezT30G codet5_translations\n",
            "Processing file 14eXlx8zxEezxb2rBdFn08SImLWEBCjqT test.translated-python-eval.python\n",
            "Processing file 1qu8qty6QHwbSZUqQPMtD6ODEwHLhpu9E test.translated-python.python\n",
            "Processing file 1iv4qd890Ke7RqsvaUVCKF9YdWtTfMUfF train.translated-python.python\n",
            "Processing file 1ux2ERdJOIHRr35DGR3EXMFwY44hNmRTP valid.translated-python.python\n",
            "Retrieving folder 1ftgmeHjAQXN3CajM1qswGO7CkSSFiqvF plbart_translations\n",
            "Processing file 1ysQ00TESYAvUdSUN1hkM1mCuSUTF7xLn test.translated-python-eval.python\n",
            "Processing file 1RGccEDQsxUQIa4x02rX1io70JmFwPaTS training_log.txt\n",
            "Retrieving folder contents completed\n",
            "Building directory structure\n",
            "Building directory structure completed\n",
            "Downloading...\n",
            "From: https://drive.google.com/uc?id=14eXlx8zxEezxb2rBdFn08SImLWEBCjqT\n",
            "To: /content/outputs/codet5_translations/test.translated-python-eval.python\n",
            "100% 895k/895k [00:00<00:00, 122MB/s]\n",
            "Downloading...\n",
            "From: https://drive.google.com/uc?id=1qu8qty6QHwbSZUqQPMtD6ODEwHLhpu9E\n",
            "To: /content/outputs/codet5_translations/test.translated-python.python\n",
            "100% 866k/866k [00:00<00:00, 117MB/s]\n",
            "Downloading...\n",
            "From: https://drive.google.com/uc?id=1iv4qd890Ke7RqsvaUVCKF9YdWtTfMUfF\n",
            "To: /content/outputs/codet5_translations/train.translated-python.python\n",
            "100% 22.1M/22.1M [00:00<00:00, 61.8MB/s]\n",
            "Downloading...\n",
            "From: https://drive.google.com/uc?id=1ux2ERdJOIHRr35DGR3EXMFwY44hNmRTP\n",
            "To: /content/outputs/codet5_translations/valid.translated-python.python\n",
            "100% 224k/224k [00:00<00:00, 98.3MB/s]\n",
            "Downloading...\n",
            "From: https://drive.google.com/uc?id=1ysQ00TESYAvUdSUN1hkM1mCuSUTF7xLn\n",
            "To: /content/outputs/plbart_translations/test.translated-python-eval.python\n",
            "100% 860k/860k [00:00<00:00, 152MB/s]\n",
            "Downloading...\n",
            "From: https://drive.google.com/uc?id=1RGccEDQsxUQIa4x02rX1io70JmFwPaTS\n",
            "To: /content/outputs/training_log.txt\n",
            "100% 4.75k/4.75k [00:00<00:00, 23.3MB/s]\n",
            "Download completed\n",
            "Retrieving folder contents\n",
            "Retrieving folder 1x_6vFhTjnPO0Z70RkmXolAQZTMFGfuqY codet5\n",
            "Retrieving folder 1UoKJ-TEYUXObrVmqstmi7-fpCPbDmUCJ checkpoint_epoch_10\n",
            "Processing file 1u2k22IhoZgpg7SLGZRDl0TzLbEBa1G-L checkpoint.pt\n",
            "Processing file 1kfxrCkRllM0vugdJPhSAxSMT9S60vPa0 config.json\n",
            "Processing file 11sviVHQGhvXunx1ZrOoPmPHhTf27eGwg generation_config.json\n",
            "Processing file 1esyCHzxX9gIJuhdPGQSclSSz3aEAYFEJ merges.txt\n",
            "Processing file 1NbFqbVvR9xxAFrpUKX_0cChRz6Rj1Zqq model.safetensors\n",
            "Processing file 1JctBMpQzhkk2o_Ud4Ioqt-6SUCYxOKqS special_tokens_map.json\n",
            "Processing file 1hekxzeXU0xO1QDrSZTwjqhTcj4FuqbLV tokenizer_config.json\n",
            "Processing file 1a4V5DX3qFTiMXniRCx4H31aMk5lOjCMz vocab.json\n",
            "Retrieving folder 1SUrKGhTa4biuCw2hSd-1ezjc8gRxanCb plbart\n",
            "Retrieving folder 1oI5BZfeQcT4ZHoULmyxBQFuwA6D1L-un plbart_python_correction\n",
            "Processing file 1kKut0VwPGZS0E65Pnvf9uVqQMp-ReNqA config.json\n",
            "Processing file 1D6Na-LOaEqOqX7NniEZWRfYW8UQTHaFV generation_config.json\n",
            "Processing file 1-lPZI1cPWj9ynCPUa5RbwkIE-TwQ1NwS model.safetensors\n",
            "Processing file 18--IsFPS-OqeeSw5O1brDKqYmDbLaHc9 sentencepiece.bpe.model\n",
            "Processing file 18O1Wb4ql8S63WugiygEWfm9P52u308NH special_tokens_map.json\n",
            "Processing file 1iDgb5mQByk3n5-yF8PvIilrB6S7bR6hF tokenizer_config.json\n",
            "Processing file 1bwPeemtI9jaYSYKg8kbopBiuNnlZQoxM training_args.bin\n",
            "Retrieving folder contents completed\n",
            "Building directory structure\n",
            "Building directory structure completed\n",
            "Downloading...\n",
            "From (original): https://drive.google.com/uc?id=1u2k22IhoZgpg7SLGZRDl0TzLbEBa1G-L\n",
            "From (redirected): https://drive.google.com/uc?id=1u2k22IhoZgpg7SLGZRDl0TzLbEBa1G-L&confirm=t&uuid=0a9baf53-c941-40dd-a548-fa7b57d012f0\n",
            "To: /content/models/codet5/checkpoint_epoch_10/checkpoint.pt\n",
            "100% 726M/726M [00:11<00:00, 63.2MB/s]\n",
            "Downloading...\n",
            "From: https://drive.google.com/uc?id=1kfxrCkRllM0vugdJPhSAxSMT9S60vPa0\n",
            "To: /content/models/codet5/checkpoint_epoch_10/config.json\n",
            "100% 1.60k/1.60k [00:00<00:00, 10.2MB/s]\n",
            "Downloading...\n",
            "From: https://drive.google.com/uc?id=11sviVHQGhvXunx1ZrOoPmPHhTf27eGwg\n",
            "To: /content/models/codet5/checkpoint_epoch_10/generation_config.json\n",
            "100% 163/163 [00:00<00:00, 1.09MB/s]\n",
            "Downloading...\n",
            "From: https://drive.google.com/uc?id=1esyCHzxX9gIJuhdPGQSclSSz3aEAYFEJ\n",
            "To: /content/models/codet5/checkpoint_epoch_10/merges.txt\n",
            "100% 294k/294k [00:00<00:00, 98.9MB/s]\n",
            "Downloading...\n",
            "From (original): https://drive.google.com/uc?id=1NbFqbVvR9xxAFrpUKX_0cChRz6Rj1Zqq\n",
            "From (redirected): https://drive.google.com/uc?id=1NbFqbVvR9xxAFrpUKX_0cChRz6Rj1Zqq&confirm=t&uuid=95c38543-5b6d-4390-bc7d-ead36690030d\n",
            "To: /content/models/codet5/checkpoint_epoch_10/model.safetensors\n",
            "100% 242M/242M [00:04<00:00, 57.2MB/s]\n",
            "Downloading...\n",
            "From: https://drive.google.com/uc?id=1JctBMpQzhkk2o_Ud4Ioqt-6SUCYxOKqS\n",
            "To: /content/models/codet5/checkpoint_epoch_10/special_tokens_map.json\n",
            "100% 15.5k/15.5k [00:00<00:00, 30.9MB/s]\n",
            "Downloading...\n",
            "From: https://drive.google.com/uc?id=1hekxzeXU0xO1QDrSZTwjqhTcj4FuqbLV\n",
            "To: /content/models/codet5/checkpoint_epoch_10/tokenizer_config.json\n",
            "100% 21.0k/21.0k [00:00<00:00, 79.3MB/s]\n",
            "Downloading...\n",
            "From: https://drive.google.com/uc?id=1a4V5DX3qFTiMXniRCx4H31aMk5lOjCMz\n",
            "To: /content/models/codet5/checkpoint_epoch_10/vocab.json\n",
            "100% 639k/639k [00:00<00:00, 103MB/s]\n",
            "Downloading...\n",
            "From: https://drive.google.com/uc?id=1kKut0VwPGZS0E65Pnvf9uVqQMp-ReNqA\n",
            "To: /content/models/plbart/plbart_python_correction/config.json\n",
            "100% 806/806 [00:00<00:00, 4.11MB/s]\n",
            "Downloading...\n",
            "From: https://drive.google.com/uc?id=1D6Na-LOaEqOqX7NniEZWRfYW8UQTHaFV\n",
            "To: /content/models/plbart/plbart_python_correction/generation_config.json\n",
            "100% 160/160 [00:00<00:00, 1.12MB/s]\n",
            "Downloading...\n",
            "From (original): https://drive.google.com/uc?id=1-lPZI1cPWj9ynCPUa5RbwkIE-TwQ1NwS\n",
            "From (redirected): https://drive.google.com/uc?id=1-lPZI1cPWj9ynCPUa5RbwkIE-TwQ1NwS&confirm=t&uuid=d595eeae-f3ae-498c-837f-f20fb605fc39\n",
            "To: /content/models/plbart/plbart_python_correction/model.safetensors\n",
            "100% 557M/557M [00:05<00:00, 108MB/s] \n",
            "Downloading...\n",
            "From: https://drive.google.com/uc?id=18--IsFPS-OqeeSw5O1brDKqYmDbLaHc9\n",
            "To: /content/models/plbart/plbart_python_correction/sentencepiece.bpe.model\n",
            "100% 986k/986k [00:00<00:00, 176MB/s]\n",
            "Downloading...\n",
            "From: https://drive.google.com/uc?id=18O1Wb4ql8S63WugiygEWfm9P52u308NH\n",
            "To: /content/models/plbart/plbart_python_correction/special_tokens_map.json\n",
            "100% 367/367 [00:00<00:00, 2.07MB/s]\n",
            "Downloading...\n",
            "From: https://drive.google.com/uc?id=1iDgb5mQByk3n5-yF8PvIilrB6S7bR6hF\n",
            "To: /content/models/plbart/plbart_python_correction/tokenizer_config.json\n",
            "100% 1.91k/1.91k [00:00<00:00, 12.1MB/s]\n",
            "Downloading...\n",
            "From: https://drive.google.com/uc?id=1bwPeemtI9jaYSYKg8kbopBiuNnlZQoxM\n",
            "To: /content/models/plbart/plbart_python_correction/training_args.bin\n",
            "100% 5.24k/5.24k [00:00<00:00, 27.1MB/s]\n",
            "Download completed\n"
          ]
        }
      ],
      "execution_count": null
    },
    {
      "cell_type": "code",
      "source": [
        "# Original Dataset  ---------------------------------------------------------------\n",
        "# !gdown --folder https://drive.google.com/drive/folders/1r4iIHQNDxtsDRaYcXYjTugDXR_D3_KDu?usp=drive_link\n",
        "\n",
        "# Translated Dataset  ---------------------------------------------------------------\n",
        "# !gdown --folder https://drive.google.com/drive/folders/1uy70PCJ8xSwjRlXTUP8nQzW5FiFHX0DV?usp=drive_link\n",
        "\n",
        "# Models  ---------------------------------------------------------------\n",
        "# !gdown --folder https://drive.google.com/drive/folders/1RfjyAuXOjo3NEDtgrEjOtejYIf_iMa6K?usp=drive_link"
      ],
      "metadata": {
        "trusted": true,
        "id": "miS3C-j8ZI5d",
        "execution": {
          "iopub.status.busy": "2025-06-04T04:30:20.536085Z",
          "iopub.execute_input": "2025-06-04T04:30:20.536375Z",
          "iopub.status.idle": "2025-06-04T04:30:20.540568Z",
          "shell.execute_reply.started": "2025-06-04T04:30:20.536350Z",
          "shell.execute_reply": "2025-06-04T04:30:20.539819Z"
        },
        "jupyter": {
          "source_hidden": true
        }
      },
      "outputs": [],
      "execution_count": null
    },
    {
      "cell_type": "markdown",
      "source": [
        "*****\n",
        "# Necessary Imports"
      ],
      "metadata": {
        "id": "hYoOrO1zZI5c"
      }
    },
    {
      "cell_type": "code",
      "source": [
        "import json\n",
        "import logging\n",
        "import os\n",
        "import re\n",
        "import sys\n",
        "import nltk\n",
        "import warnings\n",
        "import shutil\n",
        "import zipfile\n",
        "\n",
        "import matplotlib.pyplot as plt\n",
        "import numpy as np\n",
        "import pandas as pd\n",
        "import sacrebleu\n",
        "import torch\n",
        "import torch.nn as nn\n",
        "\n",
        "from IPython.display import FileLink\n",
        "from sacrebleu import corpus_bleu\n",
        "from nltk.translate.bleu_score import sentence_bleu, SmoothingFunction\n",
        "from torch.nn.utils import clip_grad_norm_\n",
        "from torch.cuda.amp import GradScaler, autocast\n",
        "from torch.utils.data import DataLoader, Dataset\n",
        "from tqdm import tqdm\n",
        "from transformers import get_linear_schedule_with_warmup\n",
        "from transformers import Trainer, TrainingArguments, DataCollatorForSeq2Seq\n",
        "from transformers import RobertaTokenizer, T5ForConditionalGeneration, PLBartForConditionalGeneration, PLBartTokenizer\n",
        "\n",
        "nltk.download('punkt')\n",
        "warnings.filterwarnings('ignore')"
      ],
      "metadata": {
        "trusted": true,
        "execution": {
          "iopub.status.busy": "2025-06-09T10:17:04.618206Z",
          "iopub.execute_input": "2025-06-09T10:17:04.618772Z",
          "iopub.status.idle": "2025-06-09T10:17:47.044847Z",
          "shell.execute_reply.started": "2025-06-09T10:17:04.618740Z",
          "shell.execute_reply": "2025-06-09T10:17:47.043895Z"
        },
        "colab": {
          "base_uri": "https://localhost:8080/"
        },
        "id": "paNXWcn6ZI5d",
        "outputId": "671d0312-b68d-45f1-dc24-57cae2822aea"
      },
      "outputs": [
        {
          "output_type": "stream",
          "name": "stderr",
          "text": [
            "[nltk_data] Downloading package punkt to /root/nltk_data...\n",
            "[nltk_data]   Unzipping tokenizers/punkt.zip.\n"
          ]
        }
      ],
      "execution_count": null
    },
    {
      "cell_type": "code",
      "source": [
        "# setup random seeds\n",
        "torch.manual_seed(42)\n",
        "np.random.seed(42)\n",
        "torch.backends.cudnn.deterministic = True\n",
        "\n",
        "# create directories for models and results\n",
        "os.makedirs('models', exist_ok=True)\n",
        "os.makedirs('results', exist_ok=True)\n",
        "os.makedirs('outputs/codet5_translations', exist_ok=True)\n",
        "cwd = os.getcwd()\n",
        "\n",
        "# Setup logging with detailed format\n",
        "logging.basicConfig(\n",
        "    level=logging.INFO,\n",
        "    format='%(asctime)s - %(levelname)s - %(message)s',\n",
        "    handlers=[\n",
        "        logging.FileHandler(os.path.join(cwd, 'results', 'training.log')),\n",
        "        logging.StreamHandler(sys.stdout)\n",
        "    ]\n",
        ")\n",
        "logger = logging.getLogger(__name__)\n",
        "\n",
        "# check for device\n",
        "device = torch.device('cuda' if torch.cuda.is_available() else 'cpu')\n",
        "print(f\"Total GPUs: {torch.cuda.device_count()}\")\n",
        "print(f\"GPU Names: {[torch.cuda.get_device_name(i) for i in range(torch.cuda.device_count())]}\")"
      ],
      "metadata": {
        "trusted": true,
        "execution": {
          "iopub.status.busy": "2025-06-09T10:17:47.046054Z",
          "iopub.execute_input": "2025-06-09T10:17:47.046607Z",
          "iopub.status.idle": "2025-06-09T10:17:47.061566Z",
          "shell.execute_reply.started": "2025-06-09T10:17:47.046586Z",
          "shell.execute_reply": "2025-06-09T10:17:47.060780Z"
        },
        "colab": {
          "base_uri": "https://localhost:8080/"
        },
        "id": "ywErtawsZI5d",
        "outputId": "c85d33a7-3f3d-4def-cad4-48fb99e795c2"
      },
      "outputs": [
        {
          "output_type": "stream",
          "name": "stdout",
          "text": [
            "Total GPUs: 1\n",
            "GPU Names: ['Tesla T4']\n"
          ]
        }
      ],
      "execution_count": null
    },
    {
      "cell_type": "markdown",
      "source": [
        "*****\n",
        "# Configurations"
      ],
      "metadata": {
        "id": "fmecFuB9ZI5d"
      }
    },
    {
      "cell_type": "code",
      "source": [
        "MAX_SOURCE_LEN_JAVA = 350\n",
        "MAX_SOURCE_LEN_PYTHON = 256\n",
        "MAX_TARGET_LEN_PYTHON = 256\n",
        "BATCH_SIZE = 16\n",
        "\n",
        "# CODET5\n",
        "CODET5_LEARNING_RATE = 3e-4\n",
        "CODET5_WEIGHT_DECAY = 0.05\n",
        "\n",
        "CODET5_EPOCHS = 10\n",
        "CODET5_TOTAL_EPOCHS = 10\n",
        "\n",
        "# PLBART\n",
        "PLBART_LEARNING_RATE = 3e-5\n",
        "PLBART_WEIGHT_DECAY = 0.01\n",
        "\n",
        "PLBART_EPOCHS = 10\n",
        "\n",
        "# COMMON\n",
        "GRADIENT_ACCUMULATION_STEPS = 2\n",
        "EARLY_STOPPING_PATIENCE = 6"
      ],
      "metadata": {
        "trusted": true,
        "execution": {
          "iopub.status.busy": "2025-06-09T10:18:21.449307Z",
          "iopub.execute_input": "2025-06-09T10:18:21.449663Z",
          "iopub.status.idle": "2025-06-09T10:18:21.454930Z",
          "shell.execute_reply.started": "2025-06-09T10:18:21.449638Z",
          "shell.execute_reply": "2025-06-09T10:18:21.454030Z"
        },
        "id": "GMAZWB3sZI5e"
      },
      "outputs": [],
      "execution_count": null
    },
    {
      "cell_type": "markdown",
      "source": [
        "*****\n",
        "# Common Helper Functions"
      ],
      "metadata": {
        "id": "fj2j8MCQZI5f"
      }
    },
    {
      "cell_type": "code",
      "source": [
        "def generate_translations(model, tokenizer, data_loader, output_file):\n",
        "    model.eval()\n",
        "    translations = []\n",
        "\n",
        "    with torch.no_grad():\n",
        "        for batch in tqdm(data_loader, desc=\"Generating Translations\", total=len(data_loader)):\n",
        "            input_ids = batch['input_ids'].to(device)\n",
        "            attention_mask = batch['attention_mask'].to(device)\n",
        "\n",
        "            outputs = model.generate(\n",
        "                input_ids=input_ids,\n",
        "                attention_mask=attention_mask,\n",
        "                max_length=MAX_TARGET_LEN_PYTHON,\n",
        "                num_beams=10,\n",
        "                early_stopping=True\n",
        "            )\n",
        "\n",
        "            decoded = tokenizer.batch_decode(outputs, skip_special_tokens=True)\n",
        "            translations.extend(decoded)\n",
        "\n",
        "    # Save results\n",
        "    with open(output_file, 'w', encoding='utf-8') as f:\n",
        "        for translated_code in translations:\n",
        "            f.write(translated_code + '\\n')\n",
        "    print(f\"\\n✅ Translations saved to: {output_file}\")\n",
        "\n",
        "    return translations\n",
        "\n",
        "def evaluate_model(original_file, predicted_file, stage=\"CodeT5\"):\n",
        "    def normalize_code(code):\n",
        "        return re.sub(r'\\s+', ' ', code.strip())\n",
        "\n",
        "    def load_file(path):\n",
        "        data = []\n",
        "        with open(path, encoding='utf-8') as f:\n",
        "            while True:\n",
        "                line = f.readline()\n",
        "                if not line:\n",
        "                    break\n",
        "                data.append(line.strip().replace(\"\\t\", \"    \"))\n",
        "        return data\n",
        "\n",
        "    try:\n",
        "        # load data from files\n",
        "        references = load_file(original_file)\n",
        "        translations = load_file(predicted_file)\n",
        "\n",
        "        # checking for both file length\n",
        "        if len(references) != len(translations):\n",
        "            logger.error(f\"Mismatch in number of samples: {len(references)} references vs {len(translations)} predictions\")\n",
        "            raise ValueError(\"Number of samples in original and predicted files must match\")\n",
        "\n",
        "        # calculating em(exact match) scores\n",
        "        em_scores = [1 if normalize_code(pred) == normalize_code(ref) else 0 for pred, ref in zip(translations, references)]\n",
        "        em_score = sum(em_scores) / len(em_scores) if em_scores else 0\n",
        "\n",
        "        # calculating bleu scores\n",
        "        bleu_scorer = sacrebleu.BLEU()\n",
        "        bleu = bleu_scorer.corpus_score(translations, [references]).score / 100  # normalize between 0 to 1\n",
        "\n",
        "        metrics = {\n",
        "            'em_score': em_score,\n",
        "            'bleu': bleu\n",
        "        }\n",
        "\n",
        "        print(f\"{stage} Evaluation Metrics:\")\n",
        "        print(json.dumps(metrics, indent=2))\n",
        "\n",
        "        with open(f'{cwd}/results/{stage.lower()}_evaluation_metrics.json', 'w') as f:\n",
        "            json.dump(metrics, f, indent=2)\n",
        "\n",
        "        return metrics\n",
        "\n",
        "    except Exception as e:\n",
        "        print(f\"Error evaluating model: {str(e)}\")\n",
        "        raise\n",
        "\n",
        "def learning_curve(train_loss, val_loss, train_acc, val_acc, bleu, title, path='results/codeT5'):\n",
        "    os.makedirs((os.getcwd()+'results'), exist_ok=True)\n",
        "\n",
        "    # loss curve\n",
        "    plt.figure(figsize=(7, 6))\n",
        "    plt.plot(train_loss, label='Training Loss', color='blue')\n",
        "    plt.plot(val_loss, label='Validation Loss', color='orange')\n",
        "    plt.title(f\"{title} Loss Curve\")\n",
        "    plt.xlabel('Epochs')\n",
        "    plt.ylabel('Loss')\n",
        "    plt.legend()\n",
        "    plt.grid(True)\n",
        "    plt.savefig(f'{path}_loss_curve.png')\n",
        "    plt.show()\n",
        "    plt.close()\n",
        "\n",
        "    print()\n",
        "\n",
        "    # accuradcy curve\n",
        "    plt.figure(figsize=(7, 6))\n",
        "    plt.plot(train_acc, label='Training Accuracy', color='red')\n",
        "    plt.plot(val_acc, label='Validation Accuracy', color='yellow')\n",
        "    plt.plot(bleu, label='Validation BLEU', color='green')\n",
        "    plt.title(f\"{title} Accuracy Curve\")\n",
        "    plt.xlabel('Epochs')\n",
        "    plt.ylabel('Accuracy')\n",
        "    plt.legend()\n",
        "    plt.grid(True)\n",
        "    plt.savefig(f'{path}_accuracy_curve.png')\n",
        "    plt.show()\n",
        "    plt.close()"
      ],
      "metadata": {
        "trusted": true,
        "jupyter": {
          "source_hidden": true
        },
        "execution": {
          "iopub.status.busy": "2025-06-09T10:18:24.522073Z",
          "iopub.execute_input": "2025-06-09T10:18:24.522352Z",
          "iopub.status.idle": "2025-06-09T10:18:24.535343Z",
          "shell.execute_reply.started": "2025-06-09T10:18:24.522330Z",
          "shell.execute_reply": "2025-06-09T10:18:24.534583Z"
        },
        "id": "-x-ZtZbsZI5f"
      },
      "outputs": [],
      "execution_count": null
    },
    {
      "cell_type": "markdown",
      "source": [
        "*****\n",
        "*****\n",
        "# CodeT5\n",
        "*****\n",
        "*****"
      ],
      "metadata": {
        "id": "in_nF_rHA5T-"
      }
    },
    {
      "cell_type": "markdown",
      "source": [
        "*****\n",
        "# CodeT5 Dataset & Functions"
      ],
      "metadata": {
        "id": "2w3Xb9trZI5f"
      }
    },
    {
      "cell_type": "code",
      "source": [
        "# setup dataset for java to python translation task\n",
        "class CodeTranslationDataset(Dataset):\n",
        "    def __init__(self, java_file, python_file, tokenizer, max_source_len, max_target_len, prefix=\"Translate Java Code into Python Code: \"):\n",
        "        self.java_codes = self.load_code(java_file)\n",
        "        self.python_codes = self.load_code(python_file)\n",
        "        self.tokenizer = tokenizer\n",
        "        self.max_source_len = max_source_len\n",
        "        self.max_target_len = max_target_len\n",
        "        self.prefix = prefix\n",
        "\n",
        "        if len(self.java_codes) != len(self.python_codes):\n",
        "            print(\"Dataset sizes do not match\")\n",
        "            raise ValueError(f\"Java ({len(self.java_codes)}) and Python ({len(self.python_codes)}) dataset sizes do not match\")\n",
        "\n",
        "    def load_code(self, file_path):\n",
        "        try:\n",
        "            data = []\n",
        "            with open(file_path, encoding='utf-8') as f:\n",
        "                while True:\n",
        "                    line = f.readline()\n",
        "                    if not line:\n",
        "                        break\n",
        "                    data.append(line.strip().replace(\"\\t\", \"    \"))\n",
        "            return data\n",
        "\n",
        "        except FileNotFoundError:\n",
        "            print(f\"File not found! {file_path}\")\n",
        "            raise\n",
        "\n",
        "        except Exception as e:\n",
        "            print(f\"Error reading file: {file_path}: {e}\")\n",
        "            raise\n",
        "\n",
        "    def __len__(self):\n",
        "        return len(self.java_codes)\n",
        "\n",
        "    def __getitem__(self, idx):\n",
        "        java_code = self.prefix + self.java_codes[idx]\n",
        "        python_code = self.python_codes[idx]\n",
        "\n",
        "        try:\n",
        "            java_encoding = self.tokenizer(\n",
        "                java_code,\n",
        "                max_length=self.max_source_len,\n",
        "                padding='max_length',\n",
        "                truncation=True,\n",
        "                return_tensors='pt'\n",
        "            )\n",
        "            python_encoding = self.tokenizer(\n",
        "                python_code,\n",
        "                max_length=self.max_target_len,\n",
        "                padding='max_length',\n",
        "                truncation=True,\n",
        "                return_tensors='pt'\n",
        "            )\n",
        "\n",
        "            return {\n",
        "                'input_ids': java_encoding['input_ids'].squeeze(),\n",
        "                'attention_mask': java_encoding['attention_mask'].squeeze(),\n",
        "                'labels': python_encoding['input_ids'].squeeze()\n",
        "            }\n",
        "        except Exception as e:\n",
        "            print(f\"Error tokenizing data at index {idx}: {str(e)}\")\n",
        "            raise"
      ],
      "metadata": {
        "trusted": true,
        "jupyter": {
          "source_hidden": true
        },
        "execution": {
          "iopub.status.busy": "2025-06-04T04:30:55.095308Z",
          "iopub.execute_input": "2025-06-04T04:30:55.095969Z",
          "iopub.status.idle": "2025-06-04T04:30:55.103740Z",
          "shell.execute_reply.started": "2025-06-04T04:30:55.095942Z",
          "shell.execute_reply": "2025-06-04T04:30:55.103068Z"
        },
        "id": "_f2CKSgJZI5f"
      },
      "outputs": [],
      "execution_count": null
    },
    {
      "cell_type": "code",
      "source": [
        "# dataloader function\n",
        "def load_data(java_file, python_file, tokenizer, max_source_len, max_target_len, batch_size, shuffle=False):\n",
        "    dataset = CodeTranslationDataset(\n",
        "        java_file, python_file, tokenizer, max_source_len, max_target_len\n",
        "    )\n",
        "    dataloader = DataLoader(dataset, batch_size=batch_size, shuffle=shuffle, num_workers=4)\n",
        "    return dataloader"
      ],
      "metadata": {
        "trusted": true,
        "jupyter": {
          "source_hidden": true
        },
        "execution": {
          "iopub.status.busy": "2025-06-04T04:30:55.582644Z",
          "iopub.execute_input": "2025-06-04T04:30:55.583099Z",
          "iopub.status.idle": "2025-06-04T04:30:55.586838Z",
          "shell.execute_reply.started": "2025-06-04T04:30:55.583079Z",
          "shell.execute_reply": "2025-06-04T04:30:55.586055Z"
        },
        "id": "0QBBM1q3ZI5k"
      },
      "outputs": [],
      "execution_count": null
    },
    {
      "cell_type": "code",
      "source": [
        "def train_codet5(model, tokenizer, train_loader, val_loader, optimizer, session_epochs, total_epochs, output_dir='models/codet5', checkpoint_frequency=1, resume_from_checkpoint=None, label_smoothing_factor=0.1):\n",
        "    \"\"\"Train CodeT5 model with early stopping, gradient accumulation, and FileLink for checkpoints.\"\"\"\n",
        "    os.makedirs(output_dir, exist_ok=True)\n",
        "\n",
        "    logging.basicConfig(\n",
        "        filename=os.path.join(output_dir, 'training_log.txt'),\n",
        "        level=logging.INFO,\n",
        "        format='%(asctime)s - %(levelname)s - %(message)s',\n",
        "        force=True\n",
        "    )\n",
        "    logger = logging.getLogger()\n",
        "\n",
        "    # label smoothing setup\n",
        "    use_custom_loss = False\n",
        "    if hasattr(model.config, 'label_smoothing_factor'):\n",
        "        model.config.label_smoothing_factor = label_smoothing_factor\n",
        "    else:\n",
        "        use_custom_loss = True\n",
        "        ce_loss = nn.CrossEntropyLoss(\n",
        "            label_smoothing=label_smoothing_factor,\n",
        "            ignore_index=tokenizer.pad_token_id\n",
        "        )\n",
        "\n",
        "    # Initialize metrics\n",
        "    train_losses, val_losses, train_accuracies, val_accuracies, val_bleu_scores = [], [], [], [], []\n",
        "    start_epoch = 0\n",
        "    best_val_loss = float('inf')\n",
        "    patience_counter = 0\n",
        "\n",
        "    # Load checkpoint\n",
        "    if resume_from_checkpoint:\n",
        "        checkpoint_path = os.path.join(resume_from_checkpoint, 'checkpoint.pt')\n",
        "        if os.path.exists(checkpoint_path):\n",
        "            try:\n",
        "                checkpoint = torch.load(checkpoint_path, map_location=device)\n",
        "                model.load_state_dict(checkpoint['model_state_dict'])\n",
        "                optimizer.load_state_dict(checkpoint['optimizer_state_dict'])\n",
        "                scheduler_state = checkpoint.get('scheduler_state_dict', None)\n",
        "                start_epoch = checkpoint['epoch'] + 1\n",
        "                train_losses = checkpoint['train_losses']\n",
        "                val_losses = checkpoint['val_losses']\n",
        "                train_accuracies = checkpoint['train_accuracies']\n",
        "                val_accuracies = checkpoint['val_accuracies']\n",
        "                val_bleu_scores = checkpoint.get('val_bleu_scores', [])\n",
        "                best_val_loss = min(val_losses) if val_losses else float('inf')\n",
        "                print(f\"Resumed from checkpoint at epoch {start_epoch}\")\n",
        "            except Exception as e:\n",
        "                print(f\"Checkpoint Load Error: {e}\")\n",
        "        else:\n",
        "            print(f\"Checkpoint {checkpoint_path} not found\")\n",
        "\n",
        "    # optimizer and scheduler\n",
        "    total_steps = len(train_loader) * (total_epochs - start_epoch) // GRADIENT_ACCUMULATION_STEPS\n",
        "    scheduler = get_linear_schedule_with_warmup(\n",
        "        optimizer,\n",
        "        num_warmup_steps=int(0.1 * total_steps),\n",
        "        num_training_steps=total_steps\n",
        "    )\n",
        "    if resume_from_checkpoint and scheduler_state:\n",
        "        try:\n",
        "            scheduler.load_state_dict(scheduler_state)\n",
        "            print(\"Scheduler state loaded\")\n",
        "        except Exception as e:\n",
        "            print(f\"Scheduler Load Error: {e}\")\n",
        "\n",
        "    scaler = GradScaler()\n",
        "    for epoch in range(start_epoch, start_epoch + session_epochs):\n",
        "        model.train()\n",
        "        total_train_loss = 0\n",
        "        correct, total = 0, 0\n",
        "        optimizer.zero_grad()\n",
        "\n",
        "        train_bar = tqdm(train_loader, desc=f'Training Epoch {epoch+1}/{total_epochs}', leave=True)\n",
        "        for i, batch in enumerate(train_bar):\n",
        "            try:\n",
        "                input_ids = batch['input_ids'].to(device)\n",
        "                attention_mask = batch['attention_mask'].to(device)\n",
        "                labels = batch['labels'].to(device)\n",
        "\n",
        "                with autocast():\n",
        "                    outputs = model(input_ids=input_ids, attention_mask=attention_mask, labels=labels)\n",
        "                    loss = outputs.loss if not use_custom_loss else ce_loss(\n",
        "                        outputs.logits.view(-1, outputs.logits.size(-1)),\n",
        "                        labels.view(-1)\n",
        "                    )\n",
        "                    loss = loss / GRADIENT_ACCUMULATION_STEPS\n",
        "\n",
        "                scaler.scale(loss).backward()\n",
        "                if (i + 1) % GRADIENT_ACCUMULATION_STEPS == 0:\n",
        "                    torch.nn.utils.clip_grad_norm_(model.parameters(), max_norm=1.0)\n",
        "                    scaler.step(optimizer)\n",
        "                    scaler.update()\n",
        "                    optimizer.zero_grad()\n",
        "                    scheduler.step()\n",
        "\n",
        "                total_train_loss += loss.item() * GRADIENT_ACCUMULATION_STEPS\n",
        "                preds = torch.argmax(outputs.logits, dim=-1)\n",
        "                mask = labels != tokenizer.pad_token_id\n",
        "                correct += ((preds == labels) * mask).sum().item()\n",
        "                total += mask.sum().item()\n",
        "\n",
        "            except RuntimeError as e:\n",
        "                print(f\"Training Error: {e}\")\n",
        "                continue\n",
        "\n",
        "        avg_train_loss = total_train_loss / len(train_loader)\n",
        "        train_accuracy = correct / total if total > 0 else 0\n",
        "        train_losses.append(avg_train_loss)\n",
        "        train_accuracies.append(train_accuracy)\n",
        "\n",
        "        # Validation\n",
        "        model.eval()\n",
        "        total_val_loss = 0\n",
        "        correct, total = 0, 0\n",
        "        bleu_scores = []\n",
        "\n",
        "        val_bar = tqdm(val_loader, desc='Validating', leave=True)\n",
        "        with torch.no_grad():\n",
        "            for batch in val_bar:\n",
        "                try:\n",
        "                    input_ids = batch['input_ids'].to(device)\n",
        "                    attention_mask = batch['attention_mask'].to(device)\n",
        "                    labels = batch['labels'].to(device)\n",
        "\n",
        "                    with autocast():\n",
        "                        outputs = model(input_ids=input_ids, attention_mask=attention_mask, labels=labels)\n",
        "                        loss = outputs.loss if not use_custom_loss else ce_loss(\n",
        "                            outputs.logits.view(-1, outputs.logits.size(-1)),\n",
        "                            labels.view(-1)\n",
        "                        )\n",
        "\n",
        "                    total_val_loss += loss.item()\n",
        "                    preds = torch.argmax(outputs.logits, dim=-1)\n",
        "                    mask = labels != tokenizer.pad_token_id\n",
        "                    correct += ((preds == labels) * mask).sum().item()\n",
        "                    total += mask.sum().item()\n",
        "\n",
        "                    for pred_seq, label_seq in zip(preds, labels):\n",
        "                        pred_text = tokenizer.decode(pred_seq[mask[0]], skip_special_tokens=True)\n",
        "                        label_text = tokenizer.decode(label_seq[mask[0]], skip_special_tokens=True)\n",
        "                        if pred_text.strip() and label_text.strip():\n",
        "                            bleu = sacrebleu.sentence_bleu(\n",
        "                                pred_text,\n",
        "                                [label_text],\n",
        "                                smooth_method='exp'\n",
        "                            ).score / 100\n",
        "                            bleu_scores.append(bleu)\n",
        "\n",
        "                except RuntimeError as e:\n",
        "                    print(f\"Validation Error: {e}\")\n",
        "                    continue\n",
        "\n",
        "        avg_val_loss = total_val_loss / len(val_loader)\n",
        "        val_accuracy = correct / total if total > 0 else 0\n",
        "        avg_bleu_score = sum(bleu_scores) / len(bleu_scores) if bleu_scores else 0\n",
        "        val_losses.append(avg_val_loss)\n",
        "        val_accuracies.append(val_accuracy)\n",
        "        val_bleu_scores.append(avg_bleu_score)\n",
        "\n",
        "        # print epoch results to console\n",
        "        log_message = (\n",
        "            f\"Epoch {epoch+1}/{total_epochs} | Train Loss: {avg_train_loss:.4f} | \"\n",
        "            f\"Val Loss: {avg_val_loss:.4f} | Train Acc: {train_accuracy:.4f} | \"\n",
        "            f\"Val Acc: {val_accuracy:.4f} | Val BLEU: {avg_bleu_score:.4f}\"\n",
        "        )\n",
        "        print(log_message)\n",
        "\n",
        "        # Save checkpoint\n",
        "        if (epoch + 1 - start_epoch) % checkpoint_frequency == 0 or epoch + 1 == start_epoch + session_epochs:\n",
        "            checkpoint_dir = os.path.join(output_dir, f'checkpoint_epoch_{epoch+1}')\n",
        "            os.makedirs(checkpoint_dir, exist_ok=True)\n",
        "            try:\n",
        "                model.save_pretrained(checkpoint_dir)\n",
        "                tokenizer.save_pretrained(checkpoint_dir)\n",
        "                torch.save({\n",
        "                    'epoch': epoch,\n",
        "                    'model_state_dict': model.state_dict(),\n",
        "                    'optimizer_state_dict': optimizer.state_dict(),\n",
        "                    'scheduler_state_dict': scheduler.state_dict(),\n",
        "                    'train_losses': train_losses,\n",
        "                    'val_losses': val_losses,\n",
        "                    'train_accuracies': train_accuracies,\n",
        "                    'val_accuracies': val_accuracies,\n",
        "                    'val_bleu_scores': val_bleu_scores\n",
        "                }, os.path.join(checkpoint_dir, 'checkpoint.pt'))\n",
        "                print(f\"Checkpoint saved to {checkpoint_dir}\")\n",
        "\n",
        "                # zip the checkpoint after every epoch\n",
        "                zip_path = os.path.join(output_dir, f'checkpoint_epoch_{epoch+1}.zip')\n",
        "                with zipfile.ZipFile(zip_path, 'w', zipfile.ZIP_DEFLATED) as zipf:\n",
        "                    for root, _, files in os.walk(checkpoint_dir):\n",
        "                        for file in files:\n",
        "                            file_path = os.path.join(root, file)\n",
        "                            zipf.write(\n",
        "                                file_path,\n",
        "                                os.path.relpath(file_path, output_dir)\n",
        "                            )\n",
        "                print(f\"Created zip file: {zip_path}\")\n",
        "\n",
        "                # show download link for each epoch checkpoint\n",
        "                if os.path.exists(zip_path):\n",
        "                    try:\n",
        "                        if 'IPython' in sys.modules and hasattr(sys.modules['IPython'], 'get_ipython'):\n",
        "                            link = FileLink(zip_path)\n",
        "                            display(link)\n",
        "                            print(f\"Download checkpoint for epoch {epoch+1}: {link}\")\n",
        "                        else:\n",
        "                            abs_zip_path = os.path.abspath(zip_path)\n",
        "                            print(f\"Checkpoint zip at: {abs_zip_path}\")\n",
        "                    except Exception as e:\n",
        "                        print(f\"Checkpoint at: {os.path.abspath(zip_path)}\")\n",
        "                else:\n",
        "                    print(f\"Zip file {zip_path} was not created\")\n",
        "\n",
        "            except Exception as e:\n",
        "                print(f\"Error saving checkpoint: {e}\")\n",
        "\n",
        "        # early stopping\n",
        "        if avg_val_loss < best_val_loss:\n",
        "            best_val_loss = avg_val_loss\n",
        "            patience_counter = 0\n",
        "        else:\n",
        "            patience_counter += 1\n",
        "            if patience_counter >= EARLY_STOPPING_PATIENCE:\n",
        "                print(f\"Early stopping triggered at epoch {epoch+1}\")\n",
        "                break\n",
        "\n",
        "    # save metrics\n",
        "    try:\n",
        "        metrics_df = pd.DataFrame({\n",
        "            'epoch': list(range(1, len(train_losses) + 1)),\n",
        "            'train_loss': train_losses,\n",
        "            'val_loss': val_losses,\n",
        "            'train_accuracy': train_accuracies,\n",
        "            'val_accuracy': val_accuracies,\n",
        "            'val_bleu_score': val_bleu_scores\n",
        "        })\n",
        "        csv_path = os.path.join(output_dir, 'codet5_training_scores.csv')\n",
        "        metrics_df.to_csv(csv_path, index=False)\n",
        "        print(f\"Training metrics saved to {csv_path}\")\n",
        "\n",
        "        # generate csv download link\n",
        "        if os.path.exists(csv_path):\n",
        "            try:\n",
        "                if 'IPython' in sys.modules and hasattr(sys.modules['IPython'], 'get_ipython'):\n",
        "                    csv_link = FileLink(csv_path)\n",
        "                    display(csv_link)\n",
        "                    print(f\"Download training metrics CSV: {csv_link}\")\n",
        "                else:\n",
        "                    abs_csv_path = os.path.abspath(csv_path)\n",
        "                    print(f\"FileLink not supported in this environment. Access the metrics CSV at: {abs_csv_path}\")\n",
        "            except Exception as e:\n",
        "                abs_csv_path = os.path.abspath(csv_path)\n",
        "                print(f\"Failed to create FileLink. Access the metrics CSV at: {abs_csv_path}\")\n",
        "        else:\n",
        "            print(f\"Error: Metrics CSV {csv_path} was not created\")\n",
        "\n",
        "        # generate log download link\n",
        "        log_path = os.path.join(output_dir, 'training_log.txt')\n",
        "        if os.path.exists(log_path):\n",
        "            try:\n",
        "                if 'IPython' in sys.modules and hasattr(sys.modules['IPython'], 'get_ipython'):\n",
        "                    log_link = FileLink(log_path)\n",
        "                    display(log_link)\n",
        "                    print(f\"Download training log: {log_link}\")\n",
        "                else:\n",
        "                    abs_log_path = os.path.abspath(log_path)\n",
        "                    print(f\"FileLink not supported in this environment. Access the training log at: {abs_log_path}\")\n",
        "            except Exception as e:\n",
        "                logger.error(f\"Error creating FileLink for {log_path}: {e}\")\n",
        "                abs_log_path = os.path.abspath(log_path)\n",
        "                print(f\"Failed to create FileLink. Access the training log at: {abs_log_path}\")\n",
        "        else:\n",
        "            print(f\"Error: Training log {log_path} was not created\")\n",
        "\n",
        "    except Exception as e:\n",
        "        print(f\"Error saving metrics: {e}\")\n",
        "\n",
        "    return train_losses, val_losses, train_accuracies, val_accuracies, val_bleu_scores"
      ],
      "metadata": {
        "trusted": true,
        "execution": {
          "iopub.status.busy": "2025-06-04T04:30:55.522813Z",
          "iopub.execute_input": "2025-06-04T04:30:55.523400Z",
          "iopub.status.idle": "2025-06-04T04:30:55.552672Z",
          "shell.execute_reply.started": "2025-06-04T04:30:55.523375Z",
          "shell.execute_reply": "2025-06-04T04:30:55.551948Z"
        },
        "jupyter": {
          "source_hidden": true
        },
        "id": "N78QGJevZI5g"
      },
      "outputs": [],
      "execution_count": null
    },
    {
      "cell_type": "markdown",
      "source": [
        "*****\n",
        "# CodeT5 Training\n"
      ],
      "metadata": {
        "id": "529YXcJ2ZI5l"
      }
    },
    {
      "cell_type": "markdown",
      "source": [
        "#### Modell Loading"
      ],
      "metadata": {
        "id": "UPGcH4bIcQps"
      }
    },
    {
      "cell_type": "code",
      "source": [
        "# load codet5 tokenizers and model\n",
        "print(\"Loading CodeT5 model and tokenizer: \\n\")\n",
        "codet5_tokenizer = RobertaTokenizer.from_pretrained('Salesforce/codet5-small')\n",
        "codet5_model = T5ForConditionalGeneration.from_pretrained('Salesforce/codet5-small').to(device)\n",
        "\n",
        "# loading dataset and create dataloader\n",
        "print(\"\\nLoading datasets\")\n",
        "train_loader = load_data(\n",
        "    java_file=cwd+'/datasets/train.java-python.java',\n",
        "    python_file=cwd+'/datasets/train.java-python.python',\n",
        "    tokenizer=codet5_tokenizer,\n",
        "    max_source_len=MAX_SOURCE_LEN_JAVA,\n",
        "    max_target_len=MAX_TARGET_LEN_PYTHON,\n",
        "    batch_size=BATCH_SIZE,\n",
        "    shuffle=True\n",
        ")\n",
        "val_loader = load_data(\n",
        "    java_file=cwd+'/datasets/valid.java-python.java',\n",
        "    python_file=cwd+'/datasets/valid.java-python.python',\n",
        "    tokenizer=codet5_tokenizer,\n",
        "    max_source_len=MAX_SOURCE_LEN_JAVA,\n",
        "    max_target_len=MAX_TARGET_LEN_PYTHON,\n",
        "    batch_size=BATCH_SIZE\n",
        ")\n",
        "test_loader = load_data(\n",
        "    java_file=cwd+'/datasets/test.java-python.java',\n",
        "    python_file=cwd+'/datasets/test.java-python.python',\n",
        "    tokenizer=codet5_tokenizer,\n",
        "    max_source_len=MAX_SOURCE_LEN_JAVA,\n",
        "    max_target_len=MAX_TARGET_LEN_PYTHON,\n",
        "    batch_size=BATCH_SIZE\n",
        ")\n",
        "print(\"\\n-----------------------\")\n",
        "print(\"    Dataset Details:    \")\n",
        "print(\"-----------------------\")\n",
        "print(\"# of Training samples:\", len(train_loader.dataset))\n",
        "print(\"# of Validation samples:\", len(val_loader.dataset))\n",
        "print(\"# of Test samples:\", len(test_loader.dataset))\n",
        "print(\"-----------------------\\n\")"
      ],
      "metadata": {
        "trusted": true,
        "execution": {
          "iopub.status.busy": "2025-06-04T04:30:58.895616Z",
          "iopub.execute_input": "2025-06-04T04:30:58.896263Z",
          "iopub.status.idle": "2025-06-04T04:31:06.399423Z",
          "shell.execute_reply.started": "2025-06-04T04:30:58.896239Z",
          "shell.execute_reply": "2025-06-04T04:31:06.398176Z"
        },
        "colab": {
          "base_uri": "https://localhost:8080/",
          "height": 481,
          "referenced_widgets": [
            "341f9a46625f44fc9c6bf414e531b0cc",
            "4b929e8216204204adb35aac7423ca4d",
            "f843b5de62ae4cfc89ec5cdb0ddb2e3d",
            "8aeff21af2e74a6d92d904d798149fbd",
            "5083207300524ea4aa76265b53f935dd",
            "2722384ec54843619aaf77ddf8ab8098",
            "a5d79a05b0994c3093761ac32537c36d",
            "09092da92cae4d218810f595c9a349ad",
            "d1b761df2e3e4d33a89a53b427eb8b47",
            "098550e62ad14e0eb2eac0ccbcf428af",
            "da1e80edd9954461b3a04686e7a7dee0",
            "ab9313743f5341e699056fd29aa296eb",
            "f857bf4db57a4184b881c167eef24417",
            "e3597664becb491aa3409a4e24911f57",
            "4a55ce8f76f84a71b9205cdba40700d1",
            "dec30b77e0514655b6f46fc89e8a5414",
            "bd1acbe66b574320aea9414ca4ce7234",
            "77d82c01fdb44e3bab2c3e4a0ecd02fe",
            "a71111f9cbc2419f93be89ac90b6bc1a",
            "bf970c6920ed41a793f4e72e34bdb528",
            "1fa0e758eab641c3b8f275e04adecabc",
            "5ebd9db9b05444f09c498dfbbc29e02f",
            "e60e3722f80742478c0917c0c4bdd18b",
            "9de51a3fd4ad4a978af39dd660df209b",
            "932a716c60e3406182ada2dd4bb3cc10",
            "d06da1a54d78441b925a0f7502836123",
            "a731528cdf2a470f983a7232973f3021",
            "eca8678196444fff82deb5c44b2bdfdd",
            "8614d26ebbf1422fb69555ab815e535f",
            "7be54bd6889f46aeaa097afb47f2d77a",
            "cf4ece9ad82b453cadd9bb91b7a6e787",
            "ee7e446d9e6940c28f7d5038442b6e88",
            "712c75fa4b0f40669091da5d260d14c0",
            "bf4efa6163834ff7bac031067e75b2b3",
            "927e236333bc4dd0babb88cd68899858",
            "696ad48fc8024f6f80a69405c9fcd556",
            "f8901c772e054f5183de9e391dcd80c6",
            "e53c7326d6774a6bb52595678d43325a",
            "16aa27f7b70448d29dc3ee22b282972d",
            "75f1e06b878347beadf26f8d1ab8d664",
            "59e4068ec9c142d1a5a7cc18753e091e",
            "bb0687a3590b4f4ba379ab64791fd704",
            "8a81a643c47c423089b52cf2f52d0f37",
            "6782966417754f5e810711ae1e8f455c",
            "1f2493a17e704f099bb5802f2a8fdfe1",
            "48883918f2504a52af8a84127e9b88b2",
            "c3ba549295884e7196e585a1f40d5d16",
            "a828521ec77444efb2542c282c2b0b89",
            "7b75b7e2374f45069d01290c08411cb2",
            "e74bdaeb21e64cd7adb3a428d080f7b3",
            "cb6d47bde3b14fcebad67961467b4b0d",
            "45d4fcba07ba473dbde3a4b638eeacc1",
            "0f44e02905ad462db381d820c15be1b7",
            "f9ea874572f9470e99259dcb7535793c",
            "ea3e14dbd7024598acbef956970198e1",
            "cf382bccf10746fea78a94658efb5818",
            "1fa9826c6c54404295de53c94ae45fff",
            "816134a54a19433ab7f3927340343414",
            "3a3a9c11cbcd44f9a45a4e5c6091797a",
            "942a2e6275e247048b04167e05da2563",
            "f183d1eb6b2748c7bc628da96cbc0ebd",
            "a67c6ddd7c2b4facadb776a004cd018a",
            "6ce583ef206e4c399de06ea053de34d0",
            "065175156f9a4016a78e55d0f92d5c02",
            "76ff578fdf194e1a99c491e8129c818c",
            "007b84dd5fe9424280e70158d2128896",
            "f6f4d62a8f6c44139930b728e9676872",
            "ce14478a2b7549a7aaa06e5c391e250f",
            "f74c0189ba094af78aae511718b95aed",
            "a76e2287344a47639cc3fb92b1b331fe",
            "aff8a15f4fd14d00a7b4ae11b46e1f90",
            "f845b7c7c11747988e73cc5d0b8ca403",
            "3fe98bbe571d4d65891af407bf7ee58a",
            "19ef395e58dc4b12baf90a34d1a86b2d",
            "ed653eccac1f4210a9dea997fb034334",
            "775030c7e20444948ce2a5463246bef2",
            "3e2adcbf72ae4072a6201eb3b977e7f6"
          ]
        },
        "id": "eDHtb1RIZI5l",
        "outputId": "c2ba93e2-24d1-4020-f972-74f11463f654",
        "jupyter": {
          "source_hidden": true,
          "outputs_hidden": true
        }
      },
      "outputs": [
        {
          "output_type": "stream",
          "name": "stdout",
          "text": [
            "Loading CodeT5 model and tokenizer: \n",
            "\n"
          ]
        },
        {
          "output_type": "display_data",
          "data": {
            "text/plain": [
              "tokenizer_config.json:   0%|          | 0.00/1.48k [00:00<?, ?B/s]"
            ],
            "application/vnd.jupyter.widget-view+json": {
              "version_major": 2,
              "version_minor": 0,
              "model_id": "341f9a46625f44fc9c6bf414e531b0cc"
            }
          },
          "metadata": {}
        },
        {
          "output_type": "display_data",
          "data": {
            "text/plain": [
              "vocab.json:   0%|          | 0.00/703k [00:00<?, ?B/s]"
            ],
            "application/vnd.jupyter.widget-view+json": {
              "version_major": 2,
              "version_minor": 0,
              "model_id": "ab9313743f5341e699056fd29aa296eb"
            }
          },
          "metadata": {}
        },
        {
          "output_type": "display_data",
          "data": {
            "text/plain": [
              "merges.txt:   0%|          | 0.00/294k [00:00<?, ?B/s]"
            ],
            "application/vnd.jupyter.widget-view+json": {
              "version_major": 2,
              "version_minor": 0,
              "model_id": "e60e3722f80742478c0917c0c4bdd18b"
            }
          },
          "metadata": {}
        },
        {
          "output_type": "display_data",
          "data": {
            "text/plain": [
              "added_tokens.json:   0%|          | 0.00/2.00 [00:00<?, ?B/s]"
            ],
            "application/vnd.jupyter.widget-view+json": {
              "version_major": 2,
              "version_minor": 0,
              "model_id": "bf4efa6163834ff7bac031067e75b2b3"
            }
          },
          "metadata": {}
        },
        {
          "output_type": "display_data",
          "data": {
            "text/plain": [
              "special_tokens_map.json:   0%|          | 0.00/12.5k [00:00<?, ?B/s]"
            ],
            "application/vnd.jupyter.widget-view+json": {
              "version_major": 2,
              "version_minor": 0,
              "model_id": "1f2493a17e704f099bb5802f2a8fdfe1"
            }
          },
          "metadata": {}
        },
        {
          "output_type": "display_data",
          "data": {
            "text/plain": [
              "config.json:   0%|          | 0.00/1.57k [00:00<?, ?B/s]"
            ],
            "application/vnd.jupyter.widget-view+json": {
              "version_major": 2,
              "version_minor": 0,
              "model_id": "cf382bccf10746fea78a94658efb5818"
            }
          },
          "metadata": {}
        },
        {
          "output_type": "display_data",
          "data": {
            "text/plain": [
              "pytorch_model.bin:   0%|          | 0.00/242M [00:00<?, ?B/s]"
            ],
            "application/vnd.jupyter.widget-view+json": {
              "version_major": 2,
              "version_minor": 0,
              "model_id": "f6f4d62a8f6c44139930b728e9676872"
            }
          },
          "metadata": {}
        },
        {
          "output_type": "stream",
          "name": "stdout",
          "text": [
            "\n",
            "Loading datasets\n",
            "\n",
            "-----------------------\n",
            "    Dataset Details:    \n",
            "-----------------------\n",
            "# of Training samples: 55179\n",
            "# of Validation samples: 443\n",
            "# of Test samples: 1746\n",
            "-----------------------\n",
            "\n"
          ]
        }
      ],
      "execution_count": null
    },
    {
      "cell_type": "markdown",
      "source": [
        "#### Datasets"
      ],
      "metadata": {
        "id": "-kyzuAYeEQy_"
      }
    },
    {
      "cell_type": "code",
      "source": [
        "def verify_dataset(java_file, python_file):\n",
        "    with open(java_file, 'r', encoding='utf-8') as jf, open(python_file, 'r', encoding='utf-8') as pf:\n",
        "        java_lines = jf.readlines()\n",
        "        python_lines = pf.readlines()\n",
        "        print(f\"Java file lines: {len(java_lines)}\")\n",
        "        print(f\"Python file lines: {len(python_lines)}\")\n",
        "        print(\"\\nSample Java:\\n\", java_lines[0].strip() if java_lines else \"Empty\")\n",
        "        print(\"\\nSample Python:\\n\", python_lines[0].strip() if python_lines else \"Empty\")\n",
        "\n",
        "verify_dataset('datasets/train.java-python.java', 'datasets/train.java-python.python')"
      ],
      "metadata": {
        "trusted": true,
        "execution": {
          "iopub.status.busy": "2025-06-03T13:20:04.271907Z",
          "iopub.execute_input": "2025-06-03T13:20:04.272181Z",
          "iopub.status.idle": "2025-06-03T13:20:04.491863Z",
          "shell.execute_reply.started": "2025-06-03T13:20:04.272162Z",
          "shell.execute_reply": "2025-06-03T13:20:04.491083Z"
        },
        "jupyter": {
          "source_hidden": true,
          "outputs_hidden": true
        },
        "id": "pBuq7k6XCzpj",
        "outputId": "18a1d70a-3468-47c8-99ba-d8b8b28b5916",
        "colab": {
          "base_uri": "https://localhost:8080/"
        }
      },
      "outputs": [
        {
          "output_type": "stream",
          "name": "stdout",
          "text": [
            "Java file lines: 55179\n",
            "Python file lines: 55179\n",
            "\n",
            "Sample Java:\n",
            " import java . util . * ; class TreeNode { public int val ; public TreeNode left ; public TreeNode right ; public TreeNode ( int rootData ) { this . val = rootData ; this . left = null ; this . right = null ; } } public class Solution { public TreeNode convertBST ( TreeNode root ) { int sum = 0 ; TreeNode node = root ; Stack < TreeNode > stack = new Stack < TreeNode > ( ) ; while ( ! stack . isEmpty ( ) || node != null ) { while ( node != null ) { stack . add ( node ) ; node = node . right ; } node = stack . pop ( ) ; sum += node . val ; node . val = sum ; node = node . left ; } return root ; } public List < Integer > printTree_vLR ( TreeNode node , List < Integer > arr ) { if ( node != null ) { arr . add ( node . val ) ; arr = printTree_vLR ( node . left , arr ) ; arr = printTree_vLR ( node . right , arr ) ; } return arr ; } public static void main ( String [ ] args ) { Solution sObj = new Solution ( ) ; TreeNode root = new TreeNode ( 4 ) ; root . left = new TreeNode ( 1 ) ; root . right = new TreeNode ( 6 ) ; root . left . left = new TreeNode ( 0 ) ; root . left . right = new TreeNode ( 2 ) ; root . right . left = new TreeNode ( 5 ) ; root . right . right = new TreeNode ( 7 ) ; root . left . right . right = new TreeNode ( 3 ) ; root . right . right . right = new TreeNode ( 8 ) ; TreeNode out = sObj . convertBST ( root ) ; List < Integer > arr = sObj . printTree_vLR ( out , new ArrayList < Integer > ( ) ) ; System . out . println ( arr ) ; } }\n",
            "\n",
            "Sample Python:\n",
            " class TreeNode : NEW_LINE INDENT def __init__ ( self , rootData ) : NEW_LINE INDENT self . val = rootData NEW_LINE self . left = None NEW_LINE self . right = None NEW_LINE DEDENT DEDENT class Solution ( object ) : NEW_LINE INDENT def convertBST ( self , root ) : NEW_LINE INDENT total = 0 NEW_LINE node = root NEW_LINE stack = [ ] NEW_LINE while stack or node is not None : NEW_LINE INDENT while node is not None : NEW_LINE INDENT stack . append ( node ) NEW_LINE node = node . right NEW_LINE DEDENT node = stack . pop ( ) NEW_LINE total += node . val NEW_LINE node . val = total NEW_LINE node = node . left NEW_LINE DEDENT return root NEW_LINE DEDENT def printTree_vLR ( self , node , arr ) : NEW_LINE INDENT if node != None : NEW_LINE INDENT arr . append ( node . val ) NEW_LINE arr = self . printTree_vLR ( node . left , arr ) NEW_LINE arr = self . printTree_vLR ( node . right , arr ) NEW_LINE DEDENT return arr NEW_LINE DEDENT DEDENT if __name__ == \" _ _ main _ _ \" : NEW_LINE INDENT sObj = Solution ( ) NEW_LINE root1 = TreeNode ( 4 ) NEW_LINE root1 . left = TreeNode ( 1 ) NEW_LINE root1 . right = TreeNode ( 6 ) NEW_LINE root1 . left . left = TreeNode ( 0 ) NEW_LINE root1 . left . right = TreeNode ( 2 ) NEW_LINE root1 . right . left = TreeNode ( 5 ) NEW_LINE root1 . right . right = TreeNode ( 7 ) NEW_LINE root1 . left . right . right = TreeNode ( 3 ) NEW_LINE root1 . right . right . right = TreeNode ( 8 ) NEW_LINE out = sObj . convertBST ( root1 ) NEW_LINE arr = sObj . printTree_vLR ( out , [ ] ) NEW_LINE print ( arr ) NEW_LINE DEDENT\n"
          ]
        }
      ],
      "execution_count": null
    },
    {
      "cell_type": "code",
      "source": [
        "sample_batch_python = next(iter(train_loader))  # get a single batch from the train_loader\n",
        "\n",
        "print(\"Sample batch from train_loader:\")\n",
        "for key, value in sample_batch_python.items():\n",
        "    print(f\"{key}:\")\n",
        "    print(value)\n",
        "    print()"
      ],
      "metadata": {
        "trusted": true,
        "execution": {
          "iopub.status.busy": "2025-06-03T13:20:04.636786Z",
          "iopub.execute_input": "2025-06-03T13:20:04.637055Z",
          "iopub.status.idle": "2025-06-03T13:20:04.966194Z",
          "shell.execute_reply.started": "2025-06-03T13:20:04.637035Z",
          "shell.execute_reply": "2025-06-03T13:20:04.965303Z"
        },
        "id": "Yq6YeQaOZI5l",
        "outputId": "2990456c-d49d-40b4-8513-e84c3477e0e3",
        "jupyter": {
          "source_hidden": true,
          "outputs_hidden": true
        },
        "colab": {
          "base_uri": "https://localhost:8080/"
        }
      },
      "outputs": [
        {
          "output_type": "stream",
          "name": "stdout",
          "text": [
            "Sample batch from train_loader:\n",
            "input_ids:\n",
            "tensor([[    1, 12818,  5110,  ...,    79,   263,     2],\n",
            "        [    1, 12818,  5110,  ...,   760,   509,     2],\n",
            "        [    1, 12818,  5110,  ...,     0,     0,     0],\n",
            "        ...,\n",
            "        [    1, 12818,  5110,  ...,   327,  3407,     2],\n",
            "        [    1, 12818,  5110,  ...,     0,     0,     0],\n",
            "        [    1, 12818,  5110,  ...,     0,     0,     0]])\n",
            "\n",
            "attention_mask:\n",
            "tensor([[1, 1, 1,  ..., 1, 1, 1],\n",
            "        [1, 1, 1,  ..., 1, 1, 1],\n",
            "        [1, 1, 1,  ..., 0, 0, 0],\n",
            "        ...,\n",
            "        [1, 1, 1,  ..., 1, 1, 1],\n",
            "        [1, 1, 1,  ..., 0, 0, 0],\n",
            "        [1, 1, 1,  ..., 0, 0, 0]])\n",
            "\n",
            "labels:\n",
            "tensor([[    1,    69,   269,  ...,     0,     0,     0],\n",
            "        [    1,   455,   273,  ...,     0,     0,     0],\n",
            "        [    1,  1188,   261,  ...,     0,     0,     0],\n",
            "        ...,\n",
            "        [    1,  5666,  2589,  ...,   273,   374,     2],\n",
            "        [    1,    82,   273,  ...,     0,     0,     0],\n",
            "        [    1,   536, 12439,  ..., 12887,    67,     2]])\n",
            "\n"
          ]
        }
      ],
      "execution_count": null
    },
    {
      "cell_type": "markdown",
      "source": [
        "#### Training"
      ],
      "metadata": {
        "id": "2u4CW4yhcUXY"
      }
    },
    {
      "cell_type": "code",
      "source": [
        "# setup otimizer\n",
        "codet5_optimizer = torch.optim.AdamW(\n",
        "    codet5_model.parameters(),\n",
        "    lr=CODET5_LEARNING_RATE,\n",
        "    weight_decay=CODET5_WEIGHT_DECAY,\n",
        "    eps=1e-8\n",
        ")"
      ],
      "metadata": {
        "trusted": true,
        "execution": {
          "iopub.status.busy": "2025-06-04T04:31:06.400737Z",
          "iopub.execute_input": "2025-06-04T04:31:06.400958Z",
          "iopub.status.idle": "2025-06-04T04:31:06.407176Z",
          "shell.execute_reply.started": "2025-06-04T04:31:06.400941Z",
          "shell.execute_reply": "2025-06-04T04:31:06.406369Z"
        },
        "id": "Mb3DD9qGZI5l",
        "jupyter": {
          "source_hidden": true
        }
      },
      "outputs": [],
      "execution_count": null
    },
    {
      "cell_type": "code",
      "source": [
        "# finetuning model\n",
        "# initial epochs 1 to 10\n",
        "codet5_train_losses, codet5_val_losses, codet5_train_accs, codet5_val_accs, codet5_val_bleu_scores = train_codet5(\n",
        "    model=codet5_model,\n",
        "    tokenizer=codet5_tokenizer,\n",
        "    train_loader=train_loader,\n",
        "    val_loader=val_loader,\n",
        "    optimizer=codet5_optimizer,\n",
        "    session_epochs=CODET5_EPOCHS,\n",
        "    total_epochs=CODET5_TOTAL_EPOCHS,\n",
        "    output_dir='models/codet5',\n",
        "    checkpoint_frequency=1,\n",
        "    label_smoothing_factor=0.1\n",
        ")"
      ],
      "metadata": {
        "trusted": true,
        "execution": {
          "iopub.status.busy": "2025-06-03T13:20:15.142587Z",
          "iopub.execute_input": "2025-06-03T13:20:15.142876Z",
          "execution_failed": "2025-06-03T17:14:37.460Z"
        },
        "id": "WOikLzaEZI5l",
        "outputId": "250a9431-da0d-4970-9568-598a36549786",
        "colab": {
          "base_uri": "https://localhost:8080/",
          "height": 1000
        },
        "jupyter": {
          "outputs_hidden": true,
          "source_hidden": true
        }
      },
      "outputs": [
        {
          "metadata": {
            "tags": null
          },
          "name": "stderr",
          "output_type": "stream",
          "text": [
            "Training Epoch 1/10: 100%|██████████| 6898/6898 [20:52<00:00,  5.51it/s]\n",
            "Validating: 100%|██████████| 56/56 [00:27<00:00,  2.06it/s]\n"
          ]
        },
        {
          "metadata": {
            "tags": null
          },
          "name": "stdout",
          "output_type": "stream",
          "text": [
            "Epoch 1/10 | Train Loss: 2.4952 | Val Loss: 1.8258 | Train Acc: 0.7473 | Val Acc: 0.8900 | Val BLEU: 0.7884\n"
          ]
        },
        {
          "data": {
            "text/html": [
              "<a href='models/codet5/checkpoint_epoch_1.zip' target='_blank'>models/codet5/checkpoint_epoch_1.zip</a><br>"
            ],
            "text/plain": [
              "/content/models/codet5/checkpoint_epoch_1.zip"
            ]
          },
          "metadata": {},
          "output_type": "display_data"
        },
        {
          "metadata": {
            "tags": null
          },
          "name": "stdout",
          "output_type": "stream",
          "text": [
            "Download checkpoint for epoch 1: /content/models/codet5/checkpoint_epoch_1.zip\n"
          ]
        },
        {
          "metadata": {
            "tags": null
          },
          "name": "stderr",
          "output_type": "stream",
          "text": [
            "Training Epoch 2/10: 100%|██████████| 6898/6898 [20:46<00:00,  5.54it/s]\n",
            "Validating: 100%|██████████| 56/56 [00:27<00:00,  2.07it/s]\n"
          ]
        },
        {
          "metadata": {
            "tags": null
          },
          "name": "stdout",
          "output_type": "stream",
          "text": [
            "Epoch 2/10 | Train Loss: 2.0683 | Val Loss: 1.7546 | Train Acc: 0.8196 | Val Acc: 0.9061 | Val BLEU: 0.8155\n"
          ]
        },
        {
          "data": {
            "text/html": [
              "<a href='models/codet5/checkpoint_epoch_2.zip' target='_blank'>models/codet5/checkpoint_epoch_2.zip</a><br>"
            ],
            "text/plain": [
              "/content/models/codet5/checkpoint_epoch_2.zip"
            ]
          },
          "metadata": {},
          "output_type": "display_data"
        },
        {
          "metadata": {
            "tags": null
          },
          "name": "stdout",
          "output_type": "stream",
          "text": [
            "Download checkpoint for epoch 2: /content/models/codet5/checkpoint_epoch_2.zip\n"
          ]
        },
        {
          "metadata": {
            "tags": null
          },
          "name": "stderr",
          "output_type": "stream",
          "text": [
            "Training Epoch 3/10: 100%|██████████| 6898/6898 [20:47<00:00,  5.53it/s]\n",
            "Validating: 100%|██████████| 56/56 [00:27<00:00,  2.04it/s]\n"
          ]
        },
        {
          "metadata": {
            "tags": null
          },
          "name": "stdout",
          "output_type": "stream",
          "text": [
            "Epoch 3/10 | Train Loss: 1.9735 | Val Loss: 1.7402 | Train Acc: 0.8401 | Val Acc: 0.9088 | Val BLEU: 0.8203\n"
          ]
        },
        {
          "data": {
            "text/html": [
              "<a href='models/codet5/checkpoint_epoch_3.zip' target='_blank'>models/codet5/checkpoint_epoch_3.zip</a><br>"
            ],
            "text/plain": [
              "/content/models/codet5/checkpoint_epoch_3.zip"
            ]
          },
          "metadata": {},
          "output_type": "display_data"
        },
        {
          "metadata": {
            "tags": null
          },
          "name": "stdout",
          "output_type": "stream",
          "text": [
            "Download checkpoint for epoch 3: /content/models/codet5/checkpoint_epoch_3.zip\n"
          ]
        },
        {
          "metadata": {
            "tags": null
          },
          "name": "stderr",
          "output_type": "stream",
          "text": [
            "Training Epoch 4/10: 100%|██████████| 6898/6898 [20:52<00:00,  5.51it/s]\n",
            "Validating: 100%|██████████| 56/56 [00:27<00:00,  2.05it/s]\n"
          ]
        },
        {
          "metadata": {
            "tags": null
          },
          "name": "stdout",
          "output_type": "stream",
          "text": [
            "Epoch 4/10 | Train Loss: 1.9277 | Val Loss: 1.7324 | Train Acc: 0.8508 | Val Acc: 0.9109 | Val BLEU: 0.8242\n"
          ]
        },
        {
          "data": {
            "text/html": [
              "<a href='models/codet5/checkpoint_epoch_4.zip' target='_blank'>models/codet5/checkpoint_epoch_4.zip</a><br>"
            ],
            "text/plain": [
              "/content/models/codet5/checkpoint_epoch_4.zip"
            ]
          },
          "metadata": {},
          "output_type": "display_data"
        },
        {
          "metadata": {
            "tags": null
          },
          "name": "stdout",
          "output_type": "stream",
          "text": [
            "Download checkpoint for epoch 4: /content/models/codet5/checkpoint_epoch_4.zip\n"
          ]
        },
        {
          "metadata": {
            "tags": null
          },
          "name": "stderr",
          "output_type": "stream",
          "text": [
            "Training Epoch 5/10: 100%|██████████| 6898/6898 [20:58<00:00,  5.48it/s]\n",
            "Validating: 100%|██████████| 56/56 [00:27<00:00,  2.03it/s]\n"
          ]
        },
        {
          "metadata": {
            "tags": null
          },
          "name": "stdout",
          "output_type": "stream",
          "text": [
            "Epoch 5/10 | Train Loss: 1.9096 | Val Loss: 1.7322 | Train Acc: 0.8553 | Val Acc: 0.9117 | Val BLEU: 0.8246\n"
          ]
        },
        {
          "data": {
            "text/html": [
              "<a href='models/codet5/checkpoint_epoch_5.zip' target='_blank'>models/codet5/checkpoint_epoch_5.zip</a><br>"
            ],
            "text/plain": [
              "/content/models/codet5/checkpoint_epoch_5.zip"
            ]
          },
          "metadata": {},
          "output_type": "display_data"
        },
        {
          "metadata": {
            "tags": null
          },
          "name": "stdout",
          "output_type": "stream",
          "text": [
            "Download checkpoint for epoch 5: /content/models/codet5/checkpoint_epoch_5.zip\n"
          ]
        },
        {
          "metadata": {
            "tags": null
          },
          "name": "stderr",
          "output_type": "stream",
          "text": [
            "Training Epoch 6/10: 100%|██████████| 6898/6898 [20:52<00:00,  5.51it/s]\n",
            "Validating: 100%|██████████| 56/56 [00:27<00:00,  2.02it/s]\n"
          ]
        },
        {
          "metadata": {
            "tags": null
          },
          "name": "stdout",
          "output_type": "stream",
          "text": [
            "Epoch 6/10 | Train Loss: 1.9044 | Val Loss: 1.7308 | Train Acc: 0.8566 | Val Acc: 0.9120 | Val BLEU: 0.8257\n"
          ]
        },
        {
          "data": {
            "text/html": [
              "<a href='models/codet5/checkpoint_epoch_6.zip' target='_blank'>models/codet5/checkpoint_epoch_6.zip</a><br>"
            ],
            "text/plain": [
              "/content/models/codet5/checkpoint_epoch_6.zip"
            ]
          },
          "metadata": {},
          "output_type": "display_data"
        },
        {
          "metadata": {
            "tags": null
          },
          "name": "stdout",
          "output_type": "stream",
          "text": [
            "Download checkpoint for epoch 6: /content/models/codet5/checkpoint_epoch_6.zip\n"
          ]
        },
        {
          "metadata": {
            "tags": null
          },
          "name": "stderr",
          "output_type": "stream",
          "text": [
            "Training Epoch 7/10: 100%|██████████| 6898/6898 [20:52<00:00,  5.51it/s]\n",
            "Validating: 100%|██████████| 56/56 [00:27<00:00,  2.05it/s]\n"
          ]
        },
        {
          "metadata": {
            "tags": null
          },
          "name": "stdout",
          "output_type": "stream",
          "text": [
            "Epoch 7/10 | Train Loss: 1.9007 | Val Loss: 1.7305 | Train Acc: 0.8577 | Val Acc: 0.9120 | Val BLEU: 0.8259\n"
          ]
        },
        {
          "data": {
            "text/html": [
              "<a href='models/codet5/checkpoint_epoch_7.zip' target='_blank'>models/codet5/checkpoint_epoch_7.zip</a><br>"
            ],
            "text/plain": [
              "/content/models/codet5/checkpoint_epoch_7.zip"
            ]
          },
          "metadata": {},
          "output_type": "display_data"
        },
        {
          "metadata": {
            "tags": null
          },
          "name": "stdout",
          "output_type": "stream",
          "text": [
            "Download checkpoint for epoch 7: /content/models/codet5/checkpoint_epoch_7.zip\n"
          ]
        },
        {
          "metadata": {
            "tags": null
          },
          "name": "stderr",
          "output_type": "stream",
          "text": [
            "Training Epoch 8/10: 100%|██████████| 6898/6898 [20:54<00:00,  5.50it/s]\n",
            "Validating: 100%|██████████| 56/56 [00:27<00:00,  2.03it/s]\n"
          ]
        },
        {
          "metadata": {
            "tags": null
          },
          "name": "stdout",
          "output_type": "stream",
          "text": [
            "Epoch 8/10 | Train Loss: 1.8992 | Val Loss: 1.7290 | Train Acc: 0.8581 | Val Acc: 0.9127 | Val BLEU: 0.8266\n"
          ]
        },
        {
          "data": {
            "text/html": [
              "<a href='models/codet5/checkpoint_epoch_8.zip' target='_blank'>models/codet5/checkpoint_epoch_8.zip</a><br>"
            ],
            "text/plain": [
              "/content/models/codet5/checkpoint_epoch_8.zip"
            ]
          },
          "metadata": {},
          "output_type": "display_data"
        },
        {
          "metadata": {
            "tags": null
          },
          "name": "stdout",
          "output_type": "stream",
          "text": [
            "Download checkpoint for epoch 8: /content/models/codet5/checkpoint_epoch_8.zip\n"
          ]
        },
        {
          "metadata": {
            "tags": null
          },
          "name": "stderr",
          "output_type": "stream",
          "text": [
            "Training Epoch 9/10: 100%|██████████| 6898/6898 [20:56<00:00,  5.49it/s]\n",
            "Validating: 100%|██████████| 56/56 [00:27<00:00,  2.00it/s]\n"
          ]
        },
        {
          "metadata": {
            "tags": null
          },
          "name": "stdout",
          "output_type": "stream",
          "text": [
            "Epoch 9/10 | Train Loss: 1.8943 | Val Loss: 1.7283 | Train Acc: 0.8594 | Val Acc: 0.9128 | Val BLEU: 0.8269\n"
          ]
        },
        {
          "data": {
            "text/html": [
              "<a href='models/codet5/checkpoint_epoch_9.zip' target='_blank'>models/codet5/checkpoint_epoch_9.zip</a><br>"
            ],
            "text/plain": [
              "/content/models/codet5/checkpoint_epoch_9.zip"
            ]
          },
          "metadata": {},
          "output_type": "display_data"
        },
        {
          "metadata": {
            "tags": null
          },
          "name": "stdout",
          "output_type": "stream",
          "text": [
            "Download checkpoint for epoch 9: /content/models/codet5/checkpoint_epoch_9.zip\n"
          ]
        },
        {
          "output_type": "stream",
          "name": "stderr",
          "text": [
            "Training Epoch 10/10: 100%|██████████| 6898/6898 [20:58<00:00,  5.48it/s]\n",
            "Validating: 100%|██████████| 56/56 [00:29<00:00,  1.93it/s]\n"
          ]
        },
        {
          "output_type": "stream",
          "name": "stdout",
          "text": [
            "Epoch 10/10 | Train Loss: 1.8913 | Val Loss: 1.7283 | Train Acc: 0.8602 | Val Acc: 0.9130 | Val BLEU: 0.8273\n"
          ]
        },
        {
          "output_type": "display_data",
          "data": {
            "text/plain": [
              "/content/models/codet5/checkpoint_epoch_10.zip"
            ],
            "text/html": [
              "<a href='models/codet5/checkpoint_epoch_10.zip' target='_blank'>models/codet5/checkpoint_epoch_10.zip</a><br>"
            ]
          },
          "metadata": {}
        },
        {
          "output_type": "stream",
          "name": "stdout",
          "text": [
            "Download checkpoint for epoch 10: /content/models/codet5/checkpoint_epoch_10.zip\n"
          ]
        },
        {
          "output_type": "display_data",
          "data": {
            "text/plain": [
              "/content/models/codet5/codet5_training_scores.csv"
            ],
            "text/html": [
              "<a href='models/codet5/codet5_training_scores.csv' target='_blank'>models/codet5/codet5_training_scores.csv</a><br>"
            ]
          },
          "metadata": {}
        },
        {
          "output_type": "stream",
          "name": "stdout",
          "text": [
            "Download training metrics CSV: /content/models/codet5/codet5_training_scores.csv\n"
          ]
        },
        {
          "output_type": "display_data",
          "data": {
            "text/plain": [
              "/content/models/codet5/training_log.txt"
            ],
            "text/html": [
              "<a href='models/codet5/training_log.txt' target='_blank'>models/codet5/training_log.txt</a><br>"
            ]
          },
          "metadata": {}
        },
        {
          "output_type": "stream",
          "name": "stdout",
          "text": [
            "Download training log: /content/models/codet5/training_log.txt\n"
          ]
        }
      ],
      "execution_count": null
    },
    {
      "cell_type": "code",
      "source": [
        "# saving the checkpoint on google drive\n",
        "zip_file_name = 'checkpoint_epoch_10.zip'\n",
        "drive_target_folder = '/content/drive/MyDrive/models/codet5'\n",
        "os.makedirs(drive_target_folder, exist_ok=True)\n",
        "\n",
        "source_path = f'/content/models/codet5/{zip_file_name}'\n",
        "target_path = os.path.join(drive_target_folder, zip_file_name)\n",
        "\n",
        "print(f\"Source Path: {source_path}\")\n",
        "print(f\"Target Path: {target_path}\")\n",
        "\n",
        "try:\n",
        "    file_size = os.path.getsize(source_path)\n",
        "    chunk_size = 1024 * 1024  # 1MB\n",
        "\n",
        "    with open(source_path, 'rb') as src_file, open(target_path, 'wb') as dst_file:\n",
        "        with tqdm(total=file_size, unit='B', unit_scale=True, desc=\"Copying\") as pbar:\n",
        "            while True:\n",
        "                chunk = src_file.read(chunk_size)\n",
        "                if not chunk:\n",
        "                    break\n",
        "                dst_file.write(chunk)\n",
        "                pbar.update(len(chunk))\n",
        "\n",
        "    print(f\"\\n✅ File '{zip_file_name}' successfully copied to '{drive_target_folder}'\")\n",
        "except FileNotFoundError:\n",
        "    print(f\"\\n❌ File '{zip_file_name}' not found in Colab workspace.\")\n",
        "except Exception as e:\n",
        "    print(f\"\\n⚠️ Error: {e}\")"
      ],
      "metadata": {
        "colab": {
          "base_uri": "https://localhost:8080/"
        },
        "id": "BtvZVjEgPwjv",
        "outputId": "9bda500f-8c97-4fff-c4a0-7cb0c13d01c2",
        "jupyter": {
          "source_hidden": true,
          "outputs_hidden": true
        }
      },
      "outputs": [
        {
          "output_type": "stream",
          "name": "stdout",
          "text": [
            "Source Path: /content/models/codet5/checkpoint_epoch_10.zip\n",
            "Target Path: /content/drive/MyDrive/models/codet5/checkpoint_epoch_10.zip\n"
          ]
        },
        {
          "output_type": "stream",
          "name": "stderr",
          "text": [
            "Copying: 100%|██████████| 893M/893M [00:08<00:00, 104MB/s] "
          ]
        },
        {
          "output_type": "stream",
          "name": "stdout",
          "text": [
            "\n",
            "✅ File 'checkpoint_epoch_10.zip' successfully copied to '/content/drive/MyDrive/models/codet5'\n"
          ]
        },
        {
          "output_type": "stream",
          "name": "stderr",
          "text": [
            "\n"
          ]
        }
      ],
      "execution_count": null
    },
    {
      "cell_type": "code",
      "source": [
        "learning_curve(codet5_train_losses, codet5_val_losses, codet5_train_accs, codet5_val_accs, codet5_val_bleu_scores, \"CodeT5\")"
      ],
      "metadata": {
        "trusted": true,
        "id": "RFb2EjPrZI5m",
        "execution": {
          "iopub.status.busy": "2025-06-04T07:17:52.632073Z",
          "iopub.execute_input": "2025-06-04T07:17:52.632390Z",
          "iopub.status.idle": "2025-06-04T07:17:53.337317Z",
          "shell.execute_reply.started": "2025-06-04T07:17:52.632359Z",
          "shell.execute_reply": "2025-06-04T07:17:53.336628Z"
        },
        "jupyter": {
          "outputs_hidden": true,
          "source_hidden": true
        },
        "colab": {
          "base_uri": "https://localhost:8080/",
          "height": 1000
        },
        "outputId": "fcd7c76a-0ff4-403d-afbb-0d597926feb1"
      },
      "outputs": [
        {
          "output_type": "display_data",
          "data": {
            "text/plain": [
              "<Figure size 700x600 with 1 Axes>"
            ],
            "image/png": "[encoded data removed]"
          },
          "metadata": {}
        },
        {
          "output_type": "stream",
          "name": "stdout",
          "text": [
            "\n"
          ]
        },
        {
          "output_type": "display_data",
          "data": {
            "text/plain": [
              "<Figure size 700x600 with 1 Axes>"
            ],
            "image/png": "[encoded data removed]"
          },
          "metadata": {}
        }
      ],
      "execution_count": null
    },
    {
      "cell_type": "markdown",
      "source": [
        "*****\n",
        "# Dataset Translation"
      ],
      "metadata": {
        "id": "lcGgmJk2yDWd"
      }
    },
    {
      "cell_type": "markdown",
      "source": [
        "#### Checkpoint Loading"
      ],
      "metadata": {
        "id": "cxZi6QuSyFhO"
      }
    },
    {
      "cell_type": "code",
      "source": [
        "# load codet5 andtokenizers model from checkppoint\n",
        "print(\"Loading CodeT5 model and tokenizer from Checkpoint\")\n",
        "codet5_tokenizer = RobertaTokenizer.from_pretrained('models/codet5/checkpoint_epoch_10')\n",
        "codet5_model = T5ForConditionalGeneration.from_pretrained('models/codet5/checkpoint_epoch_10').to(device)\n",
        "\n",
        "# loading dataset and create dataloader\n",
        "print(\"\\nLoading datasets\")\n",
        "train_loader = load_data(\n",
        "    java_file=cwd+'/datasets/train.java-python.java',\n",
        "    python_file=cwd+'/datasets/train.java-python.python',\n",
        "    tokenizer=codet5_tokenizer,\n",
        "    max_source_len=MAX_SOURCE_LEN_JAVA,\n",
        "    max_target_len=MAX_TARGET_LEN_PYTHON,\n",
        "    batch_size=BATCH_SIZE\n",
        ")\n",
        "val_loader = load_data(\n",
        "    java_file=cwd+'/datasets/valid.java-python.java',\n",
        "    python_file=cwd+'/datasets/valid.java-python.python',\n",
        "    tokenizer=codet5_tokenizer,\n",
        "    max_source_len=MAX_SOURCE_LEN_JAVA,\n",
        "    max_target_len=MAX_TARGET_LEN_PYTHON,\n",
        "    batch_size=BATCH_SIZE\n",
        ")\n",
        "test_loader = load_data(\n",
        "    java_file=cwd+'/datasets/test.java-python.java',\n",
        "    python_file=cwd+'/datasets/test.java-python.python',\n",
        "    tokenizer=codet5_tokenizer,\n",
        "    max_source_len=MAX_SOURCE_LEN_JAVA,\n",
        "    max_target_len=MAX_TARGET_LEN_PYTHON,\n",
        "    batch_size=BATCH_SIZE\n",
        ")\n",
        "print(\"\\n-----------------------\")\n",
        "print(\"    Dataset Details:    \")\n",
        "print(\"-----------------------\")\n",
        "print(\"# of Training samples:\", len(train_loader.dataset))\n",
        "print(\"# of Validation samples:\", len(val_loader.dataset))\n",
        "print(\"# of Test samples:\", len(test_loader.dataset))\n",
        "print(\"-----------------------\\n\")"
      ],
      "metadata": {
        "colab": {
          "base_uri": "https://localhost:8080/"
        },
        "id": "0c5m7yJsyD10",
        "outputId": "9ee8cc80-dfe7-4b5c-e604-e95a8e0e38a1",
        "jupyter": {
          "source_hidden": true,
          "outputs_hidden": true
        }
      },
      "outputs": [
        {
          "output_type": "stream",
          "name": "stdout",
          "text": [
            "Loading CodeT5 model and tokenizer from Checkpoint\n",
            "\n",
            "Loading datasets\n",
            "\n",
            "-----------------------\n",
            "    Dataset Details:    \n",
            "-----------------------\n",
            "# of Training samples: 55179\n",
            "# of Validation samples: 443\n",
            "# of Test samples: 1746\n",
            "-----------------------\n",
            "\n"
          ]
        }
      ],
      "execution_count": null
    },
    {
      "cell_type": "code",
      "source": [
        "codet5_model"
      ],
      "metadata": {
        "colab": {
          "base_uri": "https://localhost:8080/"
        },
        "id": "97Q3aUyGyMfm",
        "outputId": "6f0d28ee-5ce3-4f61-ad72-25c878395362",
        "jupyter": {
          "outputs_hidden": true,
          "source_hidden": true
        }
      },
      "outputs": [
        {
          "output_type": "execute_result",
          "data": {
            "text/plain": [
              "T5ForConditionalGeneration(\n",
              "  (shared): Embedding(32100, 512)\n",
              "  (encoder): T5Stack(\n",
              "    (embed_tokens): Embedding(32100, 512)\n",
              "    (block): ModuleList(\n",
              "      (0): T5Block(\n",
              "        (layer): ModuleList(\n",
              "          (0): T5LayerSelfAttention(\n",
              "            (SelfAttention): T5Attention(\n",
              "              (q): Linear(in_features=512, out_features=512, bias=False)\n",
              "              (k): Linear(in_features=512, out_features=512, bias=False)\n",
              "              (v): Linear(in_features=512, out_features=512, bias=False)\n",
              "              (o): Linear(in_features=512, out_features=512, bias=False)\n",
              "              (relative_attention_bias): Embedding(32, 8)\n",
              "            )\n",
              "            (layer_norm): T5LayerNorm()\n",
              "            (dropout): Dropout(p=0.1, inplace=False)\n",
              "          )\n",
              "          (1): T5LayerFF(\n",
              "            (DenseReluDense): T5DenseActDense(\n",
              "              (wi): Linear(in_features=512, out_features=2048, bias=False)\n",
              "              (wo): Linear(in_features=2048, out_features=512, bias=False)\n",
              "              (dropout): Dropout(p=0.1, inplace=False)\n",
              "              (act): ReLU()\n",
              "            )\n",
              "            (layer_norm): T5LayerNorm()\n",
              "            (dropout): Dropout(p=0.1, inplace=False)\n",
              "          )\n",
              "        )\n",
              "      )\n",
              "      (1-5): 5 x T5Block(\n",
              "        (layer): ModuleList(\n",
              "          (0): T5LayerSelfAttention(\n",
              "            (SelfAttention): T5Attention(\n",
              "              (q): Linear(in_features=512, out_features=512, bias=False)\n",
              "              (k): Linear(in_features=512, out_features=512, bias=False)\n",
              "              (v): Linear(in_features=512, out_features=512, bias=False)\n",
              "              (o): Linear(in_features=512, out_features=512, bias=False)\n",
              "            )\n",
              "            (layer_norm): T5LayerNorm()\n",
              "            (dropout): Dropout(p=0.1, inplace=False)\n",
              "          )\n",
              "          (1): T5LayerFF(\n",
              "            (DenseReluDense): T5DenseActDense(\n",
              "              (wi): Linear(in_features=512, out_features=2048, bias=False)\n",
              "              (wo): Linear(in_features=2048, out_features=512, bias=False)\n",
              "              (dropout): Dropout(p=0.1, inplace=False)\n",
              "              (act): ReLU()\n",
              "            )\n",
              "            (layer_norm): T5LayerNorm()\n",
              "            (dropout): Dropout(p=0.1, inplace=False)\n",
              "          )\n",
              "        )\n",
              "      )\n",
              "    )\n",
              "    (final_layer_norm): T5LayerNorm()\n",
              "    (dropout): Dropout(p=0.1, inplace=False)\n",
              "  )\n",
              "  (decoder): T5Stack(\n",
              "    (embed_tokens): Embedding(32100, 512)\n",
              "    (block): ModuleList(\n",
              "      (0): T5Block(\n",
              "        (layer): ModuleList(\n",
              "          (0): T5LayerSelfAttention(\n",
              "            (SelfAttention): T5Attention(\n",
              "              (q): Linear(in_features=512, out_features=512, bias=False)\n",
              "              (k): Linear(in_features=512, out_features=512, bias=False)\n",
              "              (v): Linear(in_features=512, out_features=512, bias=False)\n",
              "              (o): Linear(in_features=512, out_features=512, bias=False)\n",
              "              (relative_attention_bias): Embedding(32, 8)\n",
              "            )\n",
              "            (layer_norm): T5LayerNorm()\n",
              "            (dropout): Dropout(p=0.1, inplace=False)\n",
              "          )\n",
              "          (1): T5LayerCrossAttention(\n",
              "            (EncDecAttention): T5Attention(\n",
              "              (q): Linear(in_features=512, out_features=512, bias=False)\n",
              "              (k): Linear(in_features=512, out_features=512, bias=False)\n",
              "              (v): Linear(in_features=512, out_features=512, bias=False)\n",
              "              (o): Linear(in_features=512, out_features=512, bias=False)\n",
              "            )\n",
              "            (layer_norm): T5LayerNorm()\n",
              "            (dropout): Dropout(p=0.1, inplace=False)\n",
              "          )\n",
              "          (2): T5LayerFF(\n",
              "            (DenseReluDense): T5DenseActDense(\n",
              "              (wi): Linear(in_features=512, out_features=2048, bias=False)\n",
              "              (wo): Linear(in_features=2048, out_features=512, bias=False)\n",
              "              (dropout): Dropout(p=0.1, inplace=False)\n",
              "              (act): ReLU()\n",
              "            )\n",
              "            (layer_norm): T5LayerNorm()\n",
              "            (dropout): Dropout(p=0.1, inplace=False)\n",
              "          )\n",
              "        )\n",
              "      )\n",
              "      (1-5): 5 x T5Block(\n",
              "        (layer): ModuleList(\n",
              "          (0): T5LayerSelfAttention(\n",
              "            (SelfAttention): T5Attention(\n",
              "              (q): Linear(in_features=512, out_features=512, bias=False)\n",
              "              (k): Linear(in_features=512, out_features=512, bias=False)\n",
              "              (v): Linear(in_features=512, out_features=512, bias=False)\n",
              "              (o): Linear(in_features=512, out_features=512, bias=False)\n",
              "            )\n",
              "            (layer_norm): T5LayerNorm()\n",
              "            (dropout): Dropout(p=0.1, inplace=False)\n",
              "          )\n",
              "          (1): T5LayerCrossAttention(\n",
              "            (EncDecAttention): T5Attention(\n",
              "              (q): Linear(in_features=512, out_features=512, bias=False)\n",
              "              (k): Linear(in_features=512, out_features=512, bias=False)\n",
              "              (v): Linear(in_features=512, out_features=512, bias=False)\n",
              "              (o): Linear(in_features=512, out_features=512, bias=False)\n",
              "            )\n",
              "            (layer_norm): T5LayerNorm()\n",
              "            (dropout): Dropout(p=0.1, inplace=False)\n",
              "          )\n",
              "          (2): T5LayerFF(\n",
              "            (DenseReluDense): T5DenseActDense(\n",
              "              (wi): Linear(in_features=512, out_features=2048, bias=False)\n",
              "              (wo): Linear(in_features=2048, out_features=512, bias=False)\n",
              "              (dropout): Dropout(p=0.1, inplace=False)\n",
              "              (act): ReLU()\n",
              "            )\n",
              "            (layer_norm): T5LayerNorm()\n",
              "            (dropout): Dropout(p=0.1, inplace=False)\n",
              "          )\n",
              "        )\n",
              "      )\n",
              "    )\n",
              "    (final_layer_norm): T5LayerNorm()\n",
              "    (dropout): Dropout(p=0.1, inplace=False)\n",
              "  )\n",
              "  (lm_head): Linear(in_features=512, out_features=32100, bias=False)\n",
              ")"
            ]
          },
          "metadata": {},
          "execution_count": 9
        }
      ],
      "execution_count": null
    },
    {
      "cell_type": "markdown",
      "source": [
        "#### Model Saving"
      ],
      "metadata": {
        "id": "uVUqe4mvFTgV"
      }
    },
    {
      "cell_type": "code",
      "source": [
        "codet5_model.save_pretrained('models/codet5/codet5_java_translation')\n",
        "codet5_tokenizer.save_pretrained('models/codet5/codet5_java_translation')"
      ],
      "metadata": {
        "colab": {
          "base_uri": "https://localhost:8080/"
        },
        "id": "ENyQ6KhUFWju",
        "outputId": "a7055c5c-2b7e-4984-b9bc-425ef63360ad"
      },
      "execution_count": null,
      "outputs": [
        {
          "output_type": "execute_result",
          "data": {
            "text/plain": [
              "('models/codet5/codet5_java_translation/tokenizer_config.json',\n",
              " 'models/codet5/codet5_java_translation/special_tokens_map.json',\n",
              " 'models/codet5/codet5_java_translation/vocab.json',\n",
              " 'models/codet5/codet5_java_translation/merges.txt',\n",
              " 'models/codet5/codet5_java_translation/added_tokens.json')"
            ]
          },
          "metadata": {},
          "execution_count": 8
        }
      ]
    },
    {
      "cell_type": "code",
      "source": [
        "# zipping the finetuned model\n",
        "model_dir = 'models/codet5/codet5_java_translation'\n",
        "zip_path = 'models/codet5/codet5_java_translation.zip'\n",
        "\n",
        "shutil.make_archive(zip_path.replace('.zip', ''), 'zip', model_dir)\n",
        "FileLink(zip_path)"
      ],
      "metadata": {
        "colab": {
          "base_uri": "https://localhost:8080/",
          "height": 34
        },
        "id": "n--S7vkAGFDF",
        "outputId": "d6298049-5a15-4866-d355-9d6728de2a91"
      },
      "execution_count": null,
      "outputs": [
        {
          "output_type": "execute_result",
          "data": {
            "text/plain": [
              "/content/models/codet5/codet5_java_translation.zip"
            ],
            "text/html": [
              "<a href='models/codet5/codet5_java_translation.zip' target='_blank'>models/codet5/codet5_java_translation.zip</a><br>"
            ]
          },
          "metadata": {},
          "execution_count": 9
        }
      ]
    },
    {
      "cell_type": "code",
      "source": [
        "def get_dir_size(path):\n",
        "    total_size = 0\n",
        "    for dirpath, dirnames, filenames in os.walk(path):\n",
        "        for f in filenames:\n",
        "            fp = os.path.join(dirpath, f)\n",
        "            if os.path.isfile(fp):\n",
        "                total_size += os.path.getsize(fp)\n",
        "    return total_size\n",
        "\n",
        "size_bytes = get_dir_size('models/codet5/codet5_java_translation')\n",
        "size_mb = size_bytes / (1024 * 1024)\n",
        "\n",
        "print(f\"Directory size: {size_mb:.2f} MB\")"
      ],
      "metadata": {
        "colab": {
          "base_uri": "https://localhost:8080/"
        },
        "id": "hycqeTbnGQ_Z",
        "outputId": "d1f21c08-dcfe-4847-af49-1a9932751e88"
      },
      "execution_count": null,
      "outputs": [
        {
          "output_type": "stream",
          "name": "stdout",
          "text": [
            "Directory size: 231.69 MB\n"
          ]
        }
      ]
    },
    {
      "cell_type": "markdown",
      "source": [
        "#### Translation Generation"
      ],
      "metadata": {
        "id": "74-bAO73yN_r"
      }
    },
    {
      "cell_type": "code",
      "source": [
        "print(\"CodeT5 Code Translation Data:\")\n",
        "print(\"Training Data: \")\n",
        "train_translated = generate_translations(codet5_model, codet5_tokenizer, train_loader, output_file='outputs/codet5_translations/train.translated-python.python')"
      ],
      "metadata": {
        "colab": {
          "base_uri": "https://localhost:8080/"
        },
        "id": "AO060GwPyQUf",
        "outputId": "44f3c196-ad26-4be1-e3b8-81bc90274d6a",
        "jupyter": {
          "outputs_hidden": true,
          "source_hidden": true
        }
      },
      "outputs": [
        {
          "output_type": "stream",
          "name": "stdout",
          "text": [
            "CodeT5 Code Translation Data:\n",
            "Training Data: \n"
          ]
        },
        {
          "output_type": "stream",
          "name": "stderr",
          "text": [
            "Generating Translations: 100%|██████████| 432/432 [2:31:01<00:00, 20.98s/it]"
          ]
        },
        {
          "output_type": "stream",
          "name": "stdout",
          "text": [
            "\n",
            "✅ Translations saved to: outputs/codet5_translations/train.translated-python.python\n"
          ]
        },
        {
          "output_type": "stream",
          "name": "stderr",
          "text": [
            "\n"
          ]
        }
      ],
      "execution_count": null
    },
    {
      "cell_type": "code",
      "source": [
        "print(\"Validation Data: \")\n",
        "val_translated = generate_translations(codet5_model, codet5_tokenizer, val_loader, output_file='outputs/codet5_translations/valid.translated-python.python')"
      ],
      "metadata": {
        "colab": {
          "base_uri": "https://localhost:8080/"
        },
        "id": "3KdtETivyOgc",
        "outputId": "9b2d3afe-e448-45cb-bc29-03e62c629d43",
        "jupyter": {
          "source_hidden": true,
          "outputs_hidden": true
        }
      },
      "outputs": [
        {
          "output_type": "stream",
          "name": "stdout",
          "text": [
            "Validation Data: \n"
          ]
        },
        {
          "output_type": "stream",
          "name": "stderr",
          "text": [
            "Generating Translations: 100%|██████████| 4/4 [01:14<00:00, 18.55s/it]"
          ]
        },
        {
          "output_type": "stream",
          "name": "stdout",
          "text": [
            "\n",
            "✅ Translations saved to: outputs/codet5_translations/valid.translated-python.python\n"
          ]
        },
        {
          "output_type": "stream",
          "name": "stderr",
          "text": [
            "\n"
          ]
        }
      ],
      "execution_count": null
    },
    {
      "cell_type": "code",
      "source": [
        "print(\"Test Data: \")           # translated with beam size of 2 for next step correction\n",
        "test_translated = generate_translations(codet5_model, codet5_tokenizer, test_loader, output_file='outputs/codet5_translations/test.translated-python.python')"
      ],
      "metadata": {
        "colab": {
          "base_uri": "https://localhost:8080/"
        },
        "id": "JM2WHLlgyPcP",
        "outputId": "509072c4-232c-474d-b6ae-11e9f8b76a8f",
        "jupyter": {
          "outputs_hidden": true,
          "source_hidden": true
        }
      },
      "outputs": [
        {
          "output_type": "stream",
          "name": "stdout",
          "text": [
            "Test Data: \n"
          ]
        },
        {
          "output_type": "stream",
          "name": "stderr",
          "text": [
            "Generating Translations: 100%|██████████| 14/14 [04:54<00:00, 21.04s/it]"
          ]
        },
        {
          "output_type": "stream",
          "name": "stdout",
          "text": [
            "\n",
            "✅ Translations saved to: outputs/codet5_translations/test.translated-python.python\n"
          ]
        },
        {
          "output_type": "stream",
          "name": "stderr",
          "text": [
            "\n"
          ]
        }
      ],
      "execution_count": null
    },
    {
      "cell_type": "code",
      "source": [
        "print(\"Test Data for Evaluate the Model: \")           # translated with beam size of 10 and batch size of 8\n",
        "test_translated_eval = generate_translations(codet5_model, codet5_tokenizer, test_loader, output_file='outputs/codet5_translations/test.translated-python-eval.python')"
      ],
      "metadata": {
        "colab": {
          "base_uri": "https://localhost:8080/"
        },
        "id": "kEPyjnQdyPZ0",
        "outputId": "542ba372-d670-4193-ac96-79d6e26fc959",
        "jupyter": {
          "source_hidden": true,
          "outputs_hidden": true
        }
      },
      "outputs": [
        {
          "output_type": "stream",
          "name": "stdout",
          "text": [
            "Test Data for Evaluate the Model: \n"
          ]
        },
        {
          "output_type": "stream",
          "name": "stderr",
          "text": [
            "Generating Translations: 100%|██████████| 219/219 [22:52<00:00,  6.27s/it]"
          ]
        },
        {
          "output_type": "stream",
          "name": "stdout",
          "text": [
            "\n",
            "✅ Translations saved to: outputs/codet5_translations/test.translated-python-eval.python\n"
          ]
        },
        {
          "output_type": "stream",
          "name": "stderr",
          "text": [
            "\n"
          ]
        }
      ],
      "execution_count": null
    },
    {
      "cell_type": "markdown",
      "source": [
        "*****\n",
        "# Model Evaluation"
      ],
      "metadata": {
        "id": "lv5HyOKwyVPm"
      }
    },
    {
      "cell_type": "code",
      "source": [
        "evaluate_model((cwd+'/datasets/test.java-python.python'), (cwd+'/outputs/codet5_translations/test.translated-python-eval.python'))"
      ],
      "metadata": {
        "colab": {
          "base_uri": "https://localhost:8080/"
        },
        "id": "AZeaZOtByPZH",
        "outputId": "55c8d5bb-8175-47eb-ce7d-51ad630ef6dc",
        "jupyter": {
          "outputs_hidden": true,
          "source_hidden": true
        }
      },
      "outputs": [
        {
          "output_type": "execute_result",
          "data": {
            "text/plain": [
              "{'em_score': 0.028064146620847653, 'bleu': 0.546763524375258}"
            ]
          },
          "metadata": {},
          "execution_count": 11
        }
      ],
      "execution_count": null
    },
    {
      "cell_type": "markdown",
      "source": [
        "*****\n",
        "*****\n",
        "# PLBART\n",
        "*****\n",
        "*****"
      ],
      "metadata": {
        "id": "Td9NCwFZAwXB"
      }
    },
    {
      "cell_type": "markdown",
      "source": [
        "*****\n",
        "# PLBART Dataset & Functions"
      ],
      "metadata": {
        "id": "8xD7PYJAivCw"
      }
    },
    {
      "cell_type": "code",
      "source": [
        "class CodeCorrectionDataset(Dataset):\n",
        "    def __init__(self, translated_file, target_file, tokenizer, max_source_len, max_target_len, prefix=\"Correct this Python code: \"):\n",
        "        self.translated_codes = self.load_code(translated_file)\n",
        "        self.target_codes = self.load_code(target_file)\n",
        "        self.tokenizer = tokenizer\n",
        "        self.max_source_len = max_source_len\n",
        "        self.max_target_len = max_target_len\n",
        "        self.prefix = prefix\n",
        "\n",
        "        if len(self.translated_codes) != len(self.target_codes):\n",
        "            print(\"Dataset sizes do not match\")\n",
        "            raise ValueError(f\"Translated ({len(self.translated_codes)}) and Target ({len(self.target_codes)}) dataset sizes do not match\")\n",
        "\n",
        "    def load_code(self, file_path):\n",
        "        try:\n",
        "            data = []\n",
        "            with open(file_path, encoding='utf-8') as f:\n",
        "                while True:\n",
        "                    line = f.readline()\n",
        "                    if not line:\n",
        "                        break\n",
        "                    data.append(line.strip().replace(\"\\t\", \"    \"))\n",
        "            return data\n",
        "        except FileNotFoundError:\n",
        "            print(f\"File not found! {file_path}\")\n",
        "            raise\n",
        "        except Exception as e:\n",
        "            print(f\"Error reading file: {file_path}: {e}\")\n",
        "            raise\n",
        "\n",
        "    def __len__(self):\n",
        "        return len(self.translated_codes)\n",
        "\n",
        "    def __getitem__(self, idx):\n",
        "        try:\n",
        "            input_code = self.prefix + self.translated_codes[idx]\n",
        "            target_code = self.target_codes[idx]\n",
        "\n",
        "            input_encoding = self.tokenizer(\n",
        "                input_code,\n",
        "                max_length=self.max_source_len,\n",
        "                padding='max_length',\n",
        "                truncation=True,\n",
        "                return_tensors='pt'\n",
        "            )\n",
        "            target_encoding = self.tokenizer(\n",
        "                target_code,\n",
        "                max_length=self.max_target_len,\n",
        "                padding='max_length',\n",
        "                truncation=True,\n",
        "                return_tensors='pt'\n",
        "            )\n",
        "\n",
        "            return {\n",
        "                'input_ids': input_encoding['input_ids'].squeeze(),\n",
        "                'attention_mask': input_encoding['attention_mask'].squeeze(),\n",
        "                'labels': target_encoding['input_ids'].squeeze()\n",
        "            }\n",
        "        except Exception as e:\n",
        "            print(f\"Error tokenizing data at index {idx}: {str(e)}\")\n",
        "            raise"
      ],
      "metadata": {
        "id": "hN5SnpFcivvf",
        "trusted": true,
        "execution": {
          "iopub.status.busy": "2025-06-09T10:18:49.048786Z",
          "iopub.execute_input": "2025-06-09T10:18:49.049351Z",
          "iopub.status.idle": "2025-06-09T10:18:49.057080Z",
          "shell.execute_reply.started": "2025-06-09T10:18:49.049326Z",
          "shell.execute_reply": "2025-06-09T10:18:49.056304Z"
        },
        "jupyter": {
          "source_hidden": true
        }
      },
      "outputs": [],
      "execution_count": null
    },
    {
      "cell_type": "code",
      "source": [
        "# dataloader function\n",
        "def load_correction_data(translated_file, target_file, tokenizer, max_source_len, max_target_len, batch_size, shuffle=False):\n",
        "    dataset = CodeCorrectionDataset(\n",
        "        translated_file, target_file, tokenizer, max_source_len, max_target_len\n",
        "    )\n",
        "    dataloader = DataLoader(dataset, batch_size=batch_size, shuffle=shuffle, num_workers=4)\n",
        "    return dataloader"
      ],
      "metadata": {
        "id": "BKW2yDTlkk99",
        "trusted": true,
        "execution": {
          "iopub.status.busy": "2025-06-09T10:18:49.552527Z",
          "iopub.execute_input": "2025-06-09T10:18:49.553135Z",
          "iopub.status.idle": "2025-06-09T10:18:49.556708Z",
          "shell.execute_reply.started": "2025-06-09T10:18:49.553112Z",
          "shell.execute_reply": "2025-06-09T10:18:49.556148Z"
        },
        "jupyter": {
          "source_hidden": true
        }
      },
      "outputs": [],
      "execution_count": null
    },
    {
      "cell_type": "markdown",
      "source": [
        "*****\n",
        "# PLBART Training"
      ],
      "metadata": {
        "id": "9J5y-nHVkxsI"
      }
    },
    {
      "cell_type": "markdown",
      "source": [
        "#### Modell Loading"
      ],
      "metadata": {
        "id": "1iWh2z_rk5CI"
      }
    },
    {
      "cell_type": "code",
      "source": [
        "# load plbart tokenizers and model\n",
        "print(\"Loading PLBart model and tokenizer: \\n\")\n",
        "plbart_tokenizer = PLBartTokenizer.from_pretrained('uclanlp/plbart-base')\n",
        "plbart_model = PLBartForConditionalGeneration.from_pretrained('uclanlp/plbart-base').to(device)\n",
        "\n",
        "# loading dataset and create dataloader\n",
        "print(\"\\nLoading datasets\")\n",
        "train_loader = load_correction_data(\n",
        "    translated_file=cwd+'/outputs/codet5_translations/train.translated-python.python',\n",
        "    target_file=cwd+'/datasets/train.java-python.python',\n",
        "    tokenizer=plbart_tokenizer,\n",
        "    max_source_len=MAX_SOURCE_LEN_PYTHON,\n",
        "    max_target_len=MAX_TARGET_LEN_PYTHON,\n",
        "    batch_size=BATCH_SIZE,\n",
        "    shuffle=True\n",
        ")\n",
        "\n",
        "val_loader = load_correction_data(\n",
        "    translated_file=cwd+'/outputs/codet5_translations/valid.translated-python.python',\n",
        "    target_file=cwd+'/datasets/valid.java-python.python',\n",
        "    tokenizer=plbart_tokenizer,\n",
        "    max_source_len=MAX_SOURCE_LEN_PYTHON,\n",
        "    max_target_len=MAX_TARGET_LEN_PYTHON,\n",
        "    batch_size=BATCH_SIZE\n",
        ")\n",
        "test_loader = load_correction_data(\n",
        "    translated_file=cwd+'/outputs/codet5_translations/test.translated-python.python',\n",
        "    target_file=cwd+'/datasets/test.java-python.python',\n",
        "    tokenizer=plbart_tokenizer,\n",
        "    max_source_len=MAX_SOURCE_LEN_PYTHON,\n",
        "    max_target_len=MAX_TARGET_LEN_PYTHON,\n",
        "    batch_size=BATCH_SIZE\n",
        ")\n",
        "\n",
        "print(\"\\n-----------------------\")\n",
        "print(\"    Dataset Details:    \")\n",
        "print(\"-----------------------\")\n",
        "print(\"# of Training samples:\", len(train_loader.dataset))\n",
        "print(\"# of Validation samples:\", len(val_loader.dataset))\n",
        "print(\"# of Test samples:\", len(test_loader.dataset))\n",
        "print(\"-----------------------\\n\")"
      ],
      "metadata": {
        "id": "_-TaTQzrkx9M",
        "colab": {
          "base_uri": "https://localhost:8080/",
          "referenced_widgets": [
            "f4921f3313d0490f8a195ae2032ec742",
            "a65fc14041934ab7b3e3cb251c4dd649",
            "caa194c8d29b4f078788a632d31d858f",
            "ebde00cc40e8406f8f125000be9b6ad7"
          ]
        },
        "outputId": "4321b31f-a421-4c4b-b424-2e5a45ab15be",
        "trusted": true,
        "execution": {
          "iopub.status.busy": "2025-06-09T10:18:51.205166Z",
          "iopub.execute_input": "2025-06-09T10:18:51.205955Z",
          "iopub.status.idle": "2025-06-09T10:18:57.791236Z",
          "shell.execute_reply.started": "2025-06-09T10:18:51.205917Z",
          "shell.execute_reply": "2025-06-09T10:18:57.790350Z"
        }
      },
      "outputs": [
        {
          "name": "stdout",
          "text": "Loading PLBart model and tokenizer: \n\n",
          "output_type": "stream"
        },
        {
          "output_type": "display_data",
          "data": {
            "text/plain": "sentencepiece.bpe.model:   0%|          | 0.00/986k [00:00<?, ?B/s]",
            "application/vnd.jupyter.widget-view+json": {
              "version_major": 2,
              "version_minor": 0,
              "model_id": "f4921f3313d0490f8a195ae2032ec742"
            }
          },
          "metadata": {}
        },
        {
          "output_type": "display_data",
          "data": {
            "text/plain": "config.json:   0%|          | 0.00/783 [00:00<?, ?B/s]",
            "application/vnd.jupyter.widget-view+json": {
              "version_major": 2,
              "version_minor": 0,
              "model_id": "a65fc14041934ab7b3e3cb251c4dd649"
            }
          },
          "metadata": {}
        },
        {
          "output_type": "display_data",
          "data": {
            "text/plain": "pytorch_model.bin:   0%|          | 0.00/557M [00:00<?, ?B/s]",
            "application/vnd.jupyter.widget-view+json": {
              "version_major": 2,
              "version_minor": 0,
              "model_id": "caa194c8d29b4f078788a632d31d858f"
            }
          },
          "metadata": {}
        },
        {
          "output_type": "display_data",
          "data": {
            "text/plain": "model.safetensors:   0%|          | 0.00/557M [00:00<?, ?B/s]",
            "application/vnd.jupyter.widget-view+json": {
              "version_major": 2,
              "version_minor": 0,
              "model_id": "ebde00cc40e8406f8f125000be9b6ad7"
            }
          },
          "metadata": {}
        },
        {
          "name": "stdout",
          "text": "\nLoading datasets\n\n-----------------------\n    Dataset Details:    \n-----------------------\n# of Training samples: 55179\n# of Validation samples: 443\n# of Test samples: 1746\n-----------------------\n\n",
          "output_type": "stream"
        }
      ],
      "execution_count": null
    },
    {
      "cell_type": "markdown",
      "source": [
        "#### Datasets"
      ],
      "metadata": {
        "id": "EQJQ3doTl5xU"
      }
    },
    {
      "cell_type": "code",
      "source": [
        "def verify_dataset(translated, python_file):\n",
        "    with open(translated, 'r', encoding='utf-8') as jf, open(python_file, 'r', encoding='utf-8') as pf:\n",
        "        translated_lines = jf.readlines()\n",
        "        python_lines = pf.readlines()\n",
        "        print(f\"Translated Python file lines: {len(translated_lines)}\")\n",
        "        print(f\"Original Python file lines: {len(python_lines)}\")\n",
        "        print(\"\\nSample Translated Python:\\n\", translated_lines[0].strip() if translated_lines else \"Empty\")\n",
        "        print(\"\\nSample Original Python:\\n\", python_lines[0].strip() if python_lines else \"Empty\")\n",
        "\n",
        "verify_dataset('outputs/codet5_translations/train.translated-python.python', 'datasets/train.java-python.python')"
      ],
      "metadata": {
        "id": "KDzt0bXKl-nq",
        "colab": {
          "base_uri": "https://localhost:8080/"
        },
        "outputId": "140de637-2450-4506-ed7e-c02344492c63",
        "trusted": true,
        "execution": {
          "iopub.status.busy": "2025-06-09T10:11:58.454426Z",
          "iopub.execute_input": "2025-06-09T10:11:58.455008Z",
          "iopub.status.idle": "2025-06-09T10:11:58.604566Z",
          "shell.execute_reply.started": "2025-06-09T10:11:58.454987Z",
          "shell.execute_reply": "2025-06-09T10:11:58.603910Z"
        },
        "jupyter": {
          "outputs_hidden": true,
          "source_hidden": true
        }
      },
      "outputs": [
        {
          "name": "stdout",
          "text": "Translated Python file lines: 55179\nOriginal Python file lines: 55179\n\nSample Translated Python:\n class TreeNode : NEW_LINE INDENT def __init__ ( self , rootData ) : NEW_LINE INDENT self . val = rootData NEW_LINE self . left = None NEW_LINE self . right = None NEW_LINE DEDENT DEDENT class Solution ( object ) : NEW_LINE INDENT def convertBST ( self , root ) : NEW_LINE INDENT sum = 0 NEW_LINE node = root NEW_LINE stack = [ ] NEW_LINE while ( len ( stack ) != 0 or node != None ) : NEW_LINE INDENT while ( node != None ) : NEW_LINE INDENT stack . append ( node ) NEW_LINE node = node . right NEW_LINE DEDENT node = stack . pop ( ) NEW_LINE sum += node . val NEW_LINE node . val = sum NEW_LINE node = node . left NEW_LINE DEDENT return root NEW_LINE DEDENT def printTree_vLR ( self , node , arr ) : NEW_LINE INDENT if ( node != None ) : NEW_LINE INDENT arr . append ( node . val ) NEW_LINE arr = printTree_vLR ( node . left , arr ) NEW_LINE arr = printTree_vLR ( node . right ,\n\nSample Original Python:\n class TreeNode : NEW_LINE INDENT def __init__ ( self , rootData ) : NEW_LINE INDENT self . val = rootData NEW_LINE self . left = None NEW_LINE self . right = None NEW_LINE DEDENT DEDENT class Solution ( object ) : NEW_LINE INDENT def convertBST ( self , root ) : NEW_LINE INDENT total = 0 NEW_LINE node = root NEW_LINE stack = [ ] NEW_LINE while stack or node is not None : NEW_LINE INDENT while node is not None : NEW_LINE INDENT stack . append ( node ) NEW_LINE node = node . right NEW_LINE DEDENT node = stack . pop ( ) NEW_LINE total += node . val NEW_LINE node . val = total NEW_LINE node = node . left NEW_LINE DEDENT return root NEW_LINE DEDENT def printTree_vLR ( self , node , arr ) : NEW_LINE INDENT if node != None : NEW_LINE INDENT arr . append ( node . val ) NEW_LINE arr = self . printTree_vLR ( node . left , arr ) NEW_LINE arr = self . printTree_vLR ( node . right , arr ) NEW_LINE DEDENT return arr NEW_LINE DEDENT DEDENT if __name__ == \" _ _ main _ _ \" : NEW_LINE INDENT sObj = Solution ( ) NEW_LINE root1 = TreeNode ( 4 ) NEW_LINE root1 . left = TreeNode ( 1 ) NEW_LINE root1 . right = TreeNode ( 6 ) NEW_LINE root1 . left . left = TreeNode ( 0 ) NEW_LINE root1 . left . right = TreeNode ( 2 ) NEW_LINE root1 . right . left = TreeNode ( 5 ) NEW_LINE root1 . right . right = TreeNode ( 7 ) NEW_LINE root1 . left . right . right = TreeNode ( 3 ) NEW_LINE root1 . right . right . right = TreeNode ( 8 ) NEW_LINE out = sObj . convertBST ( root1 ) NEW_LINE arr = sObj . printTree_vLR ( out , [ ] ) NEW_LINE print ( arr ) NEW_LINE DEDENT\n",
          "output_type": "stream"
        }
      ],
      "execution_count": null
    },
    {
      "cell_type": "code",
      "source": [
        "sample_batch_python = next(iter(train_loader))  # get a single batch from the train_loader\n",
        "\n",
        "print(\"Sample batch from train_loader:\")\n",
        "for key, value in sample_batch_python.items():\n",
        "    print(f\"{key}:\")\n",
        "    print(value)\n",
        "    print()"
      ],
      "metadata": {
        "id": "Hbl4gjNTmAtw",
        "colab": {
          "base_uri": "https://localhost:8080/"
        },
        "outputId": "0debc161-af53-417e-a311-89411657e492",
        "trusted": true,
        "execution": {
          "iopub.status.busy": "2025-06-09T10:12:04.902367Z",
          "iopub.execute_input": "2025-06-09T10:12:04.903163Z",
          "iopub.status.idle": "2025-06-09T10:12:05.212564Z",
          "shell.execute_reply.started": "2025-06-09T10:12:04.903138Z",
          "shell.execute_reply": "2025-06-09T10:12:05.211807Z"
        },
        "jupyter": {
          "outputs_hidden": true,
          "source_hidden": true
        }
      },
      "outputs": [
        {
          "name": "stdout",
          "text": "Sample batch from train_loader:\ninput_ids:\ntensor([[16128,   143,  1123,  ...,     1,     1,     1],\n        [16128,   143,  1123,  ...,     1,     1,     1],\n        [16128,   143,  1123,  ...,     1,     1,     1],\n        ...,\n        [16128,   143,  1123,  ...,     1,     1,     1],\n        [16128,   143,  1123,  ...,     1,     1,     1],\n        [16128,   143,  1123,  ...,     1,     1,     1]])\n\nattention_mask:\ntensor([[1, 1, 1,  ..., 0, 0, 0],\n        [1, 1, 1,  ..., 0, 0, 0],\n        [1, 1, 1,  ..., 0, 0, 0],\n        ...,\n        [1, 1, 1,  ..., 0, 0, 0],\n        [1, 1, 1,  ..., 0, 0, 0],\n        [1, 1, 1,  ..., 0, 0, 0]])\n\nlabels:\ntensor([[   14,    16,    56,  ...,     1,     1,     1],\n        [  200,    24,   142,  ...,     1,     1,     1],\n        [  597,     5,   448,  ...,     1,     1,     1],\n        ...,\n        [  171,    24,   219,  ...,     1,     1,     1],\n        [  134, 26433,     5,  ...,    24,   410,     2],\n        [  134,   431,     5,  ...,     1,     1,     1]])\n\n",
          "output_type": "stream"
        }
      ],
      "execution_count": null
    },
    {
      "cell_type": "markdown",
      "source": [
        "#### Inital Training"
      ],
      "metadata": {
        "id": "ZqM5XydbmEsw"
      }
    },
    {
      "cell_type": "code",
      "source": [
        "data_collator = DataCollatorForSeq2Seq(\n",
        "    tokenizer=plbart_tokenizer,\n",
        "    model=plbart_model,\n",
        "    pad_to_multiple_of=8\n",
        ")"
      ],
      "metadata": {
        "id": "j1WjUtwsl6I8",
        "trusted": true,
        "execution": {
          "iopub.status.busy": "2025-06-09T10:19:35.928442Z",
          "iopub.execute_input": "2025-06-09T10:19:35.929085Z",
          "iopub.status.idle": "2025-06-09T10:19:35.932625Z",
          "shell.execute_reply.started": "2025-06-09T10:19:35.929061Z",
          "shell.execute_reply": "2025-06-09T10:19:35.932065Z"
        }
      },
      "outputs": [],
      "execution_count": null
    },
    {
      "cell_type": "code",
      "source": [
        "# initial training arguments for epoch 1 to 10\n",
        "initial_training_args = TrainingArguments(\n",
        "    output_dir='models/plbart',\n",
        "    num_train_epochs=PLBART_EPOCHS,\n",
        "    per_device_train_batch_size=BATCH_SIZE,\n",
        "    per_device_eval_batch_size=BATCH_SIZE,\n",
        "    gradient_accumulation_steps=GRADIENT_ACCUMULATION_STEPS,\n",
        "    learning_rate=PLBART_LEARNING_RATE,\n",
        "    weight_decay=PLBART_WEIGHT_DECAY,\n",
        "    eval_strategy=\"epoch\",\n",
        "    save_strategy=\"epoch\",\n",
        "    save_total_limit=10,\n",
        "    load_best_model_at_end=True,\n",
        "    metric_for_best_model=\"eval_loss\",\n",
        "    greater_is_better=False,\n",
        "    logging_dir='results/plbart',\n",
        "    logging_steps=10,\n",
        "    logging_strategy=\"epoch\",\n",
        "    warmup_ratio=0.1,\n",
        "    fp16=torch.cuda.is_available(),\n",
        "    report_to=\"none\",\n",
        "    save_safetensors=True\n",
        ")"
      ],
      "metadata": {
        "id": "AtbbL8g65gNz",
        "trusted": true,
        "execution": {
          "iopub.status.busy": "2025-06-09T10:19:36.161074Z",
          "iopub.execute_input": "2025-06-09T10:19:36.161338Z",
          "iopub.status.idle": "2025-06-09T10:19:36.197025Z",
          "shell.execute_reply.started": "2025-06-09T10:19:36.161319Z",
          "shell.execute_reply": "2025-06-09T10:19:36.196473Z"
        }
      },
      "outputs": [],
      "execution_count": null
    },
    {
      "cell_type": "code",
      "source": [
        "# Initializing trainer for the first phase of training\n",
        "trainer = Trainer(\n",
        "    model=plbart_model,\n",
        "    args=initial_training_args,\n",
        "    train_dataset=train_loader.dataset,\n",
        "    eval_dataset=val_loader.dataset,\n",
        "    data_collator=data_collator\n",
        ")"
      ],
      "metadata": {
        "id": "DyDvG0lo5zyp",
        "trusted": true,
        "execution": {
          "iopub.status.busy": "2025-06-09T10:19:36.458678Z",
          "iopub.execute_input": "2025-06-09T10:19:36.458942Z",
          "iopub.status.idle": "2025-06-09T10:19:36.475310Z",
          "shell.execute_reply.started": "2025-06-09T10:19:36.458922Z",
          "shell.execute_reply": "2025-06-09T10:19:36.474700Z"
        }
      },
      "outputs": [],
      "execution_count": null
    },
    {
      "cell_type": "code",
      "source": [
        "print(\"PLBart fine-tuning (Epochs 1-10)\")\n",
        "trainer.train()\n",
        "\n",
        "print(\"Initial training completed. Checkpoints saved in 'models/plbart'\")"
      ],
      "metadata": {
        "id": "Z_9HRFfWm77Q",
        "colab": {
          "base_uri": "https://localhost:8080/",
          "height": 94
        },
        "outputId": "2b0ea910-4625-4331-9518-4953de174996",
        "trusted": true,
        "execution": {
          "iopub.status.busy": "2025-06-09T10:19:39.258799Z",
          "iopub.execute_input": "2025-06-09T10:19:39.259389Z",
          "iopub.status.idle": "2025-06-09T17:23:52.762333Z",
          "shell.execute_reply.started": "2025-06-09T10:19:39.259364Z",
          "shell.execute_reply": "2025-06-09T17:23:52.761731Z"
        }
      },
      "outputs": [
        {
          "name": "stdout",
          "text": "PLBart fine-tuning (Epochs 1-10)\n",
          "output_type": "stream"
        },
        {
          "output_type": "display_data",
          "data": {
            "text/plain": "<IPython.core.display.HTML object>",
            "text/html": "\n    <div>\n      \n      <progress value='8620' max='8620' style='width:300px; height:20px; vertical-align: middle;'></progress>\n      [8620/8620 7:04:08, Epoch 9/10]\n    </div>\n    <table border=\"1\" class=\"dataframe\">\n  <thead>\n <tr style=\"text-align: left;\">\n      <th>Epoch</th>\n      <th>Training Loss</th>\n      <th>Validation Loss</th>\n    </tr>\n  </thead>\n  <tbody>\n    <tr>\n      <td>1</td>\n      <td>0.917800</td>\n      <td>0.285611</td>\n    </tr>\n    <tr>\n      <td>2</td>\n      <td>0.419300</td>\n      <td>0.265513</td>\n    </tr>\n    <tr>\n      <td>3</td>\n      <td>0.367100</td>\n      <td>0.264850</td>\n    </tr>\n    <tr>\n      <td>4</td>\n      <td>0.332000</td>\n      <td>0.262952</td>\n    </tr>\n    <tr>\n      <td>5</td>\n      <td>0.305600</td>\n      <td>0.265094</td>\n    </tr>\n    <tr>\n      <td>6</td>\n      <td>0.285000</td>\n      <td>0.266623</td>\n    </tr>\n    <tr>\n      <td>7</td>\n      <td>0.268800</td>\n      <td>0.268609</td>\n    </tr>\n    <tr>\n      <td>8</td>\n      <td>0.256500</td>\n      <td>0.271104</td>\n    </tr>\n    <tr>\n      <td>9</td>\n      <td>0.242200</td>\n      <td>0.274445</td>\n    </tr>\n  </tbody>\n</table><p>"
          },
          "metadata": {}
        },
        {
          "name": "stderr",
          "text": "There were missing keys in the checkpoint model loaded: ['model.encoder.embed_tokens.weight', 'model.decoder.embed_tokens.weight', 'lm_head.weight'].\n",
          "output_type": "stream"
        },
        {
          "name": "stdout",
          "text": "Initial training completed. Checkpoints saved in 'models/plbart'\n",
          "output_type": "stream"
        }
      ],
      "execution_count": null
    },
    {
      "cell_type": "markdown",
      "source": [
        "##### Saving Checkpoint"
      ],
      "metadata": {
        "id": "60zIGom19d2w"
      }
    },
    {
      "cell_type": "code",
      "source": [
        "# zipping the last checkpoint\n",
        "checkpoint_dir = 'models/plbart/checkpoint-8620'\n",
        "zip_path = 'models/plbart/checkpoint-8620.zip'\n",
        "\n",
        "shutil.make_archive(zip_path.replace('.zip', ''), 'zip', checkpoint_dir)\n",
        "FileLink(zip_path)"
      ],
      "metadata": {
        "colab": {
          "base_uri": "https://localhost:8080/",
          "height": 34
        },
        "id": "L-DwCzec81ks",
        "outputId": "6b63b0a7-251e-4bc2-d42f-76d577e77cf7",
        "trusted": true,
        "execution": {
          "iopub.status.busy": "2025-06-09T17:24:20.285417Z",
          "iopub.execute_input": "2025-06-09T17:24:20.285713Z",
          "iopub.status.idle": "2025-06-09T17:25:43.644369Z",
          "shell.execute_reply.started": "2025-06-09T17:24:20.285695Z",
          "shell.execute_reply": "2025-06-09T17:25:43.643741Z"
        }
      },
      "outputs": [
        {
          "execution_count": 13,
          "output_type": "execute_result",
          "data": {
            "text/plain": "/kaggle/working/models/plbart/checkpoint-8620.zip",
            "text/html": "<a href='models/plbart/checkpoint-8620.zip' target='_blank'>models/plbart/checkpoint-8620.zip</a><br>"
          },
          "metadata": {}
        }
      ],
      "execution_count": null
    },
    {
      "cell_type": "code",
      "source": [
        "# checking checkpoint size\n",
        "def get_dir_size(path):\n",
        "    total_size = 0\n",
        "    for dirpath, dirnames, filenames in os.walk(path):\n",
        "        for f in filenames:\n",
        "            fp = os.path.join(dirpath, f)\n",
        "            if os.path.isfile(fp):\n",
        "                total_size += os.path.getsize(fp)\n",
        "    return total_size\n",
        "\n",
        "size_bytes = get_dir_size('models/plbart/checkpoint-8620')\n",
        "size_mb = size_bytes / (1024 * 1024)\n",
        "\n",
        "print(f\"Directory size: {size_mb:.2f} MB\")"
      ],
      "metadata": {
        "trusted": true,
        "execution": {
          "iopub.status.busy": "2025-06-09T18:00:23.849736Z",
          "iopub.execute_input": "2025-06-09T18:00:23.849971Z",
          "iopub.status.idle": "2025-06-09T18:00:23.856073Z",
          "shell.execute_reply.started": "2025-06-09T18:00:23.849950Z",
          "shell.execute_reply": "2025-06-09T18:00:23.855442Z"
        },
        "id": "jfZoIJaY_k0V",
        "outputId": "01d2d9ae-9e94-472c-92c1-8b4fe37ac983"
      },
      "outputs": [
        {
          "name": "stdout",
          "text": "Directory size: 1594.65 MB\n",
          "output_type": "stream"
        }
      ],
      "execution_count": null
    },
    {
      "cell_type": "markdown",
      "source": [
        "#### Learning Curve"
      ],
      "metadata": {
        "id": "Z1HBzDVQ7cYf"
      }
    },
    {
      "cell_type": "code",
      "source": [
        "print(\"Training completed. Collecting metrics for learning curve...\")\n",
        "log_history = trainer.state.log_history\n",
        "\n",
        "# Separate training and validation losses with corresponding epochs\n",
        "train_losses = []\n",
        "train_epochs = []\n",
        "val_losses = []\n",
        "val_epochs = []\n",
        "\n",
        "for log in log_history:\n",
        "    if 'loss' in log and 'epoch' in log:  # Training loss\n",
        "        train_losses.append(log['loss'])\n",
        "        train_epochs.append(log['epoch'])\n",
        "    if 'eval_loss' in log and 'epoch' in log:  # Validation loss\n",
        "        val_losses.append(log['eval_loss'])\n",
        "        val_epochs.append(log['epoch'])\n",
        "\n",
        "# Print metrics for debugging\n",
        "print(\"Training epochs:\", train_epochs)\n",
        "print(\"Training losses:\", train_losses)\n",
        "print(\"Validation epochs:\", val_epochs)\n",
        "print(\"Validation losses:\", val_losses)\n",
        "\n",
        "# Plot the learning curve\n",
        "plt.figure(figsize=(10, 6))\n",
        "if train_epochs and train_losses:\n",
        "    plt.plot(train_epochs, train_losses, label='Training Loss', marker='o')\n",
        "if val_epochs and val_losses:\n",
        "    plt.plot(val_epochs, val_losses, label='Validation Loss', marker='o')\n",
        "plt.xlabel('Epoch')\n",
        "plt.ylabel('Loss')\n",
        "plt.title('PLBart Learning Curve')\n",
        "plt.legend()\n",
        "plt.grid(True)\n",
        "plt.savefig('results/plbart_learning_curve.png')\n",
        "plt.show()"
      ],
      "metadata": {
        "colab": {
          "base_uri": "https://localhost:8080/",
          "height": 656
        },
        "id": "ZlIhM_KB1Us5",
        "outputId": "4df8cf44-0611-4326-8b66-8332bdf76cba",
        "trusted": true,
        "execution": {
          "iopub.status.busy": "2025-06-09T17:27:29.203868Z",
          "iopub.execute_input": "2025-06-09T17:27:29.204438Z",
          "iopub.status.idle": "2025-06-09T17:27:29.869418Z",
          "shell.execute_reply.started": "2025-06-09T17:27:29.204416Z",
          "shell.execute_reply": "2025-06-09T17:27:29.868806Z"
        }
      },
      "outputs": [
        {
          "name": "stdout",
          "text": "Training completed. Collecting metrics for learning curve...\nTraining epochs: [1.0, 2.0, 3.0, 4.0, 5.0, 6.0, 7.0, 8.0, 9.0, 9.988985507246376]\nTraining losses: [0.9178, 0.4193, 0.3671, 0.332, 0.3056, 0.285, 0.2688, 0.2565, 0.2475, 0.2422]\nValidation epochs: [1.0, 2.0, 3.0, 4.0, 5.0, 6.0, 7.0, 8.0, 9.0, 9.988985507246376]\nValidation losses: [0.28561070561408997, 0.2655128240585327, 0.2648504972457886, 0.262951523065567, 0.265093594789505, 0.26662304997444153, 0.26860904693603516, 0.2711036205291748, 0.2724934220314026, 0.2744446396827698]\n",
          "output_type": "stream"
        },
        {
          "output_type": "display_data",
          "data": {
            "text/plain": "<Figure size 1000x600 with 1 Axes>",
            "image/png": "[encoded data removed]"
          },
          "metadata": {}
        }
      ],
      "execution_count": null
    },
    {
      "cell_type": "markdown",
      "source": [
        "#### Model Saving"
      ],
      "metadata": {
        "id": "gUglnfUa7gwb"
      }
    },
    {
      "cell_type": "code",
      "source": [
        "# saving trained model\n",
        "trainer.save_model('models/plbart/plbart_python_correction')\n",
        "plbart_tokenizer.save_pretrained('models/plbart/plbart_python_correction')"
      ],
      "metadata": {
        "id": "kSjLMzTpm96Y",
        "trusted": true,
        "execution": {
          "iopub.status.busy": "2025-06-09T17:30:37.859499Z",
          "iopub.execute_input": "2025-06-09T17:30:37.859807Z",
          "iopub.status.idle": "2025-06-09T17:30:39.657987Z",
          "shell.execute_reply.started": "2025-06-09T17:30:37.859785Z",
          "shell.execute_reply": "2025-06-09T17:30:39.657436Z"
        },
        "outputId": "f791e515-13d9-48fd-c8bd-2e2c0c2840c7"
      },
      "outputs": [
        {
          "execution_count": 21,
          "output_type": "execute_result",
          "data": {
            "text/plain": "('models/plbart/plbart_python_correction/tokenizer_config.json',\n 'models/plbart/plbart_python_correction/special_tokens_map.json',\n 'models/plbart/plbart_python_correction/sentencepiece.bpe.model',\n 'models/plbart/plbart_python_correction/added_tokens.json')"
          },
          "metadata": {}
        }
      ],
      "execution_count": null
    },
    {
      "cell_type": "code",
      "source": [
        "# zipping the finetuned model\n",
        "model_dir = 'models/plbart/plbart_python_correction'\n",
        "zip_path = 'models/plbart/plbart_python_correction.zip'\n",
        "\n",
        "shutil.make_archive(zip_path.replace('.zip', ''), 'zip', model_dir)\n",
        "FileLink(zip_path)"
      ],
      "metadata": {
        "trusted": true,
        "execution": {
          "iopub.status.busy": "2025-06-09T17:36:44.163053Z",
          "iopub.execute_input": "2025-06-09T17:36:44.163623Z",
          "iopub.status.idle": "2025-06-09T17:37:12.172679Z",
          "shell.execute_reply.started": "2025-06-09T17:36:44.163601Z",
          "shell.execute_reply": "2025-06-09T17:37:12.171744Z"
        },
        "id": "SzE5uXh0_k0X",
        "outputId": "6edaa755-30d3-41b8-eecb-4e89ae2dfea6"
      },
      "outputs": [
        {
          "execution_count": 25,
          "output_type": "execute_result",
          "data": {
            "text/plain": "/kaggle/working/models/plbart/plbart_python_correction.zip",
            "text/html": "<a href='models/plbart/plbart_python_correction.zip' target='_blank'>models/plbart/plbart_python_correction.zip</a><br>"
          },
          "metadata": {}
        }
      ],
      "execution_count": null
    },
    {
      "cell_type": "code",
      "source": [
        "# checking the model size\n",
        "size_bytes = get_dir_size('models/plbart/plbart_python_correction')\n",
        "size_mb = size_bytes / (1024 * 1024)\n",
        "\n",
        "print(f\"Directory size: {size_mb:.2f} MB\")"
      ],
      "metadata": {
        "trusted": true,
        "execution": {
          "iopub.status.busy": "2025-06-09T18:00:23.856633Z",
          "iopub.execute_input": "2025-06-09T18:00:23.856817Z",
          "iopub.status.idle": "2025-06-09T18:00:23.874623Z",
          "shell.execute_reply.started": "2025-06-09T18:00:23.856804Z",
          "shell.execute_reply": "2025-06-09T18:00:23.873840Z"
        },
        "id": "Ay7cBSHn_k0X",
        "outputId": "004c1018-e376-43e7-e7b9-de37e39ee1c8"
      },
      "outputs": [
        {
          "name": "stdout",
          "text": "Directory size: 532.25 MB\n",
          "output_type": "stream"
        }
      ],
      "execution_count": null
    },
    {
      "cell_type": "code",
      "source": [
        "# Save training metrics\n",
        "metrics = trainer.state.log_history\n",
        "metrics_df = pd.DataFrame([\n",
        "    {\n",
        "        'epoch': m.get('epoch', None),\n",
        "        'train_loss': m.get('loss', None),\n",
        "        'val_loss': m.get('eval_loss', None)\n",
        "    } for m in metrics if 'loss' in m or 'eval_loss' in m\n",
        "])\n",
        "\n",
        "csv_path = os.path.join('models/plbart', 'plbart_training_scores.csv')\n",
        "metrics_df.to_csv(csv_path, index=False)\n",
        "\n",
        "if os.path.exists(csv_path):\n",
        "    try:\n",
        "        if 'IPython' in sys.modules and hasattr(sys.modules['IPython'], 'get_ipython'):\n",
        "            csv_link = FileLink(csv_path)\n",
        "            display(csv_link)\n",
        "            print(f\"Download training metrics CSV: {csv_link}\")\n",
        "    except Exception as e:\n",
        "        print(f\"Failed to create FileLink. Access the metrics CSV at: {os.path.abspath(csv_path)}\")"
      ],
      "metadata": {
        "id": "mwaE07yZ0WZ3",
        "trusted": true,
        "execution": {
          "iopub.status.busy": "2025-06-09T17:39:07.941999Z",
          "iopub.execute_input": "2025-06-09T17:39:07.942675Z",
          "iopub.status.idle": "2025-06-09T17:39:08.002475Z",
          "shell.execute_reply.started": "2025-06-09T17:39:07.942644Z",
          "shell.execute_reply": "2025-06-09T17:39:08.001405Z"
        },
        "outputId": "d02bcde6-047d-4df9-e2c2-9fbc429645a8"
      },
      "outputs": [
        {
          "output_type": "display_data",
          "data": {
            "text/plain": "/kaggle/working/models/plbart/plbart_training_scores.csv",
            "text/html": "<a href='models/plbart/plbart_training_scores.csv' target='_blank'>models/plbart/plbart_training_scores.csv</a><br>"
          },
          "metadata": {}
        },
        {
          "name": "stdout",
          "text": "Download training metrics CSV: /kaggle/working/models/plbart/plbart_training_scores.csv\n",
          "output_type": "stream"
        }
      ],
      "execution_count": null
    },
    {
      "cell_type": "markdown",
      "source": [
        "# Generate Translation"
      ],
      "metadata": {
        "id": "WufGPqjR-N1-"
      }
    },
    {
      "cell_type": "code",
      "source": [
        "plbart_model"
      ],
      "metadata": {
        "colab": {
          "base_uri": "https://localhost:8080/"
        },
        "id": "zEiClqxz-1i2",
        "outputId": "0a0e9c4e-c0bd-45a2-8b48-29271ac3cf20",
        "jupyter": {
          "outputs_hidden": true
        },
        "trusted": true,
        "execution": {
          "iopub.status.busy": "2025-06-09T17:40:03.612271Z",
          "iopub.execute_input": "2025-06-09T17:40:03.612574Z",
          "iopub.status.idle": "2025-06-09T17:40:03.618858Z",
          "shell.execute_reply.started": "2025-06-09T17:40:03.612549Z",
          "shell.execute_reply": "2025-06-09T17:40:03.618094Z"
        }
      },
      "outputs": [
        {
          "execution_count": 30,
          "output_type": "execute_result",
          "data": {
            "text/plain": "PLBartForConditionalGeneration(\n  (model): PLBartModel(\n    (shared): PLBartScaledWordEmbedding(50005, 768, padding_idx=1)\n    (encoder): PLBartEncoder(\n      (embed_tokens): PLBartScaledWordEmbedding(50005, 768, padding_idx=1)\n      (embed_positions): PLBartLearnedPositionalEmbedding(1026, 768)\n      (layers): ModuleList(\n        (0-5): 6 x PLBartEncoderLayer(\n          (self_attn): PLBartAttention(\n            (k_proj): Linear(in_features=768, out_features=768, bias=True)\n            (v_proj): Linear(in_features=768, out_features=768, bias=True)\n            (q_proj): Linear(in_features=768, out_features=768, bias=True)\n            (out_proj): Linear(in_features=768, out_features=768, bias=True)\n          )\n          (self_attn_layer_norm): LayerNorm((768,), eps=1e-05, elementwise_affine=True)\n          (activation_fn): GELUActivation()\n          (fc1): Linear(in_features=768, out_features=3072, bias=True)\n          (fc2): Linear(in_features=3072, out_features=768, bias=True)\n          (final_layer_norm): LayerNorm((768,), eps=1e-05, elementwise_affine=True)\n        )\n      )\n      (layernorm_embedding): LayerNorm((768,), eps=1e-05, elementwise_affine=True)\n    )\n    (decoder): PLBartDecoder(\n      (embed_tokens): PLBartScaledWordEmbedding(50005, 768, padding_idx=1)\n      (embed_positions): PLBartLearnedPositionalEmbedding(1026, 768)\n      (layers): ModuleList(\n        (0-5): 6 x PLBartDecoderLayer(\n          (self_attn): PLBartAttention(\n            (k_proj): Linear(in_features=768, out_features=768, bias=True)\n            (v_proj): Linear(in_features=768, out_features=768, bias=True)\n            (q_proj): Linear(in_features=768, out_features=768, bias=True)\n            (out_proj): Linear(in_features=768, out_features=768, bias=True)\n          )\n          (activation_fn): GELUActivation()\n          (self_attn_layer_norm): LayerNorm((768,), eps=1e-05, elementwise_affine=True)\n          (encoder_attn): PLBartAttention(\n            (k_proj): Linear(in_features=768, out_features=768, bias=True)\n            (v_proj): Linear(in_features=768, out_features=768, bias=True)\n            (q_proj): Linear(in_features=768, out_features=768, bias=True)\n            (out_proj): Linear(in_features=768, out_features=768, bias=True)\n          )\n          (encoder_attn_layer_norm): LayerNorm((768,), eps=1e-05, elementwise_affine=True)\n          (fc1): Linear(in_features=768, out_features=3072, bias=True)\n          (fc2): Linear(in_features=3072, out_features=768, bias=True)\n          (final_layer_norm): LayerNorm((768,), eps=1e-05, elementwise_affine=True)\n        )\n      )\n      (layernorm_embedding): LayerNorm((768,), eps=1e-05, elementwise_affine=True)\n    )\n  )\n  (lm_head): Linear(in_features=768, out_features=50005, bias=False)\n)"
          },
          "metadata": {}
        }
      ],
      "execution_count": null
    },
    {
      "cell_type": "markdown",
      "source": [
        "#### Dataset Translation"
      ],
      "metadata": {
        "id": "e6UZjyyY_pqn"
      }
    },
    {
      "cell_type": "code",
      "source": [
        "os.makedirs('outputs/plbart_translations')\n",
        "print(\"Test Data for Evaluate the Model: \")           # translated with beam size of 10 and batch size of 8\n",
        "test_translated_eval = generate_translations(plbart_model, plbart_tokenizer, test_loader, output_file='outputs/plbart_translations/test.translated-python-eval.python')"
      ],
      "metadata": {
        "colab": {
          "base_uri": "https://localhost:8080/"
        },
        "id": "ceOMfdhm_IcQ",
        "outputId": "c54714dd-f4a2-44d9-e3fd-2fd64b8ede29",
        "trusted": true,
        "execution": {
          "iopub.status.busy": "2025-06-09T17:40:21.690290Z",
          "iopub.execute_input": "2025-06-09T17:40:21.691014Z",
          "iopub.status.idle": "2025-06-09T18:00:23.848182Z",
          "shell.execute_reply.started": "2025-06-09T17:40:21.690987Z",
          "shell.execute_reply": "2025-06-09T18:00:23.847409Z"
        }
      },
      "outputs": [
        {
          "name": "stdout",
          "text": "Test Data for Evaluate the Model: \n",
          "output_type": "stream"
        },
        {
          "name": "stderr",
          "text": "Generating Translations: 100%|██████████| 110/110 [20:02<00:00, 10.93s/it]",
          "output_type": "stream"
        },
        {
          "name": "stdout",
          "text": "\n✅ Translations saved to: outputs/plbart_translations/test.translated-python-eval.python\n",
          "output_type": "stream"
        },
        {
          "name": "stderr",
          "text": "\n",
          "output_type": "stream"
        }
      ],
      "execution_count": null
    },
    {
      "cell_type": "markdown",
      "source": [
        "*****\n",
        "# Evaluation"
      ],
      "metadata": {
        "id": "TPxhrbCI_wp-"
      }
    },
    {
      "cell_type": "code",
      "source": [
        "evaluate_model((cwd+'/datasets/test.java-python.python'), (cwd+'/outputs/plbart_translations/test.translated-python-eval.python'), stage=\"PLBART\")"
      ],
      "metadata": {
        "colab": {
          "base_uri": "https://localhost:8080/"
        },
        "id": "j1mCdHK7_wh7",
        "outputId": "bcabdcbe-dbfc-4caa-afd3-2cb54e544a22",
        "trusted": true,
        "execution": {
          "iopub.status.busy": "2025-06-09T18:01:05.731893Z",
          "iopub.execute_input": "2025-06-09T18:01:05.732577Z",
          "iopub.status.idle": "2025-06-09T18:01:07.770007Z",
          "shell.execute_reply.started": "2025-06-09T18:01:05.732548Z",
          "shell.execute_reply": "2025-06-09T18:01:07.769271Z"
        }
      },
      "outputs": [
        {
          "execution_count": 34,
          "output_type": "execute_result",
          "data": {
            "text/plain": "{'em_score': 0.006300114547537228, 'bleu': 0.536708325927905}"
          },
          "metadata": {}
        }
      ],
      "execution_count": null
    },
    {
      "cell_type": "markdown",
      "source": [
        "*****\n",
        "# Inference"
      ],
      "metadata": {
        "id": "kX6-SmJPG2H1"
      }
    },
    {
      "cell_type": "code",
      "source": [
        "class JavaToPythonPipeline:\n",
        "    def __init__(self,codet5_path='models/codet5/checkpoint_epoch_10', plbart_path='models/plbart/plbart_python_correction', device=None):\n",
        "        print(\"Initializing pipeline...\")\n",
        "        self.device = device or (\"cuda\" if torch.cuda.is_available() else \"cpu\")\n",
        "\n",
        "        # load codet5 andtokenizers model from checkppoint\n",
        "        print(\"Initializing CodeT5 model and tokenizer\")\n",
        "        self.codet5_tokenizer = RobertaTokenizer.from_pretrained(codet5_path)\n",
        "        self.codet5_model = T5ForConditionalGeneration.from_pretrained(codet5_path).to(self.device)\n",
        "\n",
        "        # load plbart model and tokenizers model from checkppoint\n",
        "        print(\"Initializing PLBART model and tokenizer\")\n",
        "        self.plbart_tokenizer = PLBartTokenizer.from_pretrained(plbart_path)\n",
        "        self.plbart_model = PLBartForConditionalGeneration.from_pretrained(plbart_path).to(self.device)\n",
        "\n",
        "    def translate_java_to_python(self, java_code):\n",
        "        \"\"\" step 1 translation using the codet5 model \"\"\"\n",
        "        input_text = f\"translate Java to Python: {java_code}\"\n",
        "        inputs = self.codet5_tokenizer(input_text, return_tensors=\"pt\", padding=True, truncation=True).to(self.device)\n",
        "        output_ids = self.codet5_model.generate(inputs[\"input_ids\"], max_length=256)\n",
        "        translated_code = self.codet5_tokenizer.decode(output_ids[0], skip_special_tokens=True)\n",
        "        return translated_code\n",
        "\n",
        "    def correct_python_code(self, python_code):\n",
        "        \"\"\" step 2 correction or minimize of the translated python code \"\"\"\n",
        "        inputs = self.plbart_tokenizer(python_code, return_tensors=\"pt\", padding=True, truncation=True).to(self.device)\n",
        "        output_ids = self.plbart_model.generate(inputs[\"input_ids\"], max_length=256)\n",
        "        corrected_code = self.plbart_tokenizer.decode(output_ids[0], skip_special_tokens=True)\n",
        "        return corrected_code\n",
        "\n",
        "    def restore_python_code(self, encoded_code):\n",
        "        lines = encoded_code.split(\"NEW_LINE\")\n",
        "        indent_level = 0\n",
        "        indent_str = \"    \"\n",
        "        restored_lines = []\n",
        "\n",
        "        for raw_line in lines:\n",
        "            line = raw_line.strip()\n",
        "            while line.startswith(\"DEDENT\"):\n",
        "                indent_level = max(indent_level - 1, 0)\n",
        "                line = line[len(\"DEDENT\"):].strip()\n",
        "            while line.startswith(\"INDENT\"):\n",
        "                indent_level += 1\n",
        "                line = line[len(\"INDENT\"):].strip()\n",
        "\n",
        "            if line:\n",
        "                normalized_main_line = \"if __name__ == '__main__':\"\n",
        "                cleaned_line = line.replace(\" \", \"\").replace('\"', \"'\")\n",
        "                if cleaned_line == \"if__name__=='__main__':\":\n",
        "                    restored_lines.append(normalized_main_line)\n",
        "                else:\n",
        "                    restored_lines.append(indent_str * indent_level + line)\n",
        "\n",
        "        return \"\\n\".join(restored_lines)\n",
        "\n",
        "    def __call__(self, java_code, debug=False):\n",
        "        translated = self.translate_java_to_python(java_code)\n",
        "        minimized = self.correct_python_code(translated)\n",
        "\n",
        "\n",
        "        translated_restored = self.restore_python_code(translated)\n",
        "        minimized_restored = self.restore_python_code(minimized)\n",
        "\n",
        "        return translated_restored, minimized_restored"
      ],
      "metadata": {
        "id": "DUxn7oAGL8_L"
      },
      "execution_count": 33,
      "outputs": []
    },
    {
      "cell_type": "code",
      "source": [
        "pipeline = JavaToPythonPipeline()\n",
        "\n",
        "java_code_sample_0 = \"\"\"\n",
        "public class HelloWorld {\n",
        "    public static void main(String[] args) {\n",
        "        System.out.println(\"Hello, World!\");\n",
        "    }\n",
        "}\n",
        "\"\"\"\n",
        "\n",
        "java_code_sample_1 = \"\"\"\n",
        "public class Main {\n",
        "  public static void main(String[] args) {\n",
        "    int result = sum(5, 10);\n",
        "    System.out.println(result);\n",
        "  }\n",
        "  public static int sum(int start, int end) {\n",
        "    if (end > start) {\n",
        "      return end + sum(start, end - 1);\n",
        "    } else {\n",
        "      return end;\n",
        "    }\n",
        "  }\n",
        "}\n",
        "\"\"\"\n",
        "\n",
        "java_code_sample_2=\"\"\"\n",
        "import java.util.HashSet;\n",
        "\n",
        "public class Main {\n",
        "  public static void main(String[] args) {\n",
        "    HashSet<String> cars = new HashSet<String>();\n",
        "    cars.add(\"Volvo\");\n",
        "    cars.add(\"BMW\");\n",
        "    cars.add(\"Ford\");\n",
        "    cars.add(\"BMW\");\n",
        "    cars.add(\"Mazda\");\n",
        "    System.out.println(cars);\n",
        "  }\n",
        "}\n",
        "\"\"\"\n",
        "\n",
        "java_code_sample_3 = \"\"\"\n",
        "public class WhileLoopExample {\n",
        "    public static void main(String[] args) {\n",
        "        int count = 1;\n",
        "\n",
        "        while (count <= 5) {\n",
        "            System.out.println(\"Count is: \" + count);\n",
        "            count++;\n",
        "        }\n",
        "    }\n",
        "}\n",
        "\"\"\"\n",
        "\n",
        "java_code_sample_4 = \"\"\"\n",
        "public class CountFives {\n",
        "    public static void main(String[] args) {\n",
        "        int[] numbers = {5, 1, 5, 3, 5, 7, 2, 5};\n",
        "        int count = 0;\n",
        "\n",
        "        for (int num : numbers) {\n",
        "            if (num == 5) {\n",
        "                count++;\n",
        "            }\n",
        "        }\n",
        "\n",
        "        System.out.println(\"Number of times 5 appears: \" + count);\n",
        "    }\n",
        "}\n",
        "\"\"\""
      ],
      "metadata": {
        "colab": {
          "base_uri": "https://localhost:8080/"
        },
        "id": "W7Bu2nBZL5-b",
        "outputId": "c8a32660-4ee7-4493-dff3-cc7eaea1b2e4"
      },
      "execution_count": 34,
      "outputs": [
        {
          "output_type": "stream",
          "name": "stdout",
          "text": [
            "Initializing pipeline...\n",
            "Initializing CodeT5 model and tokenizer\n",
            "Initializing PLBART model and tokenizer\n"
          ]
        }
      ]
    },
    {
      "cell_type": "code",
      "source": [
        "v1, v2 = pipeline(java_code_sample_0)\n",
        "print(\"Example: 1 =========================================================================================\")\n",
        "print(\"Java Code: \\n\",java_code_sample_0)\n",
        "print(\"\\nInitial Translated Python Code:\\n\", v1)\n",
        "print(\"\\nMinimized/Corrected Python Code:\\n\", v2)\n",
        "\n",
        "v1, v2 = pipeline(java_code_sample_1)\n",
        "print(\"\\nExample: 2 =========================================================================================\")\n",
        "print(\"Java Code: \\n\",java_code_sample_1)\n",
        "print(\"\\nInitial Translated Python Code:\\n\", v1)\n",
        "print(\"\\nMinimized/Corrected Python Code:\\n\", v2)\n",
        "\n",
        "v1, v2 = pipeline(java_code_sample_2)\n",
        "print(\"\\nExample: 3 =========================================================================================\")\n",
        "print(\"Java Code: \\n\",java_code_sample_2)\n",
        "print(\"\\nInitial Translated Python Code:\\n\", v1)\n",
        "print(\"\\nMinimized/Corrected Python Code:\\n\", v2)\n",
        "\n",
        "v1, v2 = pipeline(java_code_sample_3)\n",
        "print(\"\\nExample: 4 =========================================================================================\")\n",
        "print(\"Java Code: \\n\",java_code_sample_3)\n",
        "print(\"\\nInitial Translated Python Code:\\n\", v1)\n",
        "print(\"\\nMinimized/Corrected Python Code:\\n\", v2)\n",
        "\n",
        "v1, v2 = pipeline(java_code_sample_4)\n",
        "print(\"\\nExample: 5 =========================================================================================\")\n",
        "print(\"Java Code: \\n\",java_code_sample_4)\n",
        "print(\"\\nInitial Translated Python Code:\\n\", v1)\n",
        "print(\"\\nMinimized/Corrected Python Code:\\n\", v2)"
      ],
      "metadata": {
        "id": "KfrhRQ37X0-0",
        "colab": {
          "base_uri": "https://localhost:8080/"
        },
        "outputId": "1045c345-ab94-4830-9c6f-0538ef86c48d"
      },
      "execution_count": 35,
      "outputs": [
        {
          "output_type": "stream",
          "name": "stderr",
          "text": [
            "Asking to truncate to max_length but no maximum length is provided and the model has no predefined maximum length. Default to no truncation.\n"
          ]
        },
        {
          "output_type": "stream",
          "name": "stdout",
          "text": [
            "Example: 1 =========================================================================================\n",
            "Java Code: \n",
            " \n",
            "public class HelloWorld {\n",
            "    public static void main(String[] args) {\n",
            "        System.out.println(\"Hello, World!\");\n",
            "    }\n",
            "}\n",
            "\n",
            "\n",
            "Initial Translated Python Code:\n",
            " def main ( ) :\n",
            "    print ( \"Hello , World!\" )\n",
            "if __name__ == '__main__':\n",
            "    main ( )\n",
            "\n",
            "Minimized/Corrected Python Code:\n",
            " print ( \"Hello, World \" )\n",
            "\n",
            "Example: 2 =========================================================================================\n",
            "Java Code: \n",
            " \n",
            "public class Main {\n",
            "  public static void main(String[] args) {\n",
            "    int result = sum(5, 10);\n",
            "    System.out.println(result);\n",
            "  }\n",
            "  public static int sum(int start, int end) {\n",
            "    if (end > start) {\n",
            "      return end + sum(start, end - 1);\n",
            "    } else {\n",
            "      return end;\n",
            "    }\n",
            "  }\n",
            "}\n",
            "\n",
            "\n",
            "Initial Translated Python Code:\n",
            " def sum ( start , end ) :\n",
            "    if end > start :\n",
            "        return end + sum ( start , end - 1 )\n",
            "    else :\n",
            "        return end\n",
            "result = sum ( 5 , 10 )\n",
            "print ( result )\n",
            "\n",
            "Minimized/Corrected Python Code:\n",
            " def sum ( start, end ) :\n",
            "    if end > start :\n",
            "        return end + sum ( start, end - 1 )\n",
            "    else :\n",
            "        return end\n",
            "result = sum ( 5, 10 )\n",
            "print ( result )\n",
            "\n",
            "Example: 3 =========================================================================================\n",
            "Java Code: \n",
            " \n",
            "import java.util.HashSet;\n",
            "\n",
            "public class Main {\n",
            "  public static void main(String[] args) {\n",
            "    HashSet<String> cars = new HashSet<String>();\n",
            "    cars.add(\"Volvo\");\n",
            "    cars.add(\"BMW\");\n",
            "    cars.add(\"Ford\");\n",
            "    cars.add(\"BMW\");\n",
            "    cars.add(\"Mazda\");\n",
            "    System.out.println(cars);\n",
            "  }\n",
            "}\n",
            "\n",
            "\n",
            "Initial Translated Python Code:\n",
            " import sys\n",
            "def main ( ) :\n",
            "    cars = [ \"Volvo \" , \" BMW \" , \" Ford \" , \" BMW \" , \" Mazda \" ]\n",
            "    cars . sort ( )\n",
            "    print ( cars [ 0 ] )\n",
            "if __name__ == '__main__':\n",
            "    main ( )\n",
            "\n",
            "Minimized/Corrected Python Code:\n",
            " if __name__ == '__main__':\n",
            "    print ( sorted ( [ 'Volvo ','BMW ','Ford ','Mazda'] ) [ 0 ] )\n",
            "\n",
            "Example: 4 =========================================================================================\n",
            "Java Code: \n",
            " \n",
            "public class WhileLoopExample {\n",
            "    public static void main(String[] args) {\n",
            "        int count = 1;\n",
            "\n",
            "        while (count <= 5) {\n",
            "            System.out.println(\"Count is: \" + count);\n",
            "            count++;\n",
            "        }\n",
            "    }\n",
            "}\n",
            "\n",
            "\n",
            "Initial Translated Python Code:\n",
            " def main ( ) :\n",
            "    count = 1\n",
            "    while ( count <= 5 ) :\n",
            "        print ( \"Count is : \" , count )\n",
            "        count += 1\n",
            "    bearer = 1\n",
            "    while ( count <= 5 ) :\n",
            "        print ( \"\n",
            "bearer \" , count )\n",
            "        count += 1\n",
            "if __name__ == '__main__':\n",
            "    main ( )\n",
            "\n",
            "Minimized/Corrected Python Code:\n",
            " count = 1\n",
            "while ( count <= 5 ) :\n",
            "    print ( \"Count is : \", count )\n",
            "    count += 1\n",
            "bearer = 1\n",
            "while ( count <= 5 ) :\n",
            "    print ( \" bearer is : \", bearer )\n",
            "    bearer += 1\n",
            "\n",
            "Example: 5 =========================================================================================\n",
            "Java Code: \n",
            " \n",
            "public class CountFives {\n",
            "    public static void main(String[] args) {\n",
            "        int[] numbers = {5, 1, 5, 3, 5, 7, 2, 5};\n",
            "        int count = 0;\n",
            "\n",
            "        for (int num : numbers) {\n",
            "            if (num == 5) {\n",
            "                count++;\n",
            "            }\n",
            "        }\n",
            "\n",
            "        System.out.println(\"Number of times 5 appears: \" + count);\n",
            "    }\n",
            "}\n",
            "\n",
            "\n",
            "Initial Translated Python Code:\n",
            " def count_of_times ( numbers ) :\n",
            "    count = 0\n",
            "    for num in numbers :\n",
            "        if num == 5 :\n",
            "            count += 1\n",
            "    return count\n",
            "if __name__ == '__main__':\n",
            "    numbers = [ 5 , 1 , 5 , 3 , 5 , 7 , 2 , 5 ]\n",
            "    count = 0\n",
            "    for num in numbers :\n",
            "        if num == 5 :\n",
            "            count += 1\n",
            "    print ( count_of_times ( numbers ) )\n",
            "\n",
            "Minimized/Corrected Python Code:\n",
            " count_of_times ( numbers ) :\n",
            "    count = 0\n",
            "    for num in numbers :\n",
            "        if num == 5 :\n",
            "            count += 1\n",
            "    return count\n",
            "if __name__ == '__main__':\n",
            "    numbers = [ 5, 1, 5, 3, 5, 7, 2, 5 ]\n",
            "    count = 0\n",
            "    for num in numbers :\n",
            "        if num == 5 :\n",
            "            count += 1\n",
            "    print ( count_of_times ( numbers ) )\n"
          ]
        }
      ]
    }
  ]
}